{
  "nbformat": 4,
  "nbformat_minor": 0,
  "metadata": {
    "colab": {
      "name": "Multivariate time series forecasting.ipynb",
      "provenance": [],
      "collapsed_sections": [],
      "include_colab_link": true
    },
    "kernelspec": {
      "name": "python3",
      "display_name": "Python 3"
    }
  },
  "cells": [
    {
      "cell_type": "markdown",
      "metadata": {
        "id": "view-in-github",
        "colab_type": "text"
      },
      "source": [
        "<a href=\"https://colab.research.google.com/github/tariqmhmd5/Multivariate-time-series-forecasting/blob/master/Multivariate_time_series_forecasting.ipynb\" target=\"_parent\"><img src=\"https://colab.research.google.com/assets/colab-badge.svg\" alt=\"Open In Colab\"/></a>"
      ]
    },
    {
      "cell_type": "code",
      "metadata": {
        "id": "44ZGS-ZzeFd3",
        "colab_type": "code",
        "colab": {}
      },
      "source": [
        "import numpy as np\n",
        "import pandas as pd\n",
        "import matplotlib.pyplot as plt\n",
        "from keras.models import Sequential\n",
        "from keras.layers import LSTM, Dense, Dropout, GRU\n",
        "import warnings\n",
        "warnings.filterwarnings(\"ignore\")\n",
        "%matplotlib inline\n",
        "pd.set_option('display.max_rows', 1000)\n",
        "pd.options.display.float_format = '{:.2f}'.format\n",
        "np.set_printoptions(suppress=True)"
      ],
      "execution_count": 1,
      "outputs": []
    },
    {
      "cell_type": "code",
      "metadata": {
        "id": "hR3QJY-meJ6p",
        "colab_type": "code",
        "colab": {}
      },
      "source": [
        "confirmed_df = pd.read_csv('time_series_covid19_confirmed_global.csv')\n",
        "deaths_df = pd.read_csv('time_series_covid19_deaths_global.csv')\n",
        "recoveries_df = pd.read_csv('time_series_covid19_recovered_global.csv')\n",
        "na_columns = (confirmed_df.isna().sum() / confirmed_df.shape[0]) > 0.99\n",
        "na_columns = na_columns[na_columns]\n",
        "\n",
        "confirmed_df = confirmed_df.drop(na_columns.index, axis=1)\n",
        "deaths_df = deaths_df.drop(na_columns.index, axis=1)\n",
        "recoveries_df = recoveries_df.drop(na_columns.index, axis=1)\n",
        "confirmed_df = confirmed_df.melt(id_vars=['Country/Region', 'Province/State', 'Lat', 'Long'], var_name='date', value_name='confirmed')\n",
        "deaths_df = deaths_df.melt(id_vars=['Country/Region', 'Province/State', 'Lat', 'Long'], var_name='date', value_name='deaths')\n",
        "recoveries_df = recoveries_df.melt(id_vars=['Country/Region', 'Province/State', 'Lat', 'Long'], var_name='date', value_name='recoveries')\n",
        "confirmed_df['date'] = pd.to_datetime(confirmed_df['date'])\n",
        "deaths_df['date'] = pd.to_datetime(deaths_df['date'])\n",
        "recoveries_df['date'] = pd.to_datetime(recoveries_df['date'])\n",
        "data=confirmed_df.merge(deaths_df)\n",
        "data=data[data['Country/Region']=='Canada']\n",
        "data=data[data['Province/State']=='Alberta']\n",
        "alberta=pd.read_csv('AB.csv')\n",
        "alberta.drop(['LOCAL_YEAR', 'LOCAL_MONTH', 'LOCAL_DAY'],axis=1,inplace=True)\n",
        "alberta = alberta.rename(columns={'LOCAL_DATE': 'date'})\n",
        "alberta['date'] = pd.to_datetime(alberta['date'])\n"
      ],
      "execution_count": 2,
      "outputs": []
    },
    {
      "cell_type": "code",
      "metadata": {
        "id": "mkXN2QET5K7z",
        "colab_type": "code",
        "colab": {}
      },
      "source": [
        "confirmed_df.to_csv('data')"
      ],
      "execution_count": 3,
      "outputs": []
    },
    {
      "cell_type": "code",
      "metadata": {
        "id": "Vbeni3mDeo3c",
        "colab_type": "code",
        "colab": {}
      },
      "source": [
        "alberta.set_index('PROVINCE_CODE',inplace=True)\n",
        "alberta = alberta.rename(index={'AB': 'Alberta','BC':'British Columbia','MB':'Manitoba','NB':'New Brunswick','NL':'Newfoundland and Labrador','NS':'Nova Scotia','NT':'Northwest Territories','NU':'Nunavut','ON':'Ontario','PE':'Prince Edward Island','QC':'Quebec','SK':'Saskatchewan','YT':'Yukon'})\n",
        "alberta = alberta.rename(columns={'PROVINCE_CODE': 'Province/State'})\n",
        "alberta.reset_index(inplace=True)"
      ],
      "execution_count": 4,
      "outputs": []
    },
    {
      "cell_type": "code",
      "metadata": {
        "id": "e56WtSFFer_X",
        "colab_type": "code",
        "colab": {
          "base_uri": "https://localhost:8080/",
          "height": 309
        },
        "outputId": "da360a92-8a29-421f-a0e5-8037b60baee1"
      },
      "source": [
        "alberta.head()"
      ],
      "execution_count": 5,
      "outputs": [
        {
          "output_type": "execute_result",
          "data": {
            "text/html": [
              "<div>\n",
              "<style scoped>\n",
              "    .dataframe tbody tr th:only-of-type {\n",
              "        vertical-align: middle;\n",
              "    }\n",
              "\n",
              "    .dataframe tbody tr th {\n",
              "        vertical-align: top;\n",
              "    }\n",
              "\n",
              "    .dataframe thead th {\n",
              "        text-align: right;\n",
              "    }\n",
              "</style>\n",
              "<table border=\"1\" class=\"dataframe\">\n",
              "  <thead>\n",
              "    <tr style=\"text-align: right;\">\n",
              "      <th></th>\n",
              "      <th>PROVINCE_CODE</th>\n",
              "      <th>date</th>\n",
              "      <th>MEAN_TEMPERATURE</th>\n",
              "      <th>MIN_TEMPERATURE</th>\n",
              "      <th>MAX_TEMPERATURE</th>\n",
              "      <th>HEATING_DEGREE_DAYS</th>\n",
              "      <th>MIN_REL_HUMIDITY</th>\n",
              "      <th>MAX_REL_HUMIDITY</th>\n",
              "      <th>total_tested</th>\n",
              "      <th>daily_tested</th>\n",
              "    </tr>\n",
              "  </thead>\n",
              "  <tbody>\n",
              "    <tr>\n",
              "      <th>0</th>\n",
              "      <td>Alberta</td>\n",
              "      <td>2020-11-02</td>\n",
              "      <td>nan</td>\n",
              "      <td>nan</td>\n",
              "      <td>nan</td>\n",
              "      <td>nan</td>\n",
              "      <td>nan</td>\n",
              "      <td>nan</td>\n",
              "      <td>0</td>\n",
              "      <td>0</td>\n",
              "    </tr>\n",
              "    <tr>\n",
              "      <th>1</th>\n",
              "      <td>Alberta</td>\n",
              "      <td>2020-12-02</td>\n",
              "      <td>-28.10</td>\n",
              "      <td>-38.00</td>\n",
              "      <td>-18.30</td>\n",
              "      <td>46.10</td>\n",
              "      <td>42.00</td>\n",
              "      <td>75.00</td>\n",
              "      <td>0</td>\n",
              "      <td>0</td>\n",
              "    </tr>\n",
              "    <tr>\n",
              "      <th>2</th>\n",
              "      <td>Alberta</td>\n",
              "      <td>2020-02-13</td>\n",
              "      <td>-19.80</td>\n",
              "      <td>-25.60</td>\n",
              "      <td>-14.00</td>\n",
              "      <td>37.80</td>\n",
              "      <td>68.00</td>\n",
              "      <td>82.00</td>\n",
              "      <td>0</td>\n",
              "      <td>0</td>\n",
              "    </tr>\n",
              "    <tr>\n",
              "      <th>3</th>\n",
              "      <td>Alberta</td>\n",
              "      <td>2020-02-14</td>\n",
              "      <td>-23.70</td>\n",
              "      <td>-29.40</td>\n",
              "      <td>-17.90</td>\n",
              "      <td>41.70</td>\n",
              "      <td>47.00</td>\n",
              "      <td>72.00</td>\n",
              "      <td>0</td>\n",
              "      <td>0</td>\n",
              "    </tr>\n",
              "    <tr>\n",
              "      <th>4</th>\n",
              "      <td>Alberta</td>\n",
              "      <td>2020-02-15</td>\n",
              "      <td>-27.50</td>\n",
              "      <td>-34.80</td>\n",
              "      <td>-20.20</td>\n",
              "      <td>45.50</td>\n",
              "      <td>52.00</td>\n",
              "      <td>72.00</td>\n",
              "      <td>0</td>\n",
              "      <td>0</td>\n",
              "    </tr>\n",
              "  </tbody>\n",
              "</table>\n",
              "</div>"
            ],
            "text/plain": [
              "  PROVINCE_CODE       date  ...  total_tested  daily_tested\n",
              "0       Alberta 2020-11-02  ...             0             0\n",
              "1       Alberta 2020-12-02  ...             0             0\n",
              "2       Alberta 2020-02-13  ...             0             0\n",
              "3       Alberta 2020-02-14  ...             0             0\n",
              "4       Alberta 2020-02-15  ...             0             0\n",
              "\n",
              "[5 rows x 10 columns]"
            ]
          },
          "metadata": {
            "tags": []
          },
          "execution_count": 5
        }
      ]
    },
    {
      "cell_type": "code",
      "metadata": {
        "id": "XMEsvbElfsyH",
        "colab_type": "code",
        "colab": {}
      },
      "source": [
        "data=data[data['date']>='2020-02-11']"
      ],
      "execution_count": 6,
      "outputs": []
    },
    {
      "cell_type": "code",
      "metadata": {
        "id": "pBQffizchy4r",
        "colab_type": "code",
        "colab": {
          "base_uri": "https://localhost:8080/",
          "height": 204
        },
        "outputId": "7460e347-3db3-42d5-f4b4-54e35d63c643"
      },
      "source": [
        "data.head()"
      ],
      "execution_count": 7,
      "outputs": [
        {
          "output_type": "execute_result",
          "data": {
            "text/html": [
              "<div>\n",
              "<style scoped>\n",
              "    .dataframe tbody tr th:only-of-type {\n",
              "        vertical-align: middle;\n",
              "    }\n",
              "\n",
              "    .dataframe tbody tr th {\n",
              "        vertical-align: top;\n",
              "    }\n",
              "\n",
              "    .dataframe thead th {\n",
              "        text-align: right;\n",
              "    }\n",
              "</style>\n",
              "<table border=\"1\" class=\"dataframe\">\n",
              "  <thead>\n",
              "    <tr style=\"text-align: right;\">\n",
              "      <th></th>\n",
              "      <th>Country/Region</th>\n",
              "      <th>Province/State</th>\n",
              "      <th>Lat</th>\n",
              "      <th>Long</th>\n",
              "      <th>date</th>\n",
              "      <th>confirmed</th>\n",
              "      <th>deaths</th>\n",
              "    </tr>\n",
              "  </thead>\n",
              "  <tbody>\n",
              "    <tr>\n",
              "      <th>5359</th>\n",
              "      <td>Canada</td>\n",
              "      <td>Alberta</td>\n",
              "      <td>53.93</td>\n",
              "      <td>-116.58</td>\n",
              "      <td>2020-02-11</td>\n",
              "      <td>0</td>\n",
              "      <td>0</td>\n",
              "    </tr>\n",
              "    <tr>\n",
              "      <th>5625</th>\n",
              "      <td>Canada</td>\n",
              "      <td>Alberta</td>\n",
              "      <td>53.93</td>\n",
              "      <td>-116.58</td>\n",
              "      <td>2020-02-12</td>\n",
              "      <td>0</td>\n",
              "      <td>0</td>\n",
              "    </tr>\n",
              "    <tr>\n",
              "      <th>5891</th>\n",
              "      <td>Canada</td>\n",
              "      <td>Alberta</td>\n",
              "      <td>53.93</td>\n",
              "      <td>-116.58</td>\n",
              "      <td>2020-02-13</td>\n",
              "      <td>0</td>\n",
              "      <td>0</td>\n",
              "    </tr>\n",
              "    <tr>\n",
              "      <th>6157</th>\n",
              "      <td>Canada</td>\n",
              "      <td>Alberta</td>\n",
              "      <td>53.93</td>\n",
              "      <td>-116.58</td>\n",
              "      <td>2020-02-14</td>\n",
              "      <td>0</td>\n",
              "      <td>0</td>\n",
              "    </tr>\n",
              "    <tr>\n",
              "      <th>6423</th>\n",
              "      <td>Canada</td>\n",
              "      <td>Alberta</td>\n",
              "      <td>53.93</td>\n",
              "      <td>-116.58</td>\n",
              "      <td>2020-02-15</td>\n",
              "      <td>0</td>\n",
              "      <td>0</td>\n",
              "    </tr>\n",
              "  </tbody>\n",
              "</table>\n",
              "</div>"
            ],
            "text/plain": [
              "     Country/Region Province/State   Lat    Long       date  confirmed  deaths\n",
              "5359         Canada        Alberta 53.93 -116.58 2020-02-11          0       0\n",
              "5625         Canada        Alberta 53.93 -116.58 2020-02-12          0       0\n",
              "5891         Canada        Alberta 53.93 -116.58 2020-02-13          0       0\n",
              "6157         Canada        Alberta 53.93 -116.58 2020-02-14          0       0\n",
              "6423         Canada        Alberta 53.93 -116.58 2020-02-15          0       0"
            ]
          },
          "metadata": {
            "tags": []
          },
          "execution_count": 7
        }
      ]
    },
    {
      "cell_type": "code",
      "metadata": {
        "id": "6WJHLIoWh0L2",
        "colab_type": "code",
        "colab": {}
      },
      "source": [
        "data['date'] = pd.to_datetime(data['date'])"
      ],
      "execution_count": 8,
      "outputs": []
    },
    {
      "cell_type": "code",
      "metadata": {
        "id": "TM2GydxxibTp",
        "colab_type": "code",
        "colab": {}
      },
      "source": [
        "alberta['date'] = pd.to_datetime(alberta['date'])"
      ],
      "execution_count": 9,
      "outputs": []
    },
    {
      "cell_type": "code",
      "metadata": {
        "id": "495-bvRnid5m",
        "colab_type": "code",
        "colab": {}
      },
      "source": [
        "full_df=data.merge(alberta)"
      ],
      "execution_count": 10,
      "outputs": []
    },
    {
      "cell_type": "code",
      "metadata": {
        "id": "vdtYj1ihkJaY",
        "colab_type": "code",
        "colab": {}
      },
      "source": [
        "full_df.drop(['Lat', 'Long'],axis=True,inplace=True)"
      ],
      "execution_count": 11,
      "outputs": []
    },
    {
      "cell_type": "code",
      "metadata": {
        "id": "1lm-4Mmvi5LG",
        "colab_type": "code",
        "colab": {
          "base_uri": "https://localhost:8080/",
          "height": 309
        },
        "outputId": "83e2c145-8dee-4dc5-cd73-0da9ff97cfc3"
      },
      "source": [
        "full_df.tail()"
      ],
      "execution_count": 12,
      "outputs": [
        {
          "output_type": "execute_result",
          "data": {
            "text/html": [
              "<div>\n",
              "<style scoped>\n",
              "    .dataframe tbody tr th:only-of-type {\n",
              "        vertical-align: middle;\n",
              "    }\n",
              "\n",
              "    .dataframe tbody tr th {\n",
              "        vertical-align: top;\n",
              "    }\n",
              "\n",
              "    .dataframe thead th {\n",
              "        text-align: right;\n",
              "    }\n",
              "</style>\n",
              "<table border=\"1\" class=\"dataframe\">\n",
              "  <thead>\n",
              "    <tr style=\"text-align: right;\">\n",
              "      <th></th>\n",
              "      <th>Country/Region</th>\n",
              "      <th>Province/State</th>\n",
              "      <th>date</th>\n",
              "      <th>confirmed</th>\n",
              "      <th>deaths</th>\n",
              "      <th>PROVINCE_CODE</th>\n",
              "      <th>MEAN_TEMPERATURE</th>\n",
              "      <th>MIN_TEMPERATURE</th>\n",
              "      <th>MAX_TEMPERATURE</th>\n",
              "      <th>HEATING_DEGREE_DAYS</th>\n",
              "      <th>MIN_REL_HUMIDITY</th>\n",
              "      <th>MAX_REL_HUMIDITY</th>\n",
              "      <th>total_tested</th>\n",
              "      <th>daily_tested</th>\n",
              "    </tr>\n",
              "  </thead>\n",
              "  <tbody>\n",
              "    <tr>\n",
              "      <th>145</th>\n",
              "      <td>Canada</td>\n",
              "      <td>Alberta</td>\n",
              "      <td>2020-08-08</td>\n",
              "      <td>11430</td>\n",
              "      <td>208</td>\n",
              "      <td>Alberta</td>\n",
              "      <td>14.60</td>\n",
              "      <td>7.60</td>\n",
              "      <td>21.60</td>\n",
              "      <td>3.40</td>\n",
              "      <td>59.00</td>\n",
              "      <td>93.00</td>\n",
              "      <td>613221</td>\n",
              "      <td>0</td>\n",
              "    </tr>\n",
              "    <tr>\n",
              "      <th>146</th>\n",
              "      <td>Canada</td>\n",
              "      <td>Alberta</td>\n",
              "      <td>2020-08-13</td>\n",
              "      <td>11969</td>\n",
              "      <td>220</td>\n",
              "      <td>Alberta</td>\n",
              "      <td>14.00</td>\n",
              "      <td>10.80</td>\n",
              "      <td>17.20</td>\n",
              "      <td>4.00</td>\n",
              "      <td>68.00</td>\n",
              "      <td>93.00</td>\n",
              "      <td>647281</td>\n",
              "      <td>5411</td>\n",
              "    </tr>\n",
              "    <tr>\n",
              "      <th>147</th>\n",
              "      <td>Canada</td>\n",
              "      <td>Alberta</td>\n",
              "      <td>2020-08-14</td>\n",
              "      <td>12053</td>\n",
              "      <td>221</td>\n",
              "      <td>Alberta</td>\n",
              "      <td>15.30</td>\n",
              "      <td>11.20</td>\n",
              "      <td>19.30</td>\n",
              "      <td>2.70</td>\n",
              "      <td>57.00</td>\n",
              "      <td>91.00</td>\n",
              "      <td>652819</td>\n",
              "      <td>5538</td>\n",
              "    </tr>\n",
              "    <tr>\n",
              "      <th>148</th>\n",
              "      <td>Canada</td>\n",
              "      <td>Alberta</td>\n",
              "      <td>2020-08-15</td>\n",
              "      <td>12053</td>\n",
              "      <td>221</td>\n",
              "      <td>Alberta</td>\n",
              "      <td>12.90</td>\n",
              "      <td>5.90</td>\n",
              "      <td>20.00</td>\n",
              "      <td>5.10</td>\n",
              "      <td>46.00</td>\n",
              "      <td>93.00</td>\n",
              "      <td>652819</td>\n",
              "      <td>0</td>\n",
              "    </tr>\n",
              "    <tr>\n",
              "      <th>149</th>\n",
              "      <td>Canada</td>\n",
              "      <td>Alberta</td>\n",
              "      <td>2020-08-16</td>\n",
              "      <td>12053</td>\n",
              "      <td>221</td>\n",
              "      <td>Alberta</td>\n",
              "      <td>12.00</td>\n",
              "      <td>5.20</td>\n",
              "      <td>18.80</td>\n",
              "      <td>6.00</td>\n",
              "      <td>67.00</td>\n",
              "      <td>93.00</td>\n",
              "      <td>652819</td>\n",
              "      <td>0</td>\n",
              "    </tr>\n",
              "  </tbody>\n",
              "</table>\n",
              "</div>"
            ],
            "text/plain": [
              "    Country/Region Province/State  ... total_tested  daily_tested\n",
              "145         Canada        Alberta  ...       613221             0\n",
              "146         Canada        Alberta  ...       647281          5411\n",
              "147         Canada        Alberta  ...       652819          5538\n",
              "148         Canada        Alberta  ...       652819             0\n",
              "149         Canada        Alberta  ...       652819             0\n",
              "\n",
              "[5 rows x 14 columns]"
            ]
          },
          "metadata": {
            "tags": []
          },
          "execution_count": 12
        }
      ]
    },
    {
      "cell_type": "code",
      "metadata": {
        "id": "74ykLPLHkTq2",
        "colab_type": "code",
        "colab": {}
      },
      "source": [
        "full_df = full_df.rename(columns={'Country/Region': 'Country'})"
      ],
      "execution_count": 13,
      "outputs": []
    },
    {
      "cell_type": "code",
      "metadata": {
        "id": "dqzY-Ox9jPi2",
        "colab_type": "code",
        "colab": {
          "base_uri": "https://localhost:8080/",
          "height": 272
        },
        "outputId": "b8a7b6e3-7a7d-4cb6-a096-f64804f85046"
      },
      "source": [
        "full_df.isnull().sum()"
      ],
      "execution_count": 14,
      "outputs": [
        {
          "output_type": "execute_result",
          "data": {
            "text/plain": [
              "Country                0\n",
              "Province/State         0\n",
              "date                   0\n",
              "confirmed              0\n",
              "deaths                 0\n",
              "PROVINCE_CODE          0\n",
              "MEAN_TEMPERATURE       0\n",
              "MIN_TEMPERATURE        0\n",
              "MAX_TEMPERATURE        0\n",
              "HEATING_DEGREE_DAYS    0\n",
              "MIN_REL_HUMIDITY       0\n",
              "MAX_REL_HUMIDITY       0\n",
              "total_tested           0\n",
              "daily_tested           0\n",
              "dtype: int64"
            ]
          },
          "metadata": {
            "tags": []
          },
          "execution_count": 14
        }
      ]
    },
    {
      "cell_type": "code",
      "metadata": {
        "id": "dzwFQLxrjqsG",
        "colab_type": "code",
        "colab": {
          "base_uri": "https://localhost:8080/",
          "height": 724
        },
        "outputId": "8b9b26e1-98ed-4bb0-f7d0-e2ed9870a4f3"
      },
      "source": [
        "co=full_df.corr()\n",
        "import seaborn as sns\n",
        "import matplotlib.pyplot as plt\n",
        "fig= plt.figure(figsize=(16,10))\n",
        "sns.heatmap(co,annot=True,fmt='.1g',vmin=-1, vmax=1, center= 0, cmap= 'coolwarm')"
      ],
      "execution_count": 15,
      "outputs": [
        {
          "output_type": "execute_result",
          "data": {
            "text/plain": [
              "<matplotlib.axes._subplots.AxesSubplot at 0x7fdd1d2e4208>"
            ]
          },
          "metadata": {
            "tags": []
          },
          "execution_count": 15
        },
        {
          "output_type": "display_data",
          "data": {
            "image/png": "[encoded data removed]",
            "text/plain": [
              "<Figure size 1152x720 with 2 Axes>"
            ]
          },
          "metadata": {
            "tags": [],
            "needs_background": "light"
          }
        }
      ]
    },
    {
      "cell_type": "markdown",
      "metadata": {
        "id": "wPKQYsfcmZM5",
        "colab_type": "text"
      },
      "source": [
        "# Here we Clerly seen the feature Mean Temp, MAx Temp, MIN Temp are postively corelated so we consider only one feature in between them.\n",
        "\n",
        "## Daily tested and total tested is also postive correlated so we consider only total tested feature.\n",
        "\n",
        "# 3rd is Min real Humidity have no realation with confirmed cases.\n",
        "\n",
        "---\n",
        "\n"
      ]
    },
    {
      "cell_type": "code",
      "metadata": {
        "id": "fbXxNZmQng5s",
        "colab_type": "code",
        "colab": {
          "base_uri": "https://localhost:8080/",
          "height": 102
        },
        "outputId": "0c1b79ca-992a-46d6-e9a5-306f0f18a221"
      },
      "source": [
        "full_df.columns"
      ],
      "execution_count": 16,
      "outputs": [
        {
          "output_type": "execute_result",
          "data": {
            "text/plain": [
              "Index(['Country', 'Province/State', 'date', 'confirmed', 'deaths',\n",
              "       'PROVINCE_CODE', 'MEAN_TEMPERATURE', 'MIN_TEMPERATURE',\n",
              "       'MAX_TEMPERATURE', 'HEATING_DEGREE_DAYS', 'MIN_REL_HUMIDITY',\n",
              "       'MAX_REL_HUMIDITY', 'total_tested', 'daily_tested'],\n",
              "      dtype='object')"
            ]
          },
          "metadata": {
            "tags": []
          },
          "execution_count": 16
        }
      ]
    },
    {
      "cell_type": "code",
      "metadata": {
        "id": "y_Z1bqUYj3wR",
        "colab_type": "code",
        "colab": {}
      },
      "source": [
        "full_df.drop(['PROVINCE_CODE', 'MIN_TEMPERATURE',\n",
        "       'MAX_TEMPERATURE', 'HEATING_DEGREE_DAYS', 'MIN_REL_HUMIDITY','daily_tested'],axis=1,inplace=True)"
      ],
      "execution_count": 17,
      "outputs": []
    },
    {
      "cell_type": "code",
      "metadata": {
        "id": "cniOGe5ikmk2",
        "colab_type": "code",
        "colab": {
          "base_uri": "https://localhost:8080/",
          "height": 204
        },
        "outputId": "00d40c12-285f-4a6e-d228-b93fa0a1aa48"
      },
      "source": [
        "full_df.head()"
      ],
      "execution_count": 18,
      "outputs": [
        {
          "output_type": "execute_result",
          "data": {
            "text/html": [
              "<div>\n",
              "<style scoped>\n",
              "    .dataframe tbody tr th:only-of-type {\n",
              "        vertical-align: middle;\n",
              "    }\n",
              "\n",
              "    .dataframe tbody tr th {\n",
              "        vertical-align: top;\n",
              "    }\n",
              "\n",
              "    .dataframe thead th {\n",
              "        text-align: right;\n",
              "    }\n",
              "</style>\n",
              "<table border=\"1\" class=\"dataframe\">\n",
              "  <thead>\n",
              "    <tr style=\"text-align: right;\">\n",
              "      <th></th>\n",
              "      <th>Country</th>\n",
              "      <th>Province/State</th>\n",
              "      <th>date</th>\n",
              "      <th>confirmed</th>\n",
              "      <th>deaths</th>\n",
              "      <th>MEAN_TEMPERATURE</th>\n",
              "      <th>MAX_REL_HUMIDITY</th>\n",
              "      <th>total_tested</th>\n",
              "    </tr>\n",
              "  </thead>\n",
              "  <tbody>\n",
              "    <tr>\n",
              "      <th>0</th>\n",
              "      <td>Canada</td>\n",
              "      <td>Alberta</td>\n",
              "      <td>2020-02-13</td>\n",
              "      <td>0</td>\n",
              "      <td>0</td>\n",
              "      <td>-19.80</td>\n",
              "      <td>82.00</td>\n",
              "      <td>0</td>\n",
              "    </tr>\n",
              "    <tr>\n",
              "      <th>1</th>\n",
              "      <td>Canada</td>\n",
              "      <td>Alberta</td>\n",
              "      <td>2020-02-14</td>\n",
              "      <td>0</td>\n",
              "      <td>0</td>\n",
              "      <td>-23.70</td>\n",
              "      <td>72.00</td>\n",
              "      <td>0</td>\n",
              "    </tr>\n",
              "    <tr>\n",
              "      <th>2</th>\n",
              "      <td>Canada</td>\n",
              "      <td>Alberta</td>\n",
              "      <td>2020-02-15</td>\n",
              "      <td>0</td>\n",
              "      <td>0</td>\n",
              "      <td>-27.50</td>\n",
              "      <td>72.00</td>\n",
              "      <td>0</td>\n",
              "    </tr>\n",
              "    <tr>\n",
              "      <th>3</th>\n",
              "      <td>Canada</td>\n",
              "      <td>Alberta</td>\n",
              "      <td>2020-02-16</td>\n",
              "      <td>0</td>\n",
              "      <td>0</td>\n",
              "      <td>-24.90</td>\n",
              "      <td>73.00</td>\n",
              "      <td>0</td>\n",
              "    </tr>\n",
              "    <tr>\n",
              "      <th>4</th>\n",
              "      <td>Canada</td>\n",
              "      <td>Alberta</td>\n",
              "      <td>2020-02-17</td>\n",
              "      <td>0</td>\n",
              "      <td>0</td>\n",
              "      <td>-29.20</td>\n",
              "      <td>72.00</td>\n",
              "      <td>0</td>\n",
              "    </tr>\n",
              "  </tbody>\n",
              "</table>\n",
              "</div>"
            ],
            "text/plain": [
              "  Country Province/State  ... MAX_REL_HUMIDITY  total_tested\n",
              "0  Canada        Alberta  ...            82.00             0\n",
              "1  Canada        Alberta  ...            72.00             0\n",
              "2  Canada        Alberta  ...            72.00             0\n",
              "3  Canada        Alberta  ...            73.00             0\n",
              "4  Canada        Alberta  ...            72.00             0\n",
              "\n",
              "[5 rows x 8 columns]"
            ]
          },
          "metadata": {
            "tags": []
          },
          "execution_count": 18
        }
      ]
    },
    {
      "cell_type": "code",
      "metadata": {
        "id": "8kJ4qogin8MU",
        "colab_type": "code",
        "colab": {
          "base_uri": "https://localhost:8080/",
          "height": 617
        },
        "outputId": "52c6909d-88bd-4db8-a1c8-36fb4175b4c2"
      },
      "source": [
        "from plotly.subplots import make_subplots\n",
        "import plotly.graph_objects as go\n",
        "\n",
        "fig = make_subplots(rows=5, cols=1,subplot_titles=(\"confirmed\", \"deaths \", \"MEAN_TEMPERATURE\", \"MAX_REL_HUMIDITY\",\"total_tested\"))\n",
        "\n",
        "fig.append_trace(go.Scatter(\n",
        "    x=full_df['date'],\n",
        "    y=full_df['confirmed'], name='Canada'\n",
        "), row=1, col=1 )\n",
        "\n",
        "fig.append_trace(go.Scatter( \n",
        "    x=full_df['date'],\n",
        "    y=full_df['deaths'], name='Canada'\n",
        "), row=2, col=1)\n",
        "\n",
        "fig.append_trace(go.Scatter( \n",
        "    x=full_df['date'],\n",
        "    y=full_df['MEAN_TEMPERATURE'], name='Canada'\n",
        "), row=3, col=1)\n",
        "\n",
        "fig.append_trace(go.Scatter( \n",
        "    x=full_df['date'],\n",
        "    y=full_df['MAX_REL_HUMIDITY'], name='Canada'\n",
        "), row=4, col=1)\n",
        "fig.append_trace(go.Scatter( \n",
        "    x=full_df['date'],\n",
        "    y=full_df['total_tested'], name='Canada'\n",
        "), row=5, col=1)\n",
        "\n",
        "\n",
        "fig.update_layout(height=600, width=600, title_text=\"Stacked Subplots\")\n",
        "#fig.show()"
      ],
      "execution_count": 19,
      "outputs": [
        {
          "output_type": "display_data",
          "data": {
            "text/html": [
              "<html>\n",
              "<head><meta charset=\"utf-8\" /></head>\n",
              "<body>\n",
              "    <div>\n",
              "            <script src=\"https://cdnjs.cloudflare.com/ajax/libs/mathjax/2.7.5/MathJax.js?config=TeX-AMS-MML_SVG\"></script><script type=\"text/javascript\">if (window.MathJax) {MathJax.Hub.Config({SVG: {font: \"STIX-Web\"}});}</script>\n",
              "                <script type=\"text/javascript\">window.PlotlyConfig = {MathJaxConfig: 'local'};</script>\n",
              "        <script src=\"https://cdn.plot.ly/plotly-latest.min.js\"></script>    \n",
              "            <div id=\"d2e56334-68f6-49b8-b303-5b096c06472e\" class=\"plotly-graph-div\" style=\"height:600px; width:600px;\"></div>\n",
              "            <script type=\"text/javascript\">\n",
              "                \n",
              "                    window.PLOTLYENV=window.PLOTLYENV || {};\n",
              "                    \n",
              "                if (document.getElementById(\"d2e56334-68f6-49b8-b303-5b096c06472e\")) {\n",
              "                    Plotly.newPlot(\n",
              "                        'd2e56334-68f6-49b8-b303-5b096c06472e',\n",
              "                        [{\"name\": \"Canada\", \"type\": \"scatter\", \"x\": [\"2020-02-13T00:00:00\", \"2020-02-14T00:00:00\", \"2020-02-15T00:00:00\", \"2020-02-16T00:00:00\", \"2020-02-17T00:00:00\", \"2020-02-18T00:00:00\", \"2020-02-19T00:00:00\", \"2020-02-20T00:00:00\", \"2020-02-21T00:00:00\", \"2020-02-22T00:00:00\", \"2020-02-23T00:00:00\", \"2020-02-24T00:00:00\", \"2020-02-25T00:00:00\", \"2020-02-26T00:00:00\", \"2020-02-27T00:00:00\", \"2020-02-28T00:00:00\", \"2020-02-29T00:00:00\", \"2020-03-03T00:00:00\", \"2020-03-04T00:00:00\", \"2020-03-05T00:00:00\", \"2020-03-06T00:00:00\", \"2020-03-07T00:00:00\", \"2020-03-08T00:00:00\", \"2020-03-13T00:00:00\", \"2020-03-14T00:00:00\", \"2020-03-15T00:00:00\", \"2020-03-16T00:00:00\", \"2020-03-17T00:00:00\", \"2020-03-18T00:00:00\", \"2020-03-19T00:00:00\", \"2020-03-20T00:00:00\", \"2020-03-21T00:00:00\", \"2020-03-22T00:00:00\", \"2020-03-23T00:00:00\", \"2020-03-24T00:00:00\", \"2020-03-25T00:00:00\", \"2020-03-26T00:00:00\", \"2020-03-27T00:00:00\", \"2020-03-28T00:00:00\", \"2020-03-29T00:00:00\", \"2020-03-30T00:00:00\", \"2020-03-31T00:00:00\", \"2020-04-03T00:00:00\", \"2020-04-04T00:00:00\", \"2020-04-05T00:00:00\", \"2020-04-06T00:00:00\", \"2020-04-07T00:00:00\", \"2020-04-08T00:00:00\", \"2020-04-13T00:00:00\", \"2020-04-14T00:00:00\", \"2020-04-15T00:00:00\", \"2020-04-16T00:00:00\", \"2020-04-17T00:00:00\", \"2020-04-18T00:00:00\", \"2020-04-19T00:00:00\", \"2020-04-20T00:00:00\", \"2020-04-21T00:00:00\", \"2020-04-22T00:00:00\", \"2020-04-23T00:00:00\", \"2020-04-24T00:00:00\", \"2020-04-25T00:00:00\", \"2020-04-26T00:00:00\", \"2020-04-27T00:00:00\", \"2020-04-28T00:00:00\", \"2020-04-29T00:00:00\", \"2020-04-30T00:00:00\", \"2020-05-03T00:00:00\", \"2020-05-04T00:00:00\", \"2020-05-05T00:00:00\", \"2020-05-06T00:00:00\", \"2020-05-07T00:00:00\", \"2020-05-08T00:00:00\", \"2020-05-13T00:00:00\", \"2020-05-14T00:00:00\", \"2020-05-15T00:00:00\", \"2020-05-16T00:00:00\", \"2020-05-17T00:00:00\", \"2020-05-18T00:00:00\", \"2020-05-19T00:00:00\", \"2020-05-20T00:00:00\", \"2020-05-21T00:00:00\", \"2020-05-22T00:00:00\", \"2020-05-23T00:00:00\", \"2020-05-24T00:00:00\", \"2020-05-25T00:00:00\", \"2020-05-26T00:00:00\", \"2020-05-27T00:00:00\", \"2020-05-28T00:00:00\", \"2020-05-29T00:00:00\", \"2020-05-30T00:00:00\", \"2020-05-31T00:00:00\", \"2020-06-03T00:00:00\", \"2020-06-04T00:00:00\", \"2020-06-05T00:00:00\", \"2020-06-06T00:00:00\", \"2020-06-07T00:00:00\", \"2020-06-08T00:00:00\", \"2020-06-13T00:00:00\", \"2020-06-14T00:00:00\", \"2020-06-15T00:00:00\", \"2020-06-16T00:00:00\", \"2020-06-17T00:00:00\", \"2020-06-18T00:00:00\", \"2020-06-19T00:00:00\", \"2020-06-20T00:00:00\", \"2020-06-21T00:00:00\", \"2020-06-22T00:00:00\", \"2020-06-23T00:00:00\", \"2020-06-24T00:00:00\", \"2020-06-25T00:00:00\", \"2020-06-26T00:00:00\", \"2020-06-27T00:00:00\", \"2020-06-28T00:00:00\", \"2020-06-29T00:00:00\", \"2020-06-30T00:00:00\", \"2020-07-03T00:00:00\", \"2020-07-04T00:00:00\", \"2020-07-05T00:00:00\", \"2020-07-06T00:00:00\", \"2020-07-07T00:00:00\", \"2020-07-08T00:00:00\", \"2020-07-13T00:00:00\", \"2020-07-14T00:00:00\", \"2020-07-15T00:00:00\", \"2020-07-16T00:00:00\", \"2020-07-17T00:00:00\", \"2020-07-18T00:00:00\", \"2020-07-19T00:00:00\", \"2020-07-20T00:00:00\", \"2020-07-21T00:00:00\", \"2020-07-22T00:00:00\", \"2020-07-23T00:00:00\", \"2020-07-24T00:00:00\", \"2020-07-25T00:00:00\", \"2020-07-26T00:00:00\", \"2020-07-27T00:00:00\", \"2020-07-28T00:00:00\", \"2020-07-29T00:00:00\", \"2020-07-30T00:00:00\", \"2020-07-31T00:00:00\", \"2020-08-03T00:00:00\", \"2020-08-04T00:00:00\", \"2020-08-05T00:00:00\", \"2020-08-06T00:00:00\", \"2020-08-07T00:00:00\", \"2020-08-08T00:00:00\", \"2020-08-13T00:00:00\", \"2020-08-14T00:00:00\", \"2020-08-15T00:00:00\", \"2020-08-16T00:00:00\"], \"xaxis\": \"x\", \"y\": [0, 0, 0, 0, 0, 0, 0, 0, 0, 0, 0, 0, 0, 0, 0, 0, 0, 0, 0, 0, 1, 2, 4, 29, 29, 39, 56, 74, 97, 119, 146, 195, 259, 301, 359, 358, 486, 542, 542, 621, 661, 690, 969, 1075, 1181, 1250, 1373, 1373, 1732, 1870, 1870, 1996, 2397, 2562, 2803, 2908, 3095, 3401, 3720, 4017, 4233, 4480, 4696, 4850, 5165, 5355, 5766, 5836, 5893, 5963, 6017, 6098, 6407, 6457, 6515, 6587, 6644, 6683, 6716, 6735, 6768, 6800, 6818, 6860, 6879, 6901, 6926, 6955, 6979, 6992, 7010, 7076, 7091, 7098, 7138, 7138, 7202, 7383, 7433, 7453, 7482, 7530, 7579, 7625, 7673, 7704, 7736, 7781, 7825, 7851, 7888, 7957, 7996, 8067, 8108, 8259, 8259, 8259, 8389, 8436, 8482, 8826, 8912, 8994, 9114, 9219, 9219, 9219, 9587, 9728, 9728, 9975, 10086, 10086, 10086, 10390, 10470, 10603, 10716, 10843, 10843, 11146, 11240, 11296, 11430, 11430, 11969, 12053, 12053, 12053], \"yaxis\": \"y\"}, {\"name\": \"Canada\", \"type\": \"scatter\", \"x\": [\"2020-02-13T00:00:00\", \"2020-02-14T00:00:00\", \"2020-02-15T00:00:00\", \"2020-02-16T00:00:00\", \"2020-02-17T00:00:00\", \"2020-02-18T00:00:00\", \"2020-02-19T00:00:00\", \"2020-02-20T00:00:00\", \"2020-02-21T00:00:00\", \"2020-02-22T00:00:00\", \"2020-02-23T00:00:00\", \"2020-02-24T00:00:00\", \"2020-02-25T00:00:00\", \"2020-02-26T00:00:00\", \"2020-02-27T00:00:00\", \"2020-02-28T00:00:00\", \"2020-02-29T00:00:00\", \"2020-03-03T00:00:00\", \"2020-03-04T00:00:00\", \"2020-03-05T00:00:00\", \"2020-03-06T00:00:00\", \"2020-03-07T00:00:00\", \"2020-03-08T00:00:00\", \"2020-03-13T00:00:00\", \"2020-03-14T00:00:00\", \"2020-03-15T00:00:00\", \"2020-03-16T00:00:00\", \"2020-03-17T00:00:00\", \"2020-03-18T00:00:00\", \"2020-03-19T00:00:00\", \"2020-03-20T00:00:00\", \"2020-03-21T00:00:00\", \"2020-03-22T00:00:00\", \"2020-03-23T00:00:00\", \"2020-03-24T00:00:00\", \"2020-03-25T00:00:00\", \"2020-03-26T00:00:00\", \"2020-03-27T00:00:00\", \"2020-03-28T00:00:00\", \"2020-03-29T00:00:00\", \"2020-03-30T00:00:00\", \"2020-03-31T00:00:00\", \"2020-04-03T00:00:00\", \"2020-04-04T00:00:00\", \"2020-04-05T00:00:00\", \"2020-04-06T00:00:00\", \"2020-04-07T00:00:00\", \"2020-04-08T00:00:00\", \"2020-04-13T00:00:00\", \"2020-04-14T00:00:00\", \"2020-04-15T00:00:00\", \"2020-04-16T00:00:00\", \"2020-04-17T00:00:00\", \"2020-04-18T00:00:00\", \"2020-04-19T00:00:00\", \"2020-04-20T00:00:00\", \"2020-04-21T00:00:00\", \"2020-04-22T00:00:00\", \"2020-04-23T00:00:00\", \"2020-04-24T00:00:00\", \"2020-04-25T00:00:00\", \"2020-04-26T00:00:00\", \"2020-04-27T00:00:00\", \"2020-04-28T00:00:00\", \"2020-04-29T00:00:00\", \"2020-04-30T00:00:00\", \"2020-05-03T00:00:00\", \"2020-05-04T00:00:00\", \"2020-05-05T00:00:00\", \"2020-05-06T00:00:00\", \"2020-05-07T00:00:00\", \"2020-05-08T00:00:00\", \"2020-05-13T00:00:00\", \"2020-05-14T00:00:00\", \"2020-05-15T00:00:00\", \"2020-05-16T00:00:00\", \"2020-05-17T00:00:00\", \"2020-05-18T00:00:00\", \"2020-05-19T00:00:00\", \"2020-05-20T00:00:00\", \"2020-05-21T00:00:00\", \"2020-05-22T00:00:00\", \"2020-05-23T00:00:00\", \"2020-05-24T00:00:00\", \"2020-05-25T00:00:00\", \"2020-05-26T00:00:00\", \"2020-05-27T00:00:00\", \"2020-05-28T00:00:00\", \"2020-05-29T00:00:00\", \"2020-05-30T00:00:00\", \"2020-05-31T00:00:00\", \"2020-06-03T00:00:00\", \"2020-06-04T00:00:00\", \"2020-06-05T00:00:00\", \"2020-06-06T00:00:00\", \"2020-06-07T00:00:00\", \"2020-06-08T00:00:00\", \"2020-06-13T00:00:00\", \"2020-06-14T00:00:00\", \"2020-06-15T00:00:00\", \"2020-06-16T00:00:00\", \"2020-06-17T00:00:00\", \"2020-06-18T00:00:00\", \"2020-06-19T00:00:00\", \"2020-06-20T00:00:00\", \"2020-06-21T00:00:00\", \"2020-06-22T00:00:00\", \"2020-06-23T00:00:00\", \"2020-06-24T00:00:00\", \"2020-06-25T00:00:00\", \"2020-06-26T00:00:00\", \"2020-06-27T00:00:00\", \"2020-06-28T00:00:00\", \"2020-06-29T00:00:00\", \"2020-06-30T00:00:00\", \"2020-07-03T00:00:00\", \"2020-07-04T00:00:00\", \"2020-07-05T00:00:00\", \"2020-07-06T00:00:00\", \"2020-07-07T00:00:00\", \"2020-07-08T00:00:00\", \"2020-07-13T00:00:00\", \"2020-07-14T00:00:00\", \"2020-07-15T00:00:00\", \"2020-07-16T00:00:00\", \"2020-07-17T00:00:00\", \"2020-07-18T00:00:00\", \"2020-07-19T00:00:00\", \"2020-07-20T00:00:00\", \"2020-07-21T00:00:00\", \"2020-07-22T00:00:00\", \"2020-07-23T00:00:00\", \"2020-07-24T00:00:00\", \"2020-07-25T00:00:00\", \"2020-07-26T00:00:00\", \"2020-07-27T00:00:00\", \"2020-07-28T00:00:00\", \"2020-07-29T00:00:00\", \"2020-07-30T00:00:00\", \"2020-07-31T00:00:00\", \"2020-08-03T00:00:00\", \"2020-08-04T00:00:00\", \"2020-08-05T00:00:00\", \"2020-08-06T00:00:00\", \"2020-08-07T00:00:00\", \"2020-08-08T00:00:00\", \"2020-08-13T00:00:00\", \"2020-08-14T00:00:00\", \"2020-08-15T00:00:00\", \"2020-08-16T00:00:00\"], \"xaxis\": \"x2\", \"y\": [0, 0, 0, 0, 0, 0, 0, 0, 0, 0, 0, 0, 0, 0, 0, 0, 0, 0, 0, 0, 0, 0, 0, 0, 0, 0, 0, 0, 0, 0, 1, 1, 1, 1, 1, 2, 2, 2, 2, 2, 3, 8, 13, 18, 20, 23, 24, 26, 46, 48, 48, 48, 50, 51, 51, 59, 61, 66, 68, 72, 73, 73, 75, 80, 87, 90, 95, 104, 106, 112, 114, 115, 120, 121, 125, 126, 127, 128, 128, 128, 132, 134, 135, 135, 138, 139, 141, 143, 143, 143, 143, 145, 146, 146, 146, 146, 149, 150, 150, 151, 151, 151, 152, 152, 152, 152, 153, 153, 153, 154, 154, 154, 154, 154, 154, 155, 155, 155, 155, 157, 158, 161, 163, 163, 165, 167, 167, 167, 170, 172, 172, 176, 178, 178, 178, 186, 187, 190, 195, 196, 196, 201, 203, 205, 208, 208, 220, 221, 221, 221], \"yaxis\": \"y2\"}, {\"name\": \"Canada\", \"type\": \"scatter\", \"x\": [\"2020-02-13T00:00:00\", \"2020-02-14T00:00:00\", \"2020-02-15T00:00:00\", \"2020-02-16T00:00:00\", \"2020-02-17T00:00:00\", \"2020-02-18T00:00:00\", \"2020-02-19T00:00:00\", \"2020-02-20T00:00:00\", \"2020-02-21T00:00:00\", \"2020-02-22T00:00:00\", \"2020-02-23T00:00:00\", \"2020-02-24T00:00:00\", \"2020-02-25T00:00:00\", \"2020-02-26T00:00:00\", \"2020-02-27T00:00:00\", \"2020-02-28T00:00:00\", \"2020-02-29T00:00:00\", \"2020-03-03T00:00:00\", \"2020-03-04T00:00:00\", \"2020-03-05T00:00:00\", \"2020-03-06T00:00:00\", \"2020-03-07T00:00:00\", \"2020-03-08T00:00:00\", \"2020-03-13T00:00:00\", \"2020-03-14T00:00:00\", \"2020-03-15T00:00:00\", \"2020-03-16T00:00:00\", \"2020-03-17T00:00:00\", \"2020-03-18T00:00:00\", \"2020-03-19T00:00:00\", \"2020-03-20T00:00:00\", \"2020-03-21T00:00:00\", \"2020-03-22T00:00:00\", \"2020-03-23T00:00:00\", \"2020-03-24T00:00:00\", \"2020-03-25T00:00:00\", \"2020-03-26T00:00:00\", \"2020-03-27T00:00:00\", \"2020-03-28T00:00:00\", \"2020-03-29T00:00:00\", \"2020-03-30T00:00:00\", \"2020-03-31T00:00:00\", \"2020-04-03T00:00:00\", \"2020-04-04T00:00:00\", \"2020-04-05T00:00:00\", \"2020-04-06T00:00:00\", \"2020-04-07T00:00:00\", \"2020-04-08T00:00:00\", \"2020-04-13T00:00:00\", \"2020-04-14T00:00:00\", \"2020-04-15T00:00:00\", \"2020-04-16T00:00:00\", \"2020-04-17T00:00:00\", \"2020-04-18T00:00:00\", \"2020-04-19T00:00:00\", \"2020-04-20T00:00:00\", \"2020-04-21T00:00:00\", \"2020-04-22T00:00:00\", \"2020-04-23T00:00:00\", \"2020-04-24T00:00:00\", \"2020-04-25T00:00:00\", \"2020-04-26T00:00:00\", \"2020-04-27T00:00:00\", \"2020-04-28T00:00:00\", \"2020-04-29T00:00:00\", \"2020-04-30T00:00:00\", \"2020-05-03T00:00:00\", \"2020-05-04T00:00:00\", \"2020-05-05T00:00:00\", \"2020-05-06T00:00:00\", \"2020-05-07T00:00:00\", \"2020-05-08T00:00:00\", \"2020-05-13T00:00:00\", \"2020-05-14T00:00:00\", \"2020-05-15T00:00:00\", \"2020-05-16T00:00:00\", \"2020-05-17T00:00:00\", \"2020-05-18T00:00:00\", \"2020-05-19T00:00:00\", \"2020-05-20T00:00:00\", \"2020-05-21T00:00:00\", \"2020-05-22T00:00:00\", \"2020-05-23T00:00:00\", \"2020-05-24T00:00:00\", \"2020-05-25T00:00:00\", \"2020-05-26T00:00:00\", \"2020-05-27T00:00:00\", \"2020-05-28T00:00:00\", \"2020-05-29T00:00:00\", \"2020-05-30T00:00:00\", \"2020-05-31T00:00:00\", \"2020-06-03T00:00:00\", \"2020-06-04T00:00:00\", \"2020-06-05T00:00:00\", \"2020-06-06T00:00:00\", \"2020-06-07T00:00:00\", \"2020-06-08T00:00:00\", \"2020-06-13T00:00:00\", \"2020-06-14T00:00:00\", \"2020-06-15T00:00:00\", \"2020-06-16T00:00:00\", \"2020-06-17T00:00:00\", \"2020-06-18T00:00:00\", \"2020-06-19T00:00:00\", \"2020-06-20T00:00:00\", \"2020-06-21T00:00:00\", \"2020-06-22T00:00:00\", \"2020-06-23T00:00:00\", \"2020-06-24T00:00:00\", \"2020-06-25T00:00:00\", \"2020-06-26T00:00:00\", \"2020-06-27T00:00:00\", \"2020-06-28T00:00:00\", \"2020-06-29T00:00:00\", \"2020-06-30T00:00:00\", \"2020-07-03T00:00:00\", \"2020-07-04T00:00:00\", \"2020-07-05T00:00:00\", \"2020-07-06T00:00:00\", \"2020-07-07T00:00:00\", \"2020-07-08T00:00:00\", \"2020-07-13T00:00:00\", \"2020-07-14T00:00:00\", \"2020-07-15T00:00:00\", \"2020-07-16T00:00:00\", \"2020-07-17T00:00:00\", \"2020-07-18T00:00:00\", \"2020-07-19T00:00:00\", \"2020-07-20T00:00:00\", \"2020-07-21T00:00:00\", \"2020-07-22T00:00:00\", \"2020-07-23T00:00:00\", \"2020-07-24T00:00:00\", \"2020-07-25T00:00:00\", \"2020-07-26T00:00:00\", \"2020-07-27T00:00:00\", \"2020-07-28T00:00:00\", \"2020-07-29T00:00:00\", \"2020-07-30T00:00:00\", \"2020-07-31T00:00:00\", \"2020-08-03T00:00:00\", \"2020-08-04T00:00:00\", \"2020-08-05T00:00:00\", \"2020-08-06T00:00:00\", \"2020-08-07T00:00:00\", \"2020-08-08T00:00:00\", \"2020-08-13T00:00:00\", \"2020-08-14T00:00:00\", \"2020-08-15T00:00:00\", \"2020-08-16T00:00:00\"], \"xaxis\": \"x3\", \"y\": [-19.8, -23.7, -27.5, -24.9, -29.2, -27.3, -12.8, -1.1, -2.2, -1.4, -6.6, -16.3, -17.3, -8.2, -6.1, -6.6, -18.2, -7.3, -16.5, 7.8, 10.9, 17.7, 21.8, -22.9, -22.6, -9.3, -8.8, -15.2, -13.6, -16.0, -7.6, -5.3, -2.8, -8.3, -16.9, -11.8, -9.1, -16.4, -18.7, -15.3, -12.5, -13.9, -10.2, -11.9, 10.3, 13.6, 15.4, 19.2, -5.7, -1.2, 3.3, 2.8, 3.2, 5.2, 3.7, 1.0, 5.2, 6.3, 2.5, 4.8, 2.6, -1.2, 2.0, 7.9, 10.3, 6.3, -14.7, -7.8, 8.2, 12.7, 15.1, 18.8, 4.0, 1.2, 3.3, 8.5, 5.5, 4.6, 8.1, 10.9, 12.0, 3.3, 9.8, 12.2, 13.2, 12.2, 10.8, 7.9, 11.3, 14.8, 11.5, -17.2, -5.4, 11.2, 11.4, 16.3, 20.6, 19.7, 18.6, 18.3, 13.2, 11.1, 13.3, 17.3, 17.8, 18.8, 18.4, 17.2, 17.3, 18.1, 18.4, 16.8, 18.0, 16.3, 19.9, -17.9, -5.5, 12.8, 7.8, 16.3, 17.0, 14.0, 15.2, 15.2, 13.9, 16.1, 17.3, 18.1, 20.0, 17.8, 19.3, 15.3, 16.6, 18.3, 18.0, 20.9, 20.2, 16.8, 19.0, 19.9, -16.2, -0.8, 7.7, 8.1, 15.7, 14.6, 14.0, 15.3, 12.9, 12.0], \"yaxis\": \"y3\"}, {\"name\": \"Canada\", \"type\": \"scatter\", \"x\": [\"2020-02-13T00:00:00\", \"2020-02-14T00:00:00\", \"2020-02-15T00:00:00\", \"2020-02-16T00:00:00\", \"2020-02-17T00:00:00\", \"2020-02-18T00:00:00\", \"2020-02-19T00:00:00\", \"2020-02-20T00:00:00\", \"2020-02-21T00:00:00\", \"2020-02-22T00:00:00\", \"2020-02-23T00:00:00\", \"2020-02-24T00:00:00\", \"2020-02-25T00:00:00\", \"2020-02-26T00:00:00\", \"2020-02-27T00:00:00\", \"2020-02-28T00:00:00\", \"2020-02-29T00:00:00\", \"2020-03-03T00:00:00\", \"2020-03-04T00:00:00\", \"2020-03-05T00:00:00\", \"2020-03-06T00:00:00\", \"2020-03-07T00:00:00\", \"2020-03-08T00:00:00\", \"2020-03-13T00:00:00\", \"2020-03-14T00:00:00\", \"2020-03-15T00:00:00\", \"2020-03-16T00:00:00\", \"2020-03-17T00:00:00\", \"2020-03-18T00:00:00\", \"2020-03-19T00:00:00\", \"2020-03-20T00:00:00\", \"2020-03-21T00:00:00\", \"2020-03-22T00:00:00\", \"2020-03-23T00:00:00\", \"2020-03-24T00:00:00\", \"2020-03-25T00:00:00\", \"2020-03-26T00:00:00\", \"2020-03-27T00:00:00\", \"2020-03-28T00:00:00\", \"2020-03-29T00:00:00\", \"2020-03-30T00:00:00\", \"2020-03-31T00:00:00\", \"2020-04-03T00:00:00\", \"2020-04-04T00:00:00\", \"2020-04-05T00:00:00\", \"2020-04-06T00:00:00\", \"2020-04-07T00:00:00\", \"2020-04-08T00:00:00\", \"2020-04-13T00:00:00\", \"2020-04-14T00:00:00\", \"2020-04-15T00:00:00\", \"2020-04-16T00:00:00\", \"2020-04-17T00:00:00\", \"2020-04-18T00:00:00\", \"2020-04-19T00:00:00\", \"2020-04-20T00:00:00\", \"2020-04-21T00:00:00\", \"2020-04-22T00:00:00\", \"2020-04-23T00:00:00\", \"2020-04-24T00:00:00\", \"2020-04-25T00:00:00\", \"2020-04-26T00:00:00\", \"2020-04-27T00:00:00\", \"2020-04-28T00:00:00\", \"2020-04-29T00:00:00\", \"2020-04-30T00:00:00\", \"2020-05-03T00:00:00\", \"2020-05-04T00:00:00\", \"2020-05-05T00:00:00\", \"2020-05-06T00:00:00\", \"2020-05-07T00:00:00\", \"2020-05-08T00:00:00\", \"2020-05-13T00:00:00\", \"2020-05-14T00:00:00\", \"2020-05-15T00:00:00\", \"2020-05-16T00:00:00\", \"2020-05-17T00:00:00\", \"2020-05-18T00:00:00\", \"2020-05-19T00:00:00\", \"2020-05-20T00:00:00\", \"2020-05-21T00:00:00\", \"2020-05-22T00:00:00\", \"2020-05-23T00:00:00\", \"2020-05-24T00:00:00\", \"2020-05-25T00:00:00\", \"2020-05-26T00:00:00\", \"2020-05-27T00:00:00\", \"2020-05-28T00:00:00\", \"2020-05-29T00:00:00\", \"2020-05-30T00:00:00\", \"2020-05-31T00:00:00\", \"2020-06-03T00:00:00\", \"2020-06-04T00:00:00\", \"2020-06-05T00:00:00\", \"2020-06-06T00:00:00\", \"2020-06-07T00:00:00\", \"2020-06-08T00:00:00\", \"2020-06-13T00:00:00\", \"2020-06-14T00:00:00\", \"2020-06-15T00:00:00\", \"2020-06-16T00:00:00\", \"2020-06-17T00:00:00\", \"2020-06-18T00:00:00\", \"2020-06-19T00:00:00\", \"2020-06-20T00:00:00\", \"2020-06-21T00:00:00\", \"2020-06-22T00:00:00\", \"2020-06-23T00:00:00\", \"2020-06-24T00:00:00\", \"2020-06-25T00:00:00\", \"2020-06-26T00:00:00\", \"2020-06-27T00:00:00\", \"2020-06-28T00:00:00\", \"2020-06-29T00:00:00\", \"2020-06-30T00:00:00\", \"2020-07-03T00:00:00\", \"2020-07-04T00:00:00\", \"2020-07-05T00:00:00\", \"2020-07-06T00:00:00\", \"2020-07-07T00:00:00\", \"2020-07-08T00:00:00\", \"2020-07-13T00:00:00\", \"2020-07-14T00:00:00\", \"2020-07-15T00:00:00\", \"2020-07-16T00:00:00\", \"2020-07-17T00:00:00\", \"2020-07-18T00:00:00\", \"2020-07-19T00:00:00\", \"2020-07-20T00:00:00\", \"2020-07-21T00:00:00\", \"2020-07-22T00:00:00\", \"2020-07-23T00:00:00\", \"2020-07-24T00:00:00\", \"2020-07-25T00:00:00\", \"2020-07-26T00:00:00\", \"2020-07-27T00:00:00\", \"2020-07-28T00:00:00\", \"2020-07-29T00:00:00\", \"2020-07-30T00:00:00\", \"2020-07-31T00:00:00\", \"2020-08-03T00:00:00\", \"2020-08-04T00:00:00\", \"2020-08-05T00:00:00\", \"2020-08-06T00:00:00\", \"2020-08-07T00:00:00\", \"2020-08-08T00:00:00\", \"2020-08-13T00:00:00\", \"2020-08-14T00:00:00\", \"2020-08-15T00:00:00\", \"2020-08-16T00:00:00\"], \"xaxis\": \"x4\", \"y\": [82.0, 72.0, 72.0, 73.0, 72.0, 77.0, 82.0, 82.0, 81.0, 92.0, 89.0, 82.0, 80.0, 87.0, 85.0, 93.0, 78.0, 87.0, 78.0, 93.0, 92.0, 92.0, 93.0, 72.0, 70.0, 64.0, 82.0, 73.0, 79.0, 77.0, 81.0, 80.0, 88.0, 85.0, 76.0, 76.0, 84.0, 84.0, 73.0, 79.0, 80.0, 66.0, 82.0, 83.0, 80.0, 86.0, 93.0, 84.0, 82.0, 78.0, 86.0, 87.0, 77.0, 75.0, 73.0, 86.0, 88.0, 92.0, 90.0, 91.0, 87.0, 83.0, 84.0, 93.0, 73.0, 91.0, 79.0, 81.0, 82.0, 92.0, 93.0, 92.0, 77.0, 81.0, 80.0, 75.0, 75.0, 82.0, 87.0, 88.0, 88.0, 91.0, 93.0, 70.0, 69.0, 81.0, 91.0, 85.0, 91.0, 71.0, 92.0, 78.0, 86.0, 74.0, 93.0, 93.0, 92.0, 83.0, 89.0, 92.0, 93.0, 91.0, 93.0, 93.0, 91.0, 92.0, 93.0, 86.0, 93.0, 90.0, 86.0, 93.0, 79.0, 86.0, 84.0, 72.0, 89.0, 71.0, 92.0, 93.0, 92.0, 92.0, 93.0, 93.0, 93.0, 92.0, 93.0, 93.0, 93.0, 93.0, 93.0, 93.0, 93.0, 92.0, 93.0, 93.0, 92.0, 93.0, 93.0, 93.0, 78.0, 66.0, 92.0, 92.0, 90.0, 93.0, 93.0, 91.0, 93.0, 93.0], \"yaxis\": \"y4\"}, {\"name\": \"Canada\", \"type\": \"scatter\", \"x\": [\"2020-02-13T00:00:00\", \"2020-02-14T00:00:00\", \"2020-02-15T00:00:00\", \"2020-02-16T00:00:00\", \"2020-02-17T00:00:00\", \"2020-02-18T00:00:00\", \"2020-02-19T00:00:00\", \"2020-02-20T00:00:00\", \"2020-02-21T00:00:00\", \"2020-02-22T00:00:00\", \"2020-02-23T00:00:00\", \"2020-02-24T00:00:00\", \"2020-02-25T00:00:00\", \"2020-02-26T00:00:00\", \"2020-02-27T00:00:00\", \"2020-02-28T00:00:00\", \"2020-02-29T00:00:00\", \"2020-03-03T00:00:00\", \"2020-03-04T00:00:00\", \"2020-03-05T00:00:00\", \"2020-03-06T00:00:00\", \"2020-03-07T00:00:00\", \"2020-03-08T00:00:00\", \"2020-03-13T00:00:00\", \"2020-03-14T00:00:00\", \"2020-03-15T00:00:00\", \"2020-03-16T00:00:00\", \"2020-03-17T00:00:00\", \"2020-03-18T00:00:00\", \"2020-03-19T00:00:00\", \"2020-03-20T00:00:00\", \"2020-03-21T00:00:00\", \"2020-03-22T00:00:00\", \"2020-03-23T00:00:00\", \"2020-03-24T00:00:00\", \"2020-03-25T00:00:00\", \"2020-03-26T00:00:00\", \"2020-03-27T00:00:00\", \"2020-03-28T00:00:00\", \"2020-03-29T00:00:00\", \"2020-03-30T00:00:00\", \"2020-03-31T00:00:00\", \"2020-04-03T00:00:00\", \"2020-04-04T00:00:00\", \"2020-04-05T00:00:00\", \"2020-04-06T00:00:00\", \"2020-04-07T00:00:00\", \"2020-04-08T00:00:00\", \"2020-04-13T00:00:00\", \"2020-04-14T00:00:00\", \"2020-04-15T00:00:00\", \"2020-04-16T00:00:00\", \"2020-04-17T00:00:00\", \"2020-04-18T00:00:00\", \"2020-04-19T00:00:00\", \"2020-04-20T00:00:00\", \"2020-04-21T00:00:00\", \"2020-04-22T00:00:00\", \"2020-04-23T00:00:00\", \"2020-04-24T00:00:00\", \"2020-04-25T00:00:00\", \"2020-04-26T00:00:00\", \"2020-04-27T00:00:00\", \"2020-04-28T00:00:00\", \"2020-04-29T00:00:00\", \"2020-04-30T00:00:00\", \"2020-05-03T00:00:00\", \"2020-05-04T00:00:00\", \"2020-05-05T00:00:00\", \"2020-05-06T00:00:00\", \"2020-05-07T00:00:00\", \"2020-05-08T00:00:00\", \"2020-05-13T00:00:00\", \"2020-05-14T00:00:00\", \"2020-05-15T00:00:00\", \"2020-05-16T00:00:00\", \"2020-05-17T00:00:00\", \"2020-05-18T00:00:00\", \"2020-05-19T00:00:00\", \"2020-05-20T00:00:00\", \"2020-05-21T00:00:00\", \"2020-05-22T00:00:00\", \"2020-05-23T00:00:00\", \"2020-05-24T00:00:00\", \"2020-05-25T00:00:00\", \"2020-05-26T00:00:00\", \"2020-05-27T00:00:00\", \"2020-05-28T00:00:00\", \"2020-05-29T00:00:00\", \"2020-05-30T00:00:00\", \"2020-05-31T00:00:00\", \"2020-06-03T00:00:00\", \"2020-06-04T00:00:00\", \"2020-06-05T00:00:00\", \"2020-06-06T00:00:00\", \"2020-06-07T00:00:00\", \"2020-06-08T00:00:00\", \"2020-06-13T00:00:00\", \"2020-06-14T00:00:00\", \"2020-06-15T00:00:00\", \"2020-06-16T00:00:00\", \"2020-06-17T00:00:00\", \"2020-06-18T00:00:00\", \"2020-06-19T00:00:00\", \"2020-06-20T00:00:00\", \"2020-06-21T00:00:00\", \"2020-06-22T00:00:00\", \"2020-06-23T00:00:00\", \"2020-06-24T00:00:00\", \"2020-06-25T00:00:00\", \"2020-06-26T00:00:00\", \"2020-06-27T00:00:00\", \"2020-06-28T00:00:00\", \"2020-06-29T00:00:00\", \"2020-06-30T00:00:00\", \"2020-07-03T00:00:00\", \"2020-07-04T00:00:00\", \"2020-07-05T00:00:00\", \"2020-07-06T00:00:00\", \"2020-07-07T00:00:00\", \"2020-07-08T00:00:00\", \"2020-07-13T00:00:00\", \"2020-07-14T00:00:00\", \"2020-07-15T00:00:00\", \"2020-07-16T00:00:00\", \"2020-07-17T00:00:00\", \"2020-07-18T00:00:00\", \"2020-07-19T00:00:00\", \"2020-07-20T00:00:00\", \"2020-07-21T00:00:00\", \"2020-07-22T00:00:00\", \"2020-07-23T00:00:00\", \"2020-07-24T00:00:00\", \"2020-07-25T00:00:00\", \"2020-07-26T00:00:00\", \"2020-07-27T00:00:00\", \"2020-07-28T00:00:00\", \"2020-07-29T00:00:00\", \"2020-07-30T00:00:00\", \"2020-07-31T00:00:00\", \"2020-08-03T00:00:00\", \"2020-08-04T00:00:00\", \"2020-08-05T00:00:00\", \"2020-08-06T00:00:00\", \"2020-08-07T00:00:00\", \"2020-08-08T00:00:00\", \"2020-08-13T00:00:00\", \"2020-08-14T00:00:00\", \"2020-08-15T00:00:00\", \"2020-08-16T00:00:00\"], \"xaxis\": \"x5\", \"y\": [0, 0, 0, 0, 0, 0, 0, 0, 0, 0, 0, 0, 0, 0, 0, 0, 0, 0, 60508, 152123, 244780, 412841, 571839, 4109, 5247, 5247, 10238, 11487, 13686, 16507, 19782, 23060, 26999, 29757, 32776, 35508, 36600, 38215, 38215, 44097, 46057, 48692, 0, 62520, 152123, 248423, 412841, 596714, 77007, 79695, 79695, 85502, 89144, 92962, 97180, 100898, 104370, 108521, 112562, 116859, 121244, 125310, 128860, 131772, 136511, 141060, 0, 63315, 157137, 254050, 412841, 601748, 181624, 185545, 189225, 193098, 196309, 199237, 201283, 203397, 205778, 209412, 212724, 216168, 218740, 221173, 223771, 226364, 229675, 232702, 235415, 0, 64183, 160185, 259031, 426313, 607363, 297108, 303912, 306887, 312351, 318276, 324964, 332766, 339165, 345952, 351622, 357139, 362699, 367935, 373437, 378629, 384020, 389687, 395713, 0, 65265, 163510, 259031, 431102, 613221, 466472, 470871, 475334, 481161, 485822, 485822, 485822, 503190, 508956, 514742, 520722, 527149, 527149, 527149, 547785, 553619, 559932, 566054, 571839, 0, 66783, 166327, 268663, 435847, 613221, 647281, 652819, 652819, 652819], \"yaxis\": \"y5\"}],\n",
              "                        {\"annotations\": [{\"font\": {\"size\": 16}, \"showarrow\": false, \"text\": \"confirmed\", \"x\": 0.5, \"xanchor\": \"center\", \"xref\": \"paper\", \"y\": 1.0, \"yanchor\": \"bottom\", \"yref\": \"paper\"}, {\"font\": {\"size\": 16}, \"showarrow\": false, \"text\": \"deaths \", \"x\": 0.5, \"xanchor\": \"center\", \"xref\": \"paper\", \"y\": 0.78, \"yanchor\": \"bottom\", \"yref\": \"paper\"}, {\"font\": {\"size\": 16}, \"showarrow\": false, \"text\": \"MEAN_TEMPERATURE\", \"x\": 0.5, \"xanchor\": \"center\", \"xref\": \"paper\", \"y\": 0.56, \"yanchor\": \"bottom\", \"yref\": \"paper\"}, {\"font\": {\"size\": 16}, \"showarrow\": false, \"text\": \"MAX_REL_HUMIDITY\", \"x\": 0.5, \"xanchor\": \"center\", \"xref\": \"paper\", \"y\": 0.33999999999999997, \"yanchor\": \"bottom\", \"yref\": \"paper\"}, {\"font\": {\"size\": 16}, \"showarrow\": false, \"text\": \"total_tested\", \"x\": 0.5, \"xanchor\": \"center\", \"xref\": \"paper\", \"y\": 0.12, \"yanchor\": \"bottom\", \"yref\": \"paper\"}], \"height\": 600, \"template\": {\"data\": {\"bar\": [{\"error_x\": {\"color\": \"#2a3f5f\"}, \"error_y\": {\"color\": \"#2a3f5f\"}, \"marker\": {\"line\": {\"color\": \"#E5ECF6\", \"width\": 0.5}}, \"type\": \"bar\"}], \"barpolar\": [{\"marker\": {\"line\": {\"color\": \"#E5ECF6\", \"width\": 0.5}}, \"type\": \"barpolar\"}], \"carpet\": [{\"aaxis\": {\"endlinecolor\": \"#2a3f5f\", \"gridcolor\": \"white\", \"linecolor\": \"white\", \"minorgridcolor\": \"white\", \"startlinecolor\": \"#2a3f5f\"}, \"baxis\": {\"endlinecolor\": \"#2a3f5f\", \"gridcolor\": \"white\", \"linecolor\": \"white\", \"minorgridcolor\": \"white\", \"startlinecolor\": \"#2a3f5f\"}, \"type\": \"carpet\"}], \"choropleth\": [{\"colorbar\": {\"outlinewidth\": 0, \"ticks\": \"\"}, \"type\": \"choropleth\"}], \"contour\": [{\"colorbar\": {\"outlinewidth\": 0, \"ticks\": \"\"}, \"colorscale\": [[0.0, \"#0d0887\"], [0.1111111111111111, \"#46039f\"], [0.2222222222222222, \"#7201a8\"], [0.3333333333333333, \"#9c179e\"], [0.4444444444444444, \"#bd3786\"], [0.5555555555555556, \"#d8576b\"], [0.6666666666666666, \"#ed7953\"], [0.7777777777777778, \"#fb9f3a\"], [0.8888888888888888, \"#fdca26\"], [1.0, \"#f0f921\"]], \"type\": \"contour\"}], \"contourcarpet\": [{\"colorbar\": {\"outlinewidth\": 0, \"ticks\": \"\"}, \"type\": \"contourcarpet\"}], \"heatmap\": [{\"colorbar\": {\"outlinewidth\": 0, \"ticks\": \"\"}, \"colorscale\": [[0.0, \"#0d0887\"], [0.1111111111111111, \"#46039f\"], [0.2222222222222222, \"#7201a8\"], [0.3333333333333333, \"#9c179e\"], [0.4444444444444444, \"#bd3786\"], [0.5555555555555556, \"#d8576b\"], [0.6666666666666666, \"#ed7953\"], [0.7777777777777778, \"#fb9f3a\"], [0.8888888888888888, \"#fdca26\"], [1.0, \"#f0f921\"]], \"type\": \"heatmap\"}], \"heatmapgl\": [{\"colorbar\": {\"outlinewidth\": 0, \"ticks\": \"\"}, \"colorscale\": [[0.0, \"#0d0887\"], [0.1111111111111111, \"#46039f\"], [0.2222222222222222, \"#7201a8\"], [0.3333333333333333, \"#9c179e\"], [0.4444444444444444, \"#bd3786\"], [0.5555555555555556, \"#d8576b\"], [0.6666666666666666, \"#ed7953\"], [0.7777777777777778, \"#fb9f3a\"], [0.8888888888888888, \"#fdca26\"], [1.0, \"#f0f921\"]], \"type\": \"heatmapgl\"}], \"histogram\": [{\"marker\": {\"colorbar\": {\"outlinewidth\": 0, \"ticks\": \"\"}}, \"type\": \"histogram\"}], \"histogram2d\": [{\"colorbar\": {\"outlinewidth\": 0, \"ticks\": \"\"}, \"colorscale\": [[0.0, \"#0d0887\"], [0.1111111111111111, \"#46039f\"], [0.2222222222222222, \"#7201a8\"], [0.3333333333333333, \"#9c179e\"], [0.4444444444444444, \"#bd3786\"], [0.5555555555555556, \"#d8576b\"], [0.6666666666666666, \"#ed7953\"], [0.7777777777777778, \"#fb9f3a\"], [0.8888888888888888, \"#fdca26\"], [1.0, \"#f0f921\"]], \"type\": \"histogram2d\"}], \"histogram2dcontour\": [{\"colorbar\": {\"outlinewidth\": 0, \"ticks\": \"\"}, \"colorscale\": [[0.0, \"#0d0887\"], [0.1111111111111111, \"#46039f\"], [0.2222222222222222, \"#7201a8\"], [0.3333333333333333, \"#9c179e\"], [0.4444444444444444, \"#bd3786\"], [0.5555555555555556, \"#d8576b\"], [0.6666666666666666, \"#ed7953\"], [0.7777777777777778, \"#fb9f3a\"], [0.8888888888888888, \"#fdca26\"], [1.0, \"#f0f921\"]], \"type\": \"histogram2dcontour\"}], \"mesh3d\": [{\"colorbar\": {\"outlinewidth\": 0, \"ticks\": \"\"}, \"type\": \"mesh3d\"}], \"parcoords\": [{\"line\": {\"colorbar\": {\"outlinewidth\": 0, \"ticks\": \"\"}}, \"type\": \"parcoords\"}], \"pie\": [{\"automargin\": true, \"type\": \"pie\"}], \"scatter\": [{\"marker\": {\"colorbar\": {\"outlinewidth\": 0, \"ticks\": \"\"}}, \"type\": \"scatter\"}], \"scatter3d\": [{\"line\": {\"colorbar\": {\"outlinewidth\": 0, \"ticks\": \"\"}}, \"marker\": {\"colorbar\": {\"outlinewidth\": 0, \"ticks\": \"\"}}, \"type\": \"scatter3d\"}], \"scattercarpet\": [{\"marker\": {\"colorbar\": {\"outlinewidth\": 0, \"ticks\": \"\"}}, \"type\": \"scattercarpet\"}], \"scattergeo\": [{\"marker\": {\"colorbar\": {\"outlinewidth\": 0, \"ticks\": \"\"}}, \"type\": \"scattergeo\"}], \"scattergl\": [{\"marker\": {\"colorbar\": {\"outlinewidth\": 0, \"ticks\": \"\"}}, \"type\": \"scattergl\"}], \"scattermapbox\": [{\"marker\": {\"colorbar\": {\"outlinewidth\": 0, \"ticks\": \"\"}}, \"type\": \"scattermapbox\"}], \"scatterpolar\": [{\"marker\": {\"colorbar\": {\"outlinewidth\": 0, \"ticks\": \"\"}}, \"type\": \"scatterpolar\"}], \"scatterpolargl\": [{\"marker\": {\"colorbar\": {\"outlinewidth\": 0, \"ticks\": \"\"}}, \"type\": \"scatterpolargl\"}], \"scatterternary\": [{\"marker\": {\"colorbar\": {\"outlinewidth\": 0, \"ticks\": \"\"}}, \"type\": \"scatterternary\"}], \"surface\": [{\"colorbar\": {\"outlinewidth\": 0, \"ticks\": \"\"}, \"colorscale\": [[0.0, \"#0d0887\"], [0.1111111111111111, \"#46039f\"], [0.2222222222222222, \"#7201a8\"], [0.3333333333333333, \"#9c179e\"], [0.4444444444444444, \"#bd3786\"], [0.5555555555555556, \"#d8576b\"], [0.6666666666666666, \"#ed7953\"], [0.7777777777777778, \"#fb9f3a\"], [0.8888888888888888, \"#fdca26\"], [1.0, \"#f0f921\"]], \"type\": \"surface\"}], \"table\": [{\"cells\": {\"fill\": {\"color\": \"#EBF0F8\"}, \"line\": {\"color\": \"white\"}}, \"header\": {\"fill\": {\"color\": \"#C8D4E3\"}, \"line\": {\"color\": \"white\"}}, \"type\": \"table\"}]}, \"layout\": {\"annotationdefaults\": {\"arrowcolor\": \"#2a3f5f\", \"arrowhead\": 0, \"arrowwidth\": 1}, \"coloraxis\": {\"colorbar\": {\"outlinewidth\": 0, \"ticks\": \"\"}}, \"colorscale\": {\"diverging\": [[0, \"#8e0152\"], [0.1, \"#c51b7d\"], [0.2, \"#de77ae\"], [0.3, \"#f1b6da\"], [0.4, \"#fde0ef\"], [0.5, \"#f7f7f7\"], [0.6, \"#e6f5d0\"], [0.7, \"#b8e186\"], [0.8, \"#7fbc41\"], [0.9, \"#4d9221\"], [1, \"#276419\"]], \"sequential\": [[0.0, \"#0d0887\"], [0.1111111111111111, \"#46039f\"], [0.2222222222222222, \"#7201a8\"], [0.3333333333333333, \"#9c179e\"], [0.4444444444444444, \"#bd3786\"], [0.5555555555555556, \"#d8576b\"], [0.6666666666666666, \"#ed7953\"], [0.7777777777777778, \"#fb9f3a\"], [0.8888888888888888, \"#fdca26\"], [1.0, \"#f0f921\"]], \"sequentialminus\": [[0.0, \"#0d0887\"], [0.1111111111111111, \"#46039f\"], [0.2222222222222222, \"#7201a8\"], [0.3333333333333333, \"#9c179e\"], [0.4444444444444444, \"#bd3786\"], [0.5555555555555556, \"#d8576b\"], [0.6666666666666666, \"#ed7953\"], [0.7777777777777778, \"#fb9f3a\"], [0.8888888888888888, \"#fdca26\"], [1.0, \"#f0f921\"]]}, \"colorway\": [\"#636efa\", \"#EF553B\", \"#00cc96\", \"#ab63fa\", \"#FFA15A\", \"#19d3f3\", \"#FF6692\", \"#B6E880\", \"#FF97FF\", \"#FECB52\"], \"font\": {\"color\": \"#2a3f5f\"}, \"geo\": {\"bgcolor\": \"white\", \"lakecolor\": \"white\", \"landcolor\": \"#E5ECF6\", \"showlakes\": true, \"showland\": true, \"subunitcolor\": \"white\"}, \"hoverlabel\": {\"align\": \"left\"}, \"hovermode\": \"closest\", \"mapbox\": {\"style\": \"light\"}, \"paper_bgcolor\": \"white\", \"plot_bgcolor\": \"#E5ECF6\", \"polar\": {\"angularaxis\": {\"gridcolor\": \"white\", \"linecolor\": \"white\", \"ticks\": \"\"}, \"bgcolor\": \"#E5ECF6\", \"radialaxis\": {\"gridcolor\": \"white\", \"linecolor\": \"white\", \"ticks\": \"\"}}, \"scene\": {\"xaxis\": {\"backgroundcolor\": \"#E5ECF6\", \"gridcolor\": \"white\", \"gridwidth\": 2, \"linecolor\": \"white\", \"showbackground\": true, \"ticks\": \"\", \"zerolinecolor\": \"white\"}, \"yaxis\": {\"backgroundcolor\": \"#E5ECF6\", \"gridcolor\": \"white\", \"gridwidth\": 2, \"linecolor\": \"white\", \"showbackground\": true, \"ticks\": \"\", \"zerolinecolor\": \"white\"}, \"zaxis\": {\"backgroundcolor\": \"#E5ECF6\", \"gridcolor\": \"white\", \"gridwidth\": 2, \"linecolor\": \"white\", \"showbackground\": true, \"ticks\": \"\", \"zerolinecolor\": \"white\"}}, \"shapedefaults\": {\"line\": {\"color\": \"#2a3f5f\"}}, \"ternary\": {\"aaxis\": {\"gridcolor\": \"white\", \"linecolor\": \"white\", \"ticks\": \"\"}, \"baxis\": {\"gridcolor\": \"white\", \"linecolor\": \"white\", \"ticks\": \"\"}, \"bgcolor\": \"#E5ECF6\", \"caxis\": {\"gridcolor\": \"white\", \"linecolor\": \"white\", \"ticks\": \"\"}}, \"title\": {\"x\": 0.05}, \"xaxis\": {\"automargin\": true, \"gridcolor\": \"white\", \"linecolor\": \"white\", \"ticks\": \"\", \"title\": {\"standoff\": 15}, \"zerolinecolor\": \"white\", \"zerolinewidth\": 2}, \"yaxis\": {\"automargin\": true, \"gridcolor\": \"white\", \"linecolor\": \"white\", \"ticks\": \"\", \"title\": {\"standoff\": 15}, \"zerolinecolor\": \"white\", \"zerolinewidth\": 2}}}, \"title\": {\"text\": \"Stacked Subplots\"}, \"width\": 600, \"xaxis\": {\"anchor\": \"y\", \"domain\": [0.0, 1.0]}, \"xaxis2\": {\"anchor\": \"y2\", \"domain\": [0.0, 1.0]}, \"xaxis3\": {\"anchor\": \"y3\", \"domain\": [0.0, 1.0]}, \"xaxis4\": {\"anchor\": \"y4\", \"domain\": [0.0, 1.0]}, \"xaxis5\": {\"anchor\": \"y5\", \"domain\": [0.0, 1.0]}, \"yaxis\": {\"anchor\": \"x\", \"domain\": [0.88, 1.0]}, \"yaxis2\": {\"anchor\": \"x2\", \"domain\": [0.66, 0.78]}, \"yaxis3\": {\"anchor\": \"x3\", \"domain\": [0.44, 0.56]}, \"yaxis4\": {\"anchor\": \"x4\", \"domain\": [0.22, 0.33999999999999997]}, \"yaxis5\": {\"anchor\": \"x5\", \"domain\": [0.0, 0.12]}},\n",
              "                        {\"responsive\": true}\n",
              "                    ).then(function(){\n",
              "                            \n",
              "var gd = document.getElementById('d2e56334-68f6-49b8-b303-5b096c06472e');\n",
              "var x = new MutationObserver(function (mutations, observer) {{\n",
              "        var display = window.getComputedStyle(gd).display;\n",
              "        if (!display || display === 'none') {{\n",
              "            console.log([gd, 'removed!']);\n",
              "            Plotly.purge(gd);\n",
              "            observer.disconnect();\n",
              "        }}\n",
              "}});\n",
              "\n",
              "// Listen for the removal of the full notebook cells\n",
              "var notebookContainer = gd.closest('#notebook-container');\n",
              "if (notebookContainer) {{\n",
              "    x.observe(notebookContainer, {childList: true});\n",
              "}}\n",
              "\n",
              "// Listen for the clearing of the current output cell\n",
              "var outputEl = gd.closest('.output');\n",
              "if (outputEl) {{\n",
              "    x.observe(outputEl, {childList: true});\n",
              "}}\n",
              "\n",
              "                        })\n",
              "                };\n",
              "                \n",
              "            </script>\n",
              "        </div>\n",
              "</body>\n",
              "</html>"
            ]
          },
          "metadata": {
            "tags": []
          }
        }
      ]
    },
    {
      "cell_type": "code",
      "metadata": {
        "id": "qzOhl-DXoyMV",
        "colab_type": "code",
        "colab": {}
      },
      "source": [
        "full_df['new_cases']=full_df['confirmed']-full_df['confirmed'].shift(1)"
      ],
      "execution_count": 20,
      "outputs": []
    },
    {
      "cell_type": "code",
      "metadata": {
        "id": "xbUpf25trDb9",
        "colab_type": "code",
        "colab": {}
      },
      "source": [
        "full_df['new_deaths']=full_df['deaths']-full_df['deaths'].shift(1)"
      ],
      "execution_count": 21,
      "outputs": []
    },
    {
      "cell_type": "code",
      "metadata": {
        "id": "PKpoET2YrP6G",
        "colab_type": "code",
        "colab": {
          "base_uri": "https://localhost:8080/",
          "height": 204
        },
        "outputId": "a1736f56-c8f2-4d48-e767-1a8476e51d36"
      },
      "source": [
        "full_df.head()"
      ],
      "execution_count": 22,
      "outputs": [
        {
          "output_type": "execute_result",
          "data": {
            "text/html": [
              "<div>\n",
              "<style scoped>\n",
              "    .dataframe tbody tr th:only-of-type {\n",
              "        vertical-align: middle;\n",
              "    }\n",
              "\n",
              "    .dataframe tbody tr th {\n",
              "        vertical-align: top;\n",
              "    }\n",
              "\n",
              "    .dataframe thead th {\n",
              "        text-align: right;\n",
              "    }\n",
              "</style>\n",
              "<table border=\"1\" class=\"dataframe\">\n",
              "  <thead>\n",
              "    <tr style=\"text-align: right;\">\n",
              "      <th></th>\n",
              "      <th>Country</th>\n",
              "      <th>Province/State</th>\n",
              "      <th>date</th>\n",
              "      <th>confirmed</th>\n",
              "      <th>deaths</th>\n",
              "      <th>MEAN_TEMPERATURE</th>\n",
              "      <th>MAX_REL_HUMIDITY</th>\n",
              "      <th>total_tested</th>\n",
              "      <th>new_cases</th>\n",
              "      <th>new_deaths</th>\n",
              "    </tr>\n",
              "  </thead>\n",
              "  <tbody>\n",
              "    <tr>\n",
              "      <th>0</th>\n",
              "      <td>Canada</td>\n",
              "      <td>Alberta</td>\n",
              "      <td>2020-02-13</td>\n",
              "      <td>0</td>\n",
              "      <td>0</td>\n",
              "      <td>-19.80</td>\n",
              "      <td>82.00</td>\n",
              "      <td>0</td>\n",
              "      <td>nan</td>\n",
              "      <td>nan</td>\n",
              "    </tr>\n",
              "    <tr>\n",
              "      <th>1</th>\n",
              "      <td>Canada</td>\n",
              "      <td>Alberta</td>\n",
              "      <td>2020-02-14</td>\n",
              "      <td>0</td>\n",
              "      <td>0</td>\n",
              "      <td>-23.70</td>\n",
              "      <td>72.00</td>\n",
              "      <td>0</td>\n",
              "      <td>0.00</td>\n",
              "      <td>0.00</td>\n",
              "    </tr>\n",
              "    <tr>\n",
              "      <th>2</th>\n",
              "      <td>Canada</td>\n",
              "      <td>Alberta</td>\n",
              "      <td>2020-02-15</td>\n",
              "      <td>0</td>\n",
              "      <td>0</td>\n",
              "      <td>-27.50</td>\n",
              "      <td>72.00</td>\n",
              "      <td>0</td>\n",
              "      <td>0.00</td>\n",
              "      <td>0.00</td>\n",
              "    </tr>\n",
              "    <tr>\n",
              "      <th>3</th>\n",
              "      <td>Canada</td>\n",
              "      <td>Alberta</td>\n",
              "      <td>2020-02-16</td>\n",
              "      <td>0</td>\n",
              "      <td>0</td>\n",
              "      <td>-24.90</td>\n",
              "      <td>73.00</td>\n",
              "      <td>0</td>\n",
              "      <td>0.00</td>\n",
              "      <td>0.00</td>\n",
              "    </tr>\n",
              "    <tr>\n",
              "      <th>4</th>\n",
              "      <td>Canada</td>\n",
              "      <td>Alberta</td>\n",
              "      <td>2020-02-17</td>\n",
              "      <td>0</td>\n",
              "      <td>0</td>\n",
              "      <td>-29.20</td>\n",
              "      <td>72.00</td>\n",
              "      <td>0</td>\n",
              "      <td>0.00</td>\n",
              "      <td>0.00</td>\n",
              "    </tr>\n",
              "  </tbody>\n",
              "</table>\n",
              "</div>"
            ],
            "text/plain": [
              "  Country Province/State       date  ...  total_tested  new_cases  new_deaths\n",
              "0  Canada        Alberta 2020-02-13  ...             0        nan         nan\n",
              "1  Canada        Alberta 2020-02-14  ...             0       0.00        0.00\n",
              "2  Canada        Alberta 2020-02-15  ...             0       0.00        0.00\n",
              "3  Canada        Alberta 2020-02-16  ...             0       0.00        0.00\n",
              "4  Canada        Alberta 2020-02-17  ...             0       0.00        0.00\n",
              "\n",
              "[5 rows x 10 columns]"
            ]
          },
          "metadata": {
            "tags": []
          },
          "execution_count": 22
        }
      ]
    },
    {
      "cell_type": "code",
      "metadata": {
        "id": "CUrylN2LrTCD",
        "colab_type": "code",
        "colab": {
          "base_uri": "https://localhost:8080/",
          "height": 617
        },
        "outputId": "f9c83832-318b-4bec-d69b-409e85f0560a"
      },
      "source": [
        "fig = make_subplots(rows=5, cols=1,subplot_titles=(\"new_cases\", \"new_deaths \", \"MEAN_TEMPERATURE\", \"MAX_REL_HUMIDITY\",\"total_tested\"))\n",
        "\n",
        "fig.append_trace(go.Scatter(\n",
        "    x=full_df['date'],\n",
        "    y=full_df['new_cases'], name='Canada'\n",
        "), row=1, col=1 )\n",
        "\n",
        "fig.append_trace(go.Scatter( \n",
        "    x=full_df['date'],\n",
        "    y=full_df['new_deaths'], name='Canada'\n",
        "), row=2, col=1)\n",
        "\n",
        "fig.append_trace(go.Scatter( \n",
        "    x=full_df['date'],\n",
        "    y=full_df['MEAN_TEMPERATURE'], name='Canada'\n",
        "), row=3, col=1)\n",
        "\n",
        "fig.append_trace(go.Scatter( \n",
        "    x=full_df['date'],\n",
        "    y=full_df['MAX_REL_HUMIDITY'], name='Canada'\n",
        "), row=4, col=1)\n",
        "fig.append_trace(go.Scatter( \n",
        "    x=full_df['date'],\n",
        "    y=full_df['total_tested'], name='Canada'\n",
        "), row=5, col=1)\n",
        "\n",
        "\n",
        "fig.update_layout(height=600, width=600, title_text=\"Stacked Subplots\")\n",
        "#fig.show()"
      ],
      "execution_count": 23,
      "outputs": [
        {
          "output_type": "display_data",
          "data": {
            "text/html": [
              "<html>\n",
              "<head><meta charset=\"utf-8\" /></head>\n",
              "<body>\n",
              "    <div>\n",
              "            <script src=\"https://cdnjs.cloudflare.com/ajax/libs/mathjax/2.7.5/MathJax.js?config=TeX-AMS-MML_SVG\"></script><script type=\"text/javascript\">if (window.MathJax) {MathJax.Hub.Config({SVG: {font: \"STIX-Web\"}});}</script>\n",
              "                <script type=\"text/javascript\">window.PlotlyConfig = {MathJaxConfig: 'local'};</script>\n",
              "        <script src=\"https://cdn.plot.ly/plotly-latest.min.js\"></script>    \n",
              "            <div id=\"be40faf1-a688-4a85-bf9f-7e7df6b546eb\" class=\"plotly-graph-div\" style=\"height:600px; width:600px;\"></div>\n",
              "            <script type=\"text/javascript\">\n",
              "                \n",
              "                    window.PLOTLYENV=window.PLOTLYENV || {};\n",
              "                    \n",
              "                if (document.getElementById(\"be40faf1-a688-4a85-bf9f-7e7df6b546eb\")) {\n",
              "                    Plotly.newPlot(\n",
              "                        'be40faf1-a688-4a85-bf9f-7e7df6b546eb',\n",
              "                        [{\"name\": \"Canada\", \"type\": \"scatter\", \"x\": [\"2020-02-13T00:00:00\", \"2020-02-14T00:00:00\", \"2020-02-15T00:00:00\", \"2020-02-16T00:00:00\", \"2020-02-17T00:00:00\", \"2020-02-18T00:00:00\", \"2020-02-19T00:00:00\", \"2020-02-20T00:00:00\", \"2020-02-21T00:00:00\", \"2020-02-22T00:00:00\", \"2020-02-23T00:00:00\", \"2020-02-24T00:00:00\", \"2020-02-25T00:00:00\", \"2020-02-26T00:00:00\", \"2020-02-27T00:00:00\", \"2020-02-28T00:00:00\", \"2020-02-29T00:00:00\", \"2020-03-03T00:00:00\", \"2020-03-04T00:00:00\", \"2020-03-05T00:00:00\", \"2020-03-06T00:00:00\", \"2020-03-07T00:00:00\", \"2020-03-08T00:00:00\", \"2020-03-13T00:00:00\", \"2020-03-14T00:00:00\", \"2020-03-15T00:00:00\", \"2020-03-16T00:00:00\", \"2020-03-17T00:00:00\", \"2020-03-18T00:00:00\", \"2020-03-19T00:00:00\", \"2020-03-20T00:00:00\", \"2020-03-21T00:00:00\", \"2020-03-22T00:00:00\", \"2020-03-23T00:00:00\", \"2020-03-24T00:00:00\", \"2020-03-25T00:00:00\", \"2020-03-26T00:00:00\", \"2020-03-27T00:00:00\", \"2020-03-28T00:00:00\", \"2020-03-29T00:00:00\", \"2020-03-30T00:00:00\", \"2020-03-31T00:00:00\", \"2020-04-03T00:00:00\", \"2020-04-04T00:00:00\", \"2020-04-05T00:00:00\", \"2020-04-06T00:00:00\", \"2020-04-07T00:00:00\", \"2020-04-08T00:00:00\", \"2020-04-13T00:00:00\", \"2020-04-14T00:00:00\", \"2020-04-15T00:00:00\", \"2020-04-16T00:00:00\", \"2020-04-17T00:00:00\", \"2020-04-18T00:00:00\", \"2020-04-19T00:00:00\", \"2020-04-20T00:00:00\", \"2020-04-21T00:00:00\", \"2020-04-22T00:00:00\", \"2020-04-23T00:00:00\", \"2020-04-24T00:00:00\", \"2020-04-25T00:00:00\", \"2020-04-26T00:00:00\", \"2020-04-27T00:00:00\", \"2020-04-28T00:00:00\", \"2020-04-29T00:00:00\", \"2020-04-30T00:00:00\", \"2020-05-03T00:00:00\", \"2020-05-04T00:00:00\", \"2020-05-05T00:00:00\", \"2020-05-06T00:00:00\", \"2020-05-07T00:00:00\", \"2020-05-08T00:00:00\", \"2020-05-13T00:00:00\", \"2020-05-14T00:00:00\", \"2020-05-15T00:00:00\", \"2020-05-16T00:00:00\", \"2020-05-17T00:00:00\", \"2020-05-18T00:00:00\", \"2020-05-19T00:00:00\", \"2020-05-20T00:00:00\", \"2020-05-21T00:00:00\", \"2020-05-22T00:00:00\", \"2020-05-23T00:00:00\", \"2020-05-24T00:00:00\", \"2020-05-25T00:00:00\", \"2020-05-26T00:00:00\", \"2020-05-27T00:00:00\", \"2020-05-28T00:00:00\", \"2020-05-29T00:00:00\", \"2020-05-30T00:00:00\", \"2020-05-31T00:00:00\", \"2020-06-03T00:00:00\", \"2020-06-04T00:00:00\", \"2020-06-05T00:00:00\", \"2020-06-06T00:00:00\", \"2020-06-07T00:00:00\", \"2020-06-08T00:00:00\", \"2020-06-13T00:00:00\", \"2020-06-14T00:00:00\", \"2020-06-15T00:00:00\", \"2020-06-16T00:00:00\", \"2020-06-17T00:00:00\", \"2020-06-18T00:00:00\", \"2020-06-19T00:00:00\", \"2020-06-20T00:00:00\", \"2020-06-21T00:00:00\", \"2020-06-22T00:00:00\", \"2020-06-23T00:00:00\", \"2020-06-24T00:00:00\", \"2020-06-25T00:00:00\", \"2020-06-26T00:00:00\", \"2020-06-27T00:00:00\", \"2020-06-28T00:00:00\", \"2020-06-29T00:00:00\", \"2020-06-30T00:00:00\", \"2020-07-03T00:00:00\", \"2020-07-04T00:00:00\", \"2020-07-05T00:00:00\", \"2020-07-06T00:00:00\", \"2020-07-07T00:00:00\", \"2020-07-08T00:00:00\", \"2020-07-13T00:00:00\", \"2020-07-14T00:00:00\", \"2020-07-15T00:00:00\", \"2020-07-16T00:00:00\", \"2020-07-17T00:00:00\", \"2020-07-18T00:00:00\", \"2020-07-19T00:00:00\", \"2020-07-20T00:00:00\", \"2020-07-21T00:00:00\", \"2020-07-22T00:00:00\", \"2020-07-23T00:00:00\", \"2020-07-24T00:00:00\", \"2020-07-25T00:00:00\", \"2020-07-26T00:00:00\", \"2020-07-27T00:00:00\", \"2020-07-28T00:00:00\", \"2020-07-29T00:00:00\", \"2020-07-30T00:00:00\", \"2020-07-31T00:00:00\", \"2020-08-03T00:00:00\", \"2020-08-04T00:00:00\", \"2020-08-05T00:00:00\", \"2020-08-06T00:00:00\", \"2020-08-07T00:00:00\", \"2020-08-08T00:00:00\", \"2020-08-13T00:00:00\", \"2020-08-14T00:00:00\", \"2020-08-15T00:00:00\", \"2020-08-16T00:00:00\"], \"xaxis\": \"x\", \"y\": [null, 0.0, 0.0, 0.0, 0.0, 0.0, 0.0, 0.0, 0.0, 0.0, 0.0, 0.0, 0.0, 0.0, 0.0, 0.0, 0.0, 0.0, 0.0, 0.0, 1.0, 1.0, 2.0, 25.0, 0.0, 10.0, 17.0, 18.0, 23.0, 22.0, 27.0, 49.0, 64.0, 42.0, 58.0, -1.0, 128.0, 56.0, 0.0, 79.0, 40.0, 29.0, 279.0, 106.0, 106.0, 69.0, 123.0, 0.0, 359.0, 138.0, 0.0, 126.0, 401.0, 165.0, 241.0, 105.0, 187.0, 306.0, 319.0, 297.0, 216.0, 247.0, 216.0, 154.0, 315.0, 190.0, 411.0, 70.0, 57.0, 70.0, 54.0, 81.0, 309.0, 50.0, 58.0, 72.0, 57.0, 39.0, 33.0, 19.0, 33.0, 32.0, 18.0, 42.0, 19.0, 22.0, 25.0, 29.0, 24.0, 13.0, 18.0, 66.0, 15.0, 7.0, 40.0, 0.0, 64.0, 181.0, 50.0, 20.0, 29.0, 48.0, 49.0, 46.0, 48.0, 31.0, 32.0, 45.0, 44.0, 26.0, 37.0, 69.0, 39.0, 71.0, 41.0, 151.0, 0.0, 0.0, 130.0, 47.0, 46.0, 344.0, 86.0, 82.0, 120.0, 105.0, 0.0, 0.0, 368.0, 141.0, 0.0, 247.0, 111.0, 0.0, 0.0, 304.0, 80.0, 133.0, 113.0, 127.0, 0.0, 303.0, 94.0, 56.0, 134.0, 0.0, 539.0, 84.0, 0.0, 0.0], \"yaxis\": \"y\"}, {\"name\": \"Canada\", \"type\": \"scatter\", \"x\": [\"2020-02-13T00:00:00\", \"2020-02-14T00:00:00\", \"2020-02-15T00:00:00\", \"2020-02-16T00:00:00\", \"2020-02-17T00:00:00\", \"2020-02-18T00:00:00\", \"2020-02-19T00:00:00\", \"2020-02-20T00:00:00\", \"2020-02-21T00:00:00\", \"2020-02-22T00:00:00\", \"2020-02-23T00:00:00\", \"2020-02-24T00:00:00\", \"2020-02-25T00:00:00\", \"2020-02-26T00:00:00\", \"2020-02-27T00:00:00\", \"2020-02-28T00:00:00\", \"2020-02-29T00:00:00\", \"2020-03-03T00:00:00\", \"2020-03-04T00:00:00\", \"2020-03-05T00:00:00\", \"2020-03-06T00:00:00\", \"2020-03-07T00:00:00\", \"2020-03-08T00:00:00\", \"2020-03-13T00:00:00\", \"2020-03-14T00:00:00\", \"2020-03-15T00:00:00\", \"2020-03-16T00:00:00\", \"2020-03-17T00:00:00\", \"2020-03-18T00:00:00\", \"2020-03-19T00:00:00\", \"2020-03-20T00:00:00\", \"2020-03-21T00:00:00\", \"2020-03-22T00:00:00\", \"2020-03-23T00:00:00\", \"2020-03-24T00:00:00\", \"2020-03-25T00:00:00\", \"2020-03-26T00:00:00\", \"2020-03-27T00:00:00\", \"2020-03-28T00:00:00\", \"2020-03-29T00:00:00\", \"2020-03-30T00:00:00\", \"2020-03-31T00:00:00\", \"2020-04-03T00:00:00\", \"2020-04-04T00:00:00\", \"2020-04-05T00:00:00\", \"2020-04-06T00:00:00\", \"2020-04-07T00:00:00\", \"2020-04-08T00:00:00\", \"2020-04-13T00:00:00\", \"2020-04-14T00:00:00\", \"2020-04-15T00:00:00\", \"2020-04-16T00:00:00\", \"2020-04-17T00:00:00\", \"2020-04-18T00:00:00\", \"2020-04-19T00:00:00\", \"2020-04-20T00:00:00\", \"2020-04-21T00:00:00\", \"2020-04-22T00:00:00\", \"2020-04-23T00:00:00\", \"2020-04-24T00:00:00\", \"2020-04-25T00:00:00\", \"2020-04-26T00:00:00\", \"2020-04-27T00:00:00\", \"2020-04-28T00:00:00\", \"2020-04-29T00:00:00\", \"2020-04-30T00:00:00\", \"2020-05-03T00:00:00\", \"2020-05-04T00:00:00\", \"2020-05-05T00:00:00\", \"2020-05-06T00:00:00\", \"2020-05-07T00:00:00\", \"2020-05-08T00:00:00\", \"2020-05-13T00:00:00\", \"2020-05-14T00:00:00\", \"2020-05-15T00:00:00\", \"2020-05-16T00:00:00\", \"2020-05-17T00:00:00\", \"2020-05-18T00:00:00\", \"2020-05-19T00:00:00\", \"2020-05-20T00:00:00\", \"2020-05-21T00:00:00\", \"2020-05-22T00:00:00\", \"2020-05-23T00:00:00\", \"2020-05-24T00:00:00\", \"2020-05-25T00:00:00\", \"2020-05-26T00:00:00\", \"2020-05-27T00:00:00\", \"2020-05-28T00:00:00\", \"2020-05-29T00:00:00\", \"2020-05-30T00:00:00\", \"2020-05-31T00:00:00\", \"2020-06-03T00:00:00\", \"2020-06-04T00:00:00\", \"2020-06-05T00:00:00\", \"2020-06-06T00:00:00\", \"2020-06-07T00:00:00\", \"2020-06-08T00:00:00\", \"2020-06-13T00:00:00\", \"2020-06-14T00:00:00\", \"2020-06-15T00:00:00\", \"2020-06-16T00:00:00\", \"2020-06-17T00:00:00\", \"2020-06-18T00:00:00\", \"2020-06-19T00:00:00\", \"2020-06-20T00:00:00\", \"2020-06-21T00:00:00\", \"2020-06-22T00:00:00\", \"2020-06-23T00:00:00\", \"2020-06-24T00:00:00\", \"2020-06-25T00:00:00\", \"2020-06-26T00:00:00\", \"2020-06-27T00:00:00\", \"2020-06-28T00:00:00\", \"2020-06-29T00:00:00\", \"2020-06-30T00:00:00\", \"2020-07-03T00:00:00\", \"2020-07-04T00:00:00\", \"2020-07-05T00:00:00\", \"2020-07-06T00:00:00\", \"2020-07-07T00:00:00\", \"2020-07-08T00:00:00\", \"2020-07-13T00:00:00\", \"2020-07-14T00:00:00\", \"2020-07-15T00:00:00\", \"2020-07-16T00:00:00\", \"2020-07-17T00:00:00\", \"2020-07-18T00:00:00\", \"2020-07-19T00:00:00\", \"2020-07-20T00:00:00\", \"2020-07-21T00:00:00\", \"2020-07-22T00:00:00\", \"2020-07-23T00:00:00\", \"2020-07-24T00:00:00\", \"2020-07-25T00:00:00\", \"2020-07-26T00:00:00\", \"2020-07-27T00:00:00\", \"2020-07-28T00:00:00\", \"2020-07-29T00:00:00\", \"2020-07-30T00:00:00\", \"2020-07-31T00:00:00\", \"2020-08-03T00:00:00\", \"2020-08-04T00:00:00\", \"2020-08-05T00:00:00\", \"2020-08-06T00:00:00\", \"2020-08-07T00:00:00\", \"2020-08-08T00:00:00\", \"2020-08-13T00:00:00\", \"2020-08-14T00:00:00\", \"2020-08-15T00:00:00\", \"2020-08-16T00:00:00\"], \"xaxis\": \"x2\", \"y\": [null, 0.0, 0.0, 0.0, 0.0, 0.0, 0.0, 0.0, 0.0, 0.0, 0.0, 0.0, 0.0, 0.0, 0.0, 0.0, 0.0, 0.0, 0.0, 0.0, 0.0, 0.0, 0.0, 0.0, 0.0, 0.0, 0.0, 0.0, 0.0, 0.0, 1.0, 0.0, 0.0, 0.0, 0.0, 1.0, 0.0, 0.0, 0.0, 0.0, 1.0, 5.0, 5.0, 5.0, 2.0, 3.0, 1.0, 2.0, 20.0, 2.0, 0.0, 0.0, 2.0, 1.0, 0.0, 8.0, 2.0, 5.0, 2.0, 4.0, 1.0, 0.0, 2.0, 5.0, 7.0, 3.0, 5.0, 9.0, 2.0, 6.0, 2.0, 1.0, 5.0, 1.0, 4.0, 1.0, 1.0, 1.0, 0.0, 0.0, 4.0, 2.0, 1.0, 0.0, 3.0, 1.0, 2.0, 2.0, 0.0, 0.0, 0.0, 2.0, 1.0, 0.0, 0.0, 0.0, 3.0, 1.0, 0.0, 1.0, 0.0, 0.0, 1.0, 0.0, 0.0, 0.0, 1.0, 0.0, 0.0, 1.0, 0.0, 0.0, 0.0, 0.0, 0.0, 1.0, 0.0, 0.0, 0.0, 2.0, 1.0, 3.0, 2.0, 0.0, 2.0, 2.0, 0.0, 0.0, 3.0, 2.0, 0.0, 4.0, 2.0, 0.0, 0.0, 8.0, 1.0, 3.0, 5.0, 1.0, 0.0, 5.0, 2.0, 2.0, 3.0, 0.0, 12.0, 1.0, 0.0, 0.0], \"yaxis\": \"y2\"}, {\"name\": \"Canada\", \"type\": \"scatter\", \"x\": [\"2020-02-13T00:00:00\", \"2020-02-14T00:00:00\", \"2020-02-15T00:00:00\", \"2020-02-16T00:00:00\", \"2020-02-17T00:00:00\", \"2020-02-18T00:00:00\", \"2020-02-19T00:00:00\", \"2020-02-20T00:00:00\", \"2020-02-21T00:00:00\", \"2020-02-22T00:00:00\", \"2020-02-23T00:00:00\", \"2020-02-24T00:00:00\", \"2020-02-25T00:00:00\", \"2020-02-26T00:00:00\", \"2020-02-27T00:00:00\", \"2020-02-28T00:00:00\", \"2020-02-29T00:00:00\", \"2020-03-03T00:00:00\", \"2020-03-04T00:00:00\", \"2020-03-05T00:00:00\", \"2020-03-06T00:00:00\", \"2020-03-07T00:00:00\", \"2020-03-08T00:00:00\", \"2020-03-13T00:00:00\", \"2020-03-14T00:00:00\", \"2020-03-15T00:00:00\", \"2020-03-16T00:00:00\", \"2020-03-17T00:00:00\", \"2020-03-18T00:00:00\", \"2020-03-19T00:00:00\", \"2020-03-20T00:00:00\", \"2020-03-21T00:00:00\", \"2020-03-22T00:00:00\", \"2020-03-23T00:00:00\", \"2020-03-24T00:00:00\", \"2020-03-25T00:00:00\", \"2020-03-26T00:00:00\", \"2020-03-27T00:00:00\", \"2020-03-28T00:00:00\", \"2020-03-29T00:00:00\", \"2020-03-30T00:00:00\", \"2020-03-31T00:00:00\", \"2020-04-03T00:00:00\", \"2020-04-04T00:00:00\", \"2020-04-05T00:00:00\", \"2020-04-06T00:00:00\", \"2020-04-07T00:00:00\", \"2020-04-08T00:00:00\", \"2020-04-13T00:00:00\", \"2020-04-14T00:00:00\", \"2020-04-15T00:00:00\", \"2020-04-16T00:00:00\", \"2020-04-17T00:00:00\", \"2020-04-18T00:00:00\", \"2020-04-19T00:00:00\", \"2020-04-20T00:00:00\", \"2020-04-21T00:00:00\", \"2020-04-22T00:00:00\", \"2020-04-23T00:00:00\", \"2020-04-24T00:00:00\", \"2020-04-25T00:00:00\", \"2020-04-26T00:00:00\", \"2020-04-27T00:00:00\", \"2020-04-28T00:00:00\", \"2020-04-29T00:00:00\", \"2020-04-30T00:00:00\", \"2020-05-03T00:00:00\", \"2020-05-04T00:00:00\", \"2020-05-05T00:00:00\", \"2020-05-06T00:00:00\", \"2020-05-07T00:00:00\", \"2020-05-08T00:00:00\", \"2020-05-13T00:00:00\", \"2020-05-14T00:00:00\", \"2020-05-15T00:00:00\", \"2020-05-16T00:00:00\", \"2020-05-17T00:00:00\", \"2020-05-18T00:00:00\", \"2020-05-19T00:00:00\", \"2020-05-20T00:00:00\", \"2020-05-21T00:00:00\", \"2020-05-22T00:00:00\", \"2020-05-23T00:00:00\", \"2020-05-24T00:00:00\", \"2020-05-25T00:00:00\", \"2020-05-26T00:00:00\", \"2020-05-27T00:00:00\", \"2020-05-28T00:00:00\", \"2020-05-29T00:00:00\", \"2020-05-30T00:00:00\", \"2020-05-31T00:00:00\", \"2020-06-03T00:00:00\", \"2020-06-04T00:00:00\", \"2020-06-05T00:00:00\", \"2020-06-06T00:00:00\", \"2020-06-07T00:00:00\", \"2020-06-08T00:00:00\", \"2020-06-13T00:00:00\", \"2020-06-14T00:00:00\", \"2020-06-15T00:00:00\", \"2020-06-16T00:00:00\", \"2020-06-17T00:00:00\", \"2020-06-18T00:00:00\", \"2020-06-19T00:00:00\", \"2020-06-20T00:00:00\", \"2020-06-21T00:00:00\", \"2020-06-22T00:00:00\", \"2020-06-23T00:00:00\", \"2020-06-24T00:00:00\", \"2020-06-25T00:00:00\", \"2020-06-26T00:00:00\", \"2020-06-27T00:00:00\", \"2020-06-28T00:00:00\", \"2020-06-29T00:00:00\", \"2020-06-30T00:00:00\", \"2020-07-03T00:00:00\", \"2020-07-04T00:00:00\", \"2020-07-05T00:00:00\", \"2020-07-06T00:00:00\", \"2020-07-07T00:00:00\", \"2020-07-08T00:00:00\", \"2020-07-13T00:00:00\", \"2020-07-14T00:00:00\", \"2020-07-15T00:00:00\", \"2020-07-16T00:00:00\", \"2020-07-17T00:00:00\", \"2020-07-18T00:00:00\", \"2020-07-19T00:00:00\", \"2020-07-20T00:00:00\", \"2020-07-21T00:00:00\", \"2020-07-22T00:00:00\", \"2020-07-23T00:00:00\", \"2020-07-24T00:00:00\", \"2020-07-25T00:00:00\", \"2020-07-26T00:00:00\", \"2020-07-27T00:00:00\", \"2020-07-28T00:00:00\", \"2020-07-29T00:00:00\", \"2020-07-30T00:00:00\", \"2020-07-31T00:00:00\", \"2020-08-03T00:00:00\", \"2020-08-04T00:00:00\", \"2020-08-05T00:00:00\", \"2020-08-06T00:00:00\", \"2020-08-07T00:00:00\", \"2020-08-08T00:00:00\", \"2020-08-13T00:00:00\", \"2020-08-14T00:00:00\", \"2020-08-15T00:00:00\", \"2020-08-16T00:00:00\"], \"xaxis\": \"x3\", \"y\": [-19.8, -23.7, -27.5, -24.9, -29.2, -27.3, -12.8, -1.1, -2.2, -1.4, -6.6, -16.3, -17.3, -8.2, -6.1, -6.6, -18.2, -7.3, -16.5, 7.8, 10.9, 17.7, 21.8, -22.9, -22.6, -9.3, -8.8, -15.2, -13.6, -16.0, -7.6, -5.3, -2.8, -8.3, -16.9, -11.8, -9.1, -16.4, -18.7, -15.3, -12.5, -13.9, -10.2, -11.9, 10.3, 13.6, 15.4, 19.2, -5.7, -1.2, 3.3, 2.8, 3.2, 5.2, 3.7, 1.0, 5.2, 6.3, 2.5, 4.8, 2.6, -1.2, 2.0, 7.9, 10.3, 6.3, -14.7, -7.8, 8.2, 12.7, 15.1, 18.8, 4.0, 1.2, 3.3, 8.5, 5.5, 4.6, 8.1, 10.9, 12.0, 3.3, 9.8, 12.2, 13.2, 12.2, 10.8, 7.9, 11.3, 14.8, 11.5, -17.2, -5.4, 11.2, 11.4, 16.3, 20.6, 19.7, 18.6, 18.3, 13.2, 11.1, 13.3, 17.3, 17.8, 18.8, 18.4, 17.2, 17.3, 18.1, 18.4, 16.8, 18.0, 16.3, 19.9, -17.9, -5.5, 12.8, 7.8, 16.3, 17.0, 14.0, 15.2, 15.2, 13.9, 16.1, 17.3, 18.1, 20.0, 17.8, 19.3, 15.3, 16.6, 18.3, 18.0, 20.9, 20.2, 16.8, 19.0, 19.9, -16.2, -0.8, 7.7, 8.1, 15.7, 14.6, 14.0, 15.3, 12.9, 12.0], \"yaxis\": \"y3\"}, {\"name\": \"Canada\", \"type\": \"scatter\", \"x\": [\"2020-02-13T00:00:00\", \"2020-02-14T00:00:00\", \"2020-02-15T00:00:00\", \"2020-02-16T00:00:00\", \"2020-02-17T00:00:00\", \"2020-02-18T00:00:00\", \"2020-02-19T00:00:00\", \"2020-02-20T00:00:00\", \"2020-02-21T00:00:00\", \"2020-02-22T00:00:00\", \"2020-02-23T00:00:00\", \"2020-02-24T00:00:00\", \"2020-02-25T00:00:00\", \"2020-02-26T00:00:00\", \"2020-02-27T00:00:00\", \"2020-02-28T00:00:00\", \"2020-02-29T00:00:00\", \"2020-03-03T00:00:00\", \"2020-03-04T00:00:00\", \"2020-03-05T00:00:00\", \"2020-03-06T00:00:00\", \"2020-03-07T00:00:00\", \"2020-03-08T00:00:00\", \"2020-03-13T00:00:00\", \"2020-03-14T00:00:00\", \"2020-03-15T00:00:00\", \"2020-03-16T00:00:00\", \"2020-03-17T00:00:00\", \"2020-03-18T00:00:00\", \"2020-03-19T00:00:00\", \"2020-03-20T00:00:00\", \"2020-03-21T00:00:00\", \"2020-03-22T00:00:00\", \"2020-03-23T00:00:00\", \"2020-03-24T00:00:00\", \"2020-03-25T00:00:00\", \"2020-03-26T00:00:00\", \"2020-03-27T00:00:00\", \"2020-03-28T00:00:00\", \"2020-03-29T00:00:00\", \"2020-03-30T00:00:00\", \"2020-03-31T00:00:00\", \"2020-04-03T00:00:00\", \"2020-04-04T00:00:00\", \"2020-04-05T00:00:00\", \"2020-04-06T00:00:00\", \"2020-04-07T00:00:00\", \"2020-04-08T00:00:00\", \"2020-04-13T00:00:00\", \"2020-04-14T00:00:00\", \"2020-04-15T00:00:00\", \"2020-04-16T00:00:00\", \"2020-04-17T00:00:00\", \"2020-04-18T00:00:00\", \"2020-04-19T00:00:00\", \"2020-04-20T00:00:00\", \"2020-04-21T00:00:00\", \"2020-04-22T00:00:00\", \"2020-04-23T00:00:00\", \"2020-04-24T00:00:00\", \"2020-04-25T00:00:00\", \"2020-04-26T00:00:00\", \"2020-04-27T00:00:00\", \"2020-04-28T00:00:00\", \"2020-04-29T00:00:00\", \"2020-04-30T00:00:00\", \"2020-05-03T00:00:00\", \"2020-05-04T00:00:00\", \"2020-05-05T00:00:00\", \"2020-05-06T00:00:00\", \"2020-05-07T00:00:00\", \"2020-05-08T00:00:00\", \"2020-05-13T00:00:00\", \"2020-05-14T00:00:00\", \"2020-05-15T00:00:00\", \"2020-05-16T00:00:00\", \"2020-05-17T00:00:00\", \"2020-05-18T00:00:00\", \"2020-05-19T00:00:00\", \"2020-05-20T00:00:00\", \"2020-05-21T00:00:00\", \"2020-05-22T00:00:00\", \"2020-05-23T00:00:00\", \"2020-05-24T00:00:00\", \"2020-05-25T00:00:00\", \"2020-05-26T00:00:00\", \"2020-05-27T00:00:00\", \"2020-05-28T00:00:00\", \"2020-05-29T00:00:00\", \"2020-05-30T00:00:00\", \"2020-05-31T00:00:00\", \"2020-06-03T00:00:00\", \"2020-06-04T00:00:00\", \"2020-06-05T00:00:00\", \"2020-06-06T00:00:00\", \"2020-06-07T00:00:00\", \"2020-06-08T00:00:00\", \"2020-06-13T00:00:00\", \"2020-06-14T00:00:00\", \"2020-06-15T00:00:00\", \"2020-06-16T00:00:00\", \"2020-06-17T00:00:00\", \"2020-06-18T00:00:00\", \"2020-06-19T00:00:00\", \"2020-06-20T00:00:00\", \"2020-06-21T00:00:00\", \"2020-06-22T00:00:00\", \"2020-06-23T00:00:00\", \"2020-06-24T00:00:00\", \"2020-06-25T00:00:00\", \"2020-06-26T00:00:00\", \"2020-06-27T00:00:00\", \"2020-06-28T00:00:00\", \"2020-06-29T00:00:00\", \"2020-06-30T00:00:00\", \"2020-07-03T00:00:00\", \"2020-07-04T00:00:00\", \"2020-07-05T00:00:00\", \"2020-07-06T00:00:00\", \"2020-07-07T00:00:00\", \"2020-07-08T00:00:00\", \"2020-07-13T00:00:00\", \"2020-07-14T00:00:00\", \"2020-07-15T00:00:00\", \"2020-07-16T00:00:00\", \"2020-07-17T00:00:00\", \"2020-07-18T00:00:00\", \"2020-07-19T00:00:00\", \"2020-07-20T00:00:00\", \"2020-07-21T00:00:00\", \"2020-07-22T00:00:00\", \"2020-07-23T00:00:00\", \"2020-07-24T00:00:00\", \"2020-07-25T00:00:00\", \"2020-07-26T00:00:00\", \"2020-07-27T00:00:00\", \"2020-07-28T00:00:00\", \"2020-07-29T00:00:00\", \"2020-07-30T00:00:00\", \"2020-07-31T00:00:00\", \"2020-08-03T00:00:00\", \"2020-08-04T00:00:00\", \"2020-08-05T00:00:00\", \"2020-08-06T00:00:00\", \"2020-08-07T00:00:00\", \"2020-08-08T00:00:00\", \"2020-08-13T00:00:00\", \"2020-08-14T00:00:00\", \"2020-08-15T00:00:00\", \"2020-08-16T00:00:00\"], \"xaxis\": \"x4\", \"y\": [82.0, 72.0, 72.0, 73.0, 72.0, 77.0, 82.0, 82.0, 81.0, 92.0, 89.0, 82.0, 80.0, 87.0, 85.0, 93.0, 78.0, 87.0, 78.0, 93.0, 92.0, 92.0, 93.0, 72.0, 70.0, 64.0, 82.0, 73.0, 79.0, 77.0, 81.0, 80.0, 88.0, 85.0, 76.0, 76.0, 84.0, 84.0, 73.0, 79.0, 80.0, 66.0, 82.0, 83.0, 80.0, 86.0, 93.0, 84.0, 82.0, 78.0, 86.0, 87.0, 77.0, 75.0, 73.0, 86.0, 88.0, 92.0, 90.0, 91.0, 87.0, 83.0, 84.0, 93.0, 73.0, 91.0, 79.0, 81.0, 82.0, 92.0, 93.0, 92.0, 77.0, 81.0, 80.0, 75.0, 75.0, 82.0, 87.0, 88.0, 88.0, 91.0, 93.0, 70.0, 69.0, 81.0, 91.0, 85.0, 91.0, 71.0, 92.0, 78.0, 86.0, 74.0, 93.0, 93.0, 92.0, 83.0, 89.0, 92.0, 93.0, 91.0, 93.0, 93.0, 91.0, 92.0, 93.0, 86.0, 93.0, 90.0, 86.0, 93.0, 79.0, 86.0, 84.0, 72.0, 89.0, 71.0, 92.0, 93.0, 92.0, 92.0, 93.0, 93.0, 93.0, 92.0, 93.0, 93.0, 93.0, 93.0, 93.0, 93.0, 93.0, 92.0, 93.0, 93.0, 92.0, 93.0, 93.0, 93.0, 78.0, 66.0, 92.0, 92.0, 90.0, 93.0, 93.0, 91.0, 93.0, 93.0], \"yaxis\": \"y4\"}, {\"name\": \"Canada\", \"type\": \"scatter\", \"x\": [\"2020-02-13T00:00:00\", \"2020-02-14T00:00:00\", \"2020-02-15T00:00:00\", \"2020-02-16T00:00:00\", \"2020-02-17T00:00:00\", \"2020-02-18T00:00:00\", \"2020-02-19T00:00:00\", \"2020-02-20T00:00:00\", \"2020-02-21T00:00:00\", \"2020-02-22T00:00:00\", \"2020-02-23T00:00:00\", \"2020-02-24T00:00:00\", \"2020-02-25T00:00:00\", \"2020-02-26T00:00:00\", \"2020-02-27T00:00:00\", \"2020-02-28T00:00:00\", \"2020-02-29T00:00:00\", \"2020-03-03T00:00:00\", \"2020-03-04T00:00:00\", \"2020-03-05T00:00:00\", \"2020-03-06T00:00:00\", \"2020-03-07T00:00:00\", \"2020-03-08T00:00:00\", \"2020-03-13T00:00:00\", \"2020-03-14T00:00:00\", \"2020-03-15T00:00:00\", \"2020-03-16T00:00:00\", \"2020-03-17T00:00:00\", \"2020-03-18T00:00:00\", \"2020-03-19T00:00:00\", \"2020-03-20T00:00:00\", \"2020-03-21T00:00:00\", \"2020-03-22T00:00:00\", \"2020-03-23T00:00:00\", \"2020-03-24T00:00:00\", \"2020-03-25T00:00:00\", \"2020-03-26T00:00:00\", \"2020-03-27T00:00:00\", \"2020-03-28T00:00:00\", \"2020-03-29T00:00:00\", \"2020-03-30T00:00:00\", \"2020-03-31T00:00:00\", \"2020-04-03T00:00:00\", \"2020-04-04T00:00:00\", \"2020-04-05T00:00:00\", \"2020-04-06T00:00:00\", \"2020-04-07T00:00:00\", \"2020-04-08T00:00:00\", \"2020-04-13T00:00:00\", \"2020-04-14T00:00:00\", \"2020-04-15T00:00:00\", \"2020-04-16T00:00:00\", \"2020-04-17T00:00:00\", \"2020-04-18T00:00:00\", \"2020-04-19T00:00:00\", \"2020-04-20T00:00:00\", \"2020-04-21T00:00:00\", \"2020-04-22T00:00:00\", \"2020-04-23T00:00:00\", \"2020-04-24T00:00:00\", \"2020-04-25T00:00:00\", \"2020-04-26T00:00:00\", \"2020-04-27T00:00:00\", \"2020-04-28T00:00:00\", \"2020-04-29T00:00:00\", \"2020-04-30T00:00:00\", \"2020-05-03T00:00:00\", \"2020-05-04T00:00:00\", \"2020-05-05T00:00:00\", \"2020-05-06T00:00:00\", \"2020-05-07T00:00:00\", \"2020-05-08T00:00:00\", \"2020-05-13T00:00:00\", \"2020-05-14T00:00:00\", \"2020-05-15T00:00:00\", \"2020-05-16T00:00:00\", \"2020-05-17T00:00:00\", \"2020-05-18T00:00:00\", \"2020-05-19T00:00:00\", \"2020-05-20T00:00:00\", \"2020-05-21T00:00:00\", \"2020-05-22T00:00:00\", \"2020-05-23T00:00:00\", \"2020-05-24T00:00:00\", \"2020-05-25T00:00:00\", \"2020-05-26T00:00:00\", \"2020-05-27T00:00:00\", \"2020-05-28T00:00:00\", \"2020-05-29T00:00:00\", \"2020-05-30T00:00:00\", \"2020-05-31T00:00:00\", \"2020-06-03T00:00:00\", \"2020-06-04T00:00:00\", \"2020-06-05T00:00:00\", \"2020-06-06T00:00:00\", \"2020-06-07T00:00:00\", \"2020-06-08T00:00:00\", \"2020-06-13T00:00:00\", \"2020-06-14T00:00:00\", \"2020-06-15T00:00:00\", \"2020-06-16T00:00:00\", \"2020-06-17T00:00:00\", \"2020-06-18T00:00:00\", \"2020-06-19T00:00:00\", \"2020-06-20T00:00:00\", \"2020-06-21T00:00:00\", \"2020-06-22T00:00:00\", \"2020-06-23T00:00:00\", \"2020-06-24T00:00:00\", \"2020-06-25T00:00:00\", \"2020-06-26T00:00:00\", \"2020-06-27T00:00:00\", \"2020-06-28T00:00:00\", \"2020-06-29T00:00:00\", \"2020-06-30T00:00:00\", \"2020-07-03T00:00:00\", \"2020-07-04T00:00:00\", \"2020-07-05T00:00:00\", \"2020-07-06T00:00:00\", \"2020-07-07T00:00:00\", \"2020-07-08T00:00:00\", \"2020-07-13T00:00:00\", \"2020-07-14T00:00:00\", \"2020-07-15T00:00:00\", \"2020-07-16T00:00:00\", \"2020-07-17T00:00:00\", \"2020-07-18T00:00:00\", \"2020-07-19T00:00:00\", \"2020-07-20T00:00:00\", \"2020-07-21T00:00:00\", \"2020-07-22T00:00:00\", \"2020-07-23T00:00:00\", \"2020-07-24T00:00:00\", \"2020-07-25T00:00:00\", \"2020-07-26T00:00:00\", \"2020-07-27T00:00:00\", \"2020-07-28T00:00:00\", \"2020-07-29T00:00:00\", \"2020-07-30T00:00:00\", \"2020-07-31T00:00:00\", \"2020-08-03T00:00:00\", \"2020-08-04T00:00:00\", \"2020-08-05T00:00:00\", \"2020-08-06T00:00:00\", \"2020-08-07T00:00:00\", \"2020-08-08T00:00:00\", \"2020-08-13T00:00:00\", \"2020-08-14T00:00:00\", \"2020-08-15T00:00:00\", \"2020-08-16T00:00:00\"], \"xaxis\": \"x5\", \"y\": [0, 0, 0, 0, 0, 0, 0, 0, 0, 0, 0, 0, 0, 0, 0, 0, 0, 0, 60508, 152123, 244780, 412841, 571839, 4109, 5247, 5247, 10238, 11487, 13686, 16507, 19782, 23060, 26999, 29757, 32776, 35508, 36600, 38215, 38215, 44097, 46057, 48692, 0, 62520, 152123, 248423, 412841, 596714, 77007, 79695, 79695, 85502, 89144, 92962, 97180, 100898, 104370, 108521, 112562, 116859, 121244, 125310, 128860, 131772, 136511, 141060, 0, 63315, 157137, 254050, 412841, 601748, 181624, 185545, 189225, 193098, 196309, 199237, 201283, 203397, 205778, 209412, 212724, 216168, 218740, 221173, 223771, 226364, 229675, 232702, 235415, 0, 64183, 160185, 259031, 426313, 607363, 297108, 303912, 306887, 312351, 318276, 324964, 332766, 339165, 345952, 351622, 357139, 362699, 367935, 373437, 378629, 384020, 389687, 395713, 0, 65265, 163510, 259031, 431102, 613221, 466472, 470871, 475334, 481161, 485822, 485822, 485822, 503190, 508956, 514742, 520722, 527149, 527149, 527149, 547785, 553619, 559932, 566054, 571839, 0, 66783, 166327, 268663, 435847, 613221, 647281, 652819, 652819, 652819], \"yaxis\": \"y5\"}],\n",
              "                        {\"annotations\": [{\"font\": {\"size\": 16}, \"showarrow\": false, \"text\": \"new_cases\", \"x\": 0.5, \"xanchor\": \"center\", \"xref\": \"paper\", \"y\": 1.0, \"yanchor\": \"bottom\", \"yref\": \"paper\"}, {\"font\": {\"size\": 16}, \"showarrow\": false, \"text\": \"new_deaths \", \"x\": 0.5, \"xanchor\": \"center\", \"xref\": \"paper\", \"y\": 0.78, \"yanchor\": \"bottom\", \"yref\": \"paper\"}, {\"font\": {\"size\": 16}, \"showarrow\": false, \"text\": \"MEAN_TEMPERATURE\", \"x\": 0.5, \"xanchor\": \"center\", \"xref\": \"paper\", \"y\": 0.56, \"yanchor\": \"bottom\", \"yref\": \"paper\"}, {\"font\": {\"size\": 16}, \"showarrow\": false, \"text\": \"MAX_REL_HUMIDITY\", \"x\": 0.5, \"xanchor\": \"center\", \"xref\": \"paper\", \"y\": 0.33999999999999997, \"yanchor\": \"bottom\", \"yref\": \"paper\"}, {\"font\": {\"size\": 16}, \"showarrow\": false, \"text\": \"total_tested\", \"x\": 0.5, \"xanchor\": \"center\", \"xref\": \"paper\", \"y\": 0.12, \"yanchor\": \"bottom\", \"yref\": \"paper\"}], \"height\": 600, \"template\": {\"data\": {\"bar\": [{\"error_x\": {\"color\": \"#2a3f5f\"}, \"error_y\": {\"color\": \"#2a3f5f\"}, \"marker\": {\"line\": {\"color\": \"#E5ECF6\", \"width\": 0.5}}, \"type\": \"bar\"}], \"barpolar\": [{\"marker\": {\"line\": {\"color\": \"#E5ECF6\", \"width\": 0.5}}, \"type\": \"barpolar\"}], \"carpet\": [{\"aaxis\": {\"endlinecolor\": \"#2a3f5f\", \"gridcolor\": \"white\", \"linecolor\": \"white\", \"minorgridcolor\": \"white\", \"startlinecolor\": \"#2a3f5f\"}, \"baxis\": {\"endlinecolor\": \"#2a3f5f\", \"gridcolor\": \"white\", \"linecolor\": \"white\", \"minorgridcolor\": \"white\", \"startlinecolor\": \"#2a3f5f\"}, \"type\": \"carpet\"}], \"choropleth\": [{\"colorbar\": {\"outlinewidth\": 0, \"ticks\": \"\"}, \"type\": \"choropleth\"}], \"contour\": [{\"colorbar\": {\"outlinewidth\": 0, \"ticks\": \"\"}, \"colorscale\": [[0.0, \"#0d0887\"], [0.1111111111111111, \"#46039f\"], [0.2222222222222222, \"#7201a8\"], [0.3333333333333333, \"#9c179e\"], [0.4444444444444444, \"#bd3786\"], [0.5555555555555556, \"#d8576b\"], [0.6666666666666666, \"#ed7953\"], [0.7777777777777778, \"#fb9f3a\"], [0.8888888888888888, \"#fdca26\"], [1.0, \"#f0f921\"]], \"type\": \"contour\"}], \"contourcarpet\": [{\"colorbar\": {\"outlinewidth\": 0, \"ticks\": \"\"}, \"type\": \"contourcarpet\"}], \"heatmap\": [{\"colorbar\": {\"outlinewidth\": 0, \"ticks\": \"\"}, \"colorscale\": [[0.0, \"#0d0887\"], [0.1111111111111111, \"#46039f\"], [0.2222222222222222, \"#7201a8\"], [0.3333333333333333, \"#9c179e\"], [0.4444444444444444, \"#bd3786\"], [0.5555555555555556, \"#d8576b\"], [0.6666666666666666, \"#ed7953\"], [0.7777777777777778, \"#fb9f3a\"], [0.8888888888888888, \"#fdca26\"], [1.0, \"#f0f921\"]], \"type\": \"heatmap\"}], \"heatmapgl\": [{\"colorbar\": {\"outlinewidth\": 0, \"ticks\": \"\"}, \"colorscale\": [[0.0, \"#0d0887\"], [0.1111111111111111, \"#46039f\"], [0.2222222222222222, \"#7201a8\"], [0.3333333333333333, \"#9c179e\"], [0.4444444444444444, \"#bd3786\"], [0.5555555555555556, \"#d8576b\"], [0.6666666666666666, \"#ed7953\"], [0.7777777777777778, \"#fb9f3a\"], [0.8888888888888888, \"#fdca26\"], [1.0, \"#f0f921\"]], \"type\": \"heatmapgl\"}], \"histogram\": [{\"marker\": {\"colorbar\": {\"outlinewidth\": 0, \"ticks\": \"\"}}, \"type\": \"histogram\"}], \"histogram2d\": [{\"colorbar\": {\"outlinewidth\": 0, \"ticks\": \"\"}, \"colorscale\": [[0.0, \"#0d0887\"], [0.1111111111111111, \"#46039f\"], [0.2222222222222222, \"#7201a8\"], [0.3333333333333333, \"#9c179e\"], [0.4444444444444444, \"#bd3786\"], [0.5555555555555556, \"#d8576b\"], [0.6666666666666666, \"#ed7953\"], [0.7777777777777778, \"#fb9f3a\"], [0.8888888888888888, \"#fdca26\"], [1.0, \"#f0f921\"]], \"type\": \"histogram2d\"}], \"histogram2dcontour\": [{\"colorbar\": {\"outlinewidth\": 0, \"ticks\": \"\"}, \"colorscale\": [[0.0, \"#0d0887\"], [0.1111111111111111, \"#46039f\"], [0.2222222222222222, \"#7201a8\"], [0.3333333333333333, \"#9c179e\"], [0.4444444444444444, \"#bd3786\"], [0.5555555555555556, \"#d8576b\"], [0.6666666666666666, \"#ed7953\"], [0.7777777777777778, \"#fb9f3a\"], [0.8888888888888888, \"#fdca26\"], [1.0, \"#f0f921\"]], \"type\": \"histogram2dcontour\"}], \"mesh3d\": [{\"colorbar\": {\"outlinewidth\": 0, \"ticks\": \"\"}, \"type\": \"mesh3d\"}], \"parcoords\": [{\"line\": {\"colorbar\": {\"outlinewidth\": 0, \"ticks\": \"\"}}, \"type\": \"parcoords\"}], \"pie\": [{\"automargin\": true, \"type\": \"pie\"}], \"scatter\": [{\"marker\": {\"colorbar\": {\"outlinewidth\": 0, \"ticks\": \"\"}}, \"type\": \"scatter\"}], \"scatter3d\": [{\"line\": {\"colorbar\": {\"outlinewidth\": 0, \"ticks\": \"\"}}, \"marker\": {\"colorbar\": {\"outlinewidth\": 0, \"ticks\": \"\"}}, \"type\": \"scatter3d\"}], \"scattercarpet\": [{\"marker\": {\"colorbar\": {\"outlinewidth\": 0, \"ticks\": \"\"}}, \"type\": \"scattercarpet\"}], \"scattergeo\": [{\"marker\": {\"colorbar\": {\"outlinewidth\": 0, \"ticks\": \"\"}}, \"type\": \"scattergeo\"}], \"scattergl\": [{\"marker\": {\"colorbar\": {\"outlinewidth\": 0, \"ticks\": \"\"}}, \"type\": \"scattergl\"}], \"scattermapbox\": [{\"marker\": {\"colorbar\": {\"outlinewidth\": 0, \"ticks\": \"\"}}, \"type\": \"scattermapbox\"}], \"scatterpolar\": [{\"marker\": {\"colorbar\": {\"outlinewidth\": 0, \"ticks\": \"\"}}, \"type\": \"scatterpolar\"}], \"scatterpolargl\": [{\"marker\": {\"colorbar\": {\"outlinewidth\": 0, \"ticks\": \"\"}}, \"type\": \"scatterpolargl\"}], \"scatterternary\": [{\"marker\": {\"colorbar\": {\"outlinewidth\": 0, \"ticks\": \"\"}}, \"type\": \"scatterternary\"}], \"surface\": [{\"colorbar\": {\"outlinewidth\": 0, \"ticks\": \"\"}, \"colorscale\": [[0.0, \"#0d0887\"], [0.1111111111111111, \"#46039f\"], [0.2222222222222222, \"#7201a8\"], [0.3333333333333333, \"#9c179e\"], [0.4444444444444444, \"#bd3786\"], [0.5555555555555556, \"#d8576b\"], [0.6666666666666666, \"#ed7953\"], [0.7777777777777778, \"#fb9f3a\"], [0.8888888888888888, \"#fdca26\"], [1.0, \"#f0f921\"]], \"type\": \"surface\"}], \"table\": [{\"cells\": {\"fill\": {\"color\": \"#EBF0F8\"}, \"line\": {\"color\": \"white\"}}, \"header\": {\"fill\": {\"color\": \"#C8D4E3\"}, \"line\": {\"color\": \"white\"}}, \"type\": \"table\"}]}, \"layout\": {\"annotationdefaults\": {\"arrowcolor\": \"#2a3f5f\", \"arrowhead\": 0, \"arrowwidth\": 1}, \"coloraxis\": {\"colorbar\": {\"outlinewidth\": 0, \"ticks\": \"\"}}, \"colorscale\": {\"diverging\": [[0, \"#8e0152\"], [0.1, \"#c51b7d\"], [0.2, \"#de77ae\"], [0.3, \"#f1b6da\"], [0.4, \"#fde0ef\"], [0.5, \"#f7f7f7\"], [0.6, \"#e6f5d0\"], [0.7, \"#b8e186\"], [0.8, \"#7fbc41\"], [0.9, \"#4d9221\"], [1, \"#276419\"]], \"sequential\": [[0.0, \"#0d0887\"], [0.1111111111111111, \"#46039f\"], [0.2222222222222222, \"#7201a8\"], [0.3333333333333333, \"#9c179e\"], [0.4444444444444444, \"#bd3786\"], [0.5555555555555556, \"#d8576b\"], [0.6666666666666666, \"#ed7953\"], [0.7777777777777778, \"#fb9f3a\"], [0.8888888888888888, \"#fdca26\"], [1.0, \"#f0f921\"]], \"sequentialminus\": [[0.0, \"#0d0887\"], [0.1111111111111111, \"#46039f\"], [0.2222222222222222, \"#7201a8\"], [0.3333333333333333, \"#9c179e\"], [0.4444444444444444, \"#bd3786\"], [0.5555555555555556, \"#d8576b\"], [0.6666666666666666, \"#ed7953\"], [0.7777777777777778, \"#fb9f3a\"], [0.8888888888888888, \"#fdca26\"], [1.0, \"#f0f921\"]]}, \"colorway\": [\"#636efa\", \"#EF553B\", \"#00cc96\", \"#ab63fa\", \"#FFA15A\", \"#19d3f3\", \"#FF6692\", \"#B6E880\", \"#FF97FF\", \"#FECB52\"], \"font\": {\"color\": \"#2a3f5f\"}, \"geo\": {\"bgcolor\": \"white\", \"lakecolor\": \"white\", \"landcolor\": \"#E5ECF6\", \"showlakes\": true, \"showland\": true, \"subunitcolor\": \"white\"}, \"hoverlabel\": {\"align\": \"left\"}, \"hovermode\": \"closest\", \"mapbox\": {\"style\": \"light\"}, \"paper_bgcolor\": \"white\", \"plot_bgcolor\": \"#E5ECF6\", \"polar\": {\"angularaxis\": {\"gridcolor\": \"white\", \"linecolor\": \"white\", \"ticks\": \"\"}, \"bgcolor\": \"#E5ECF6\", \"radialaxis\": {\"gridcolor\": \"white\", \"linecolor\": \"white\", \"ticks\": \"\"}}, \"scene\": {\"xaxis\": {\"backgroundcolor\": \"#E5ECF6\", \"gridcolor\": \"white\", \"gridwidth\": 2, \"linecolor\": \"white\", \"showbackground\": true, \"ticks\": \"\", \"zerolinecolor\": \"white\"}, \"yaxis\": {\"backgroundcolor\": \"#E5ECF6\", \"gridcolor\": \"white\", \"gridwidth\": 2, \"linecolor\": \"white\", \"showbackground\": true, \"ticks\": \"\", \"zerolinecolor\": \"white\"}, \"zaxis\": {\"backgroundcolor\": \"#E5ECF6\", \"gridcolor\": \"white\", \"gridwidth\": 2, \"linecolor\": \"white\", \"showbackground\": true, \"ticks\": \"\", \"zerolinecolor\": \"white\"}}, \"shapedefaults\": {\"line\": {\"color\": \"#2a3f5f\"}}, \"ternary\": {\"aaxis\": {\"gridcolor\": \"white\", \"linecolor\": \"white\", \"ticks\": \"\"}, \"baxis\": {\"gridcolor\": \"white\", \"linecolor\": \"white\", \"ticks\": \"\"}, \"bgcolor\": \"#E5ECF6\", \"caxis\": {\"gridcolor\": \"white\", \"linecolor\": \"white\", \"ticks\": \"\"}}, \"title\": {\"x\": 0.05}, \"xaxis\": {\"automargin\": true, \"gridcolor\": \"white\", \"linecolor\": \"white\", \"ticks\": \"\", \"title\": {\"standoff\": 15}, \"zerolinecolor\": \"white\", \"zerolinewidth\": 2}, \"yaxis\": {\"automargin\": true, \"gridcolor\": \"white\", \"linecolor\": \"white\", \"ticks\": \"\", \"title\": {\"standoff\": 15}, \"zerolinecolor\": \"white\", \"zerolinewidth\": 2}}}, \"title\": {\"text\": \"Stacked Subplots\"}, \"width\": 600, \"xaxis\": {\"anchor\": \"y\", \"domain\": [0.0, 1.0]}, \"xaxis2\": {\"anchor\": \"y2\", \"domain\": [0.0, 1.0]}, \"xaxis3\": {\"anchor\": \"y3\", \"domain\": [0.0, 1.0]}, \"xaxis4\": {\"anchor\": \"y4\", \"domain\": [0.0, 1.0]}, \"xaxis5\": {\"anchor\": \"y5\", \"domain\": [0.0, 1.0]}, \"yaxis\": {\"anchor\": \"x\", \"domain\": [0.88, 1.0]}, \"yaxis2\": {\"anchor\": \"x2\", \"domain\": [0.66, 0.78]}, \"yaxis3\": {\"anchor\": \"x3\", \"domain\": [0.44, 0.56]}, \"yaxis4\": {\"anchor\": \"x4\", \"domain\": [0.22, 0.33999999999999997]}, \"yaxis5\": {\"anchor\": \"x5\", \"domain\": [0.0, 0.12]}},\n",
              "                        {\"responsive\": true}\n",
              "                    ).then(function(){\n",
              "                            \n",
              "var gd = document.getElementById('be40faf1-a688-4a85-bf9f-7e7df6b546eb');\n",
              "var x = new MutationObserver(function (mutations, observer) {{\n",
              "        var display = window.getComputedStyle(gd).display;\n",
              "        if (!display || display === 'none') {{\n",
              "            console.log([gd, 'removed!']);\n",
              "            Plotly.purge(gd);\n",
              "            observer.disconnect();\n",
              "        }}\n",
              "}});\n",
              "\n",
              "// Listen for the removal of the full notebook cells\n",
              "var notebookContainer = gd.closest('#notebook-container');\n",
              "if (notebookContainer) {{\n",
              "    x.observe(notebookContainer, {childList: true});\n",
              "}}\n",
              "\n",
              "// Listen for the clearing of the current output cell\n",
              "var outputEl = gd.closest('.output');\n",
              "if (outputEl) {{\n",
              "    x.observe(outputEl, {childList: true});\n",
              "}}\n",
              "\n",
              "                        })\n",
              "                };\n",
              "                \n",
              "            </script>\n",
              "        </div>\n",
              "</body>\n",
              "</html>"
            ]
          },
          "metadata": {
            "tags": []
          }
        }
      ]
    },
    {
      "cell_type": "markdown",
      "metadata": {
        "id": "0lR7FA8QzvM6",
        "colab_type": "text"
      },
      "source": [
        "# LSTM Model for forecasting"
      ]
    },
    {
      "cell_type": "code",
      "metadata": {
        "id": "SgPO1atarksD",
        "colab_type": "code",
        "colab": {}
      },
      "source": [
        "full_df.drop(['new_cases','new_deaths'],axis=1,inplace=True)"
      ],
      "execution_count": 24,
      "outputs": []
    },
    {
      "cell_type": "code",
      "metadata": {
        "id": "6BWJAXhxzzEy",
        "colab_type": "code",
        "colab": {}
      },
      "source": [
        "dataset=full_df"
      ],
      "execution_count": 25,
      "outputs": []
    },
    {
      "cell_type": "code",
      "metadata": {
        "id": "iGh6wTiGz9MM",
        "colab_type": "code",
        "colab": {
          "base_uri": "https://localhost:8080/",
          "height": 204
        },
        "outputId": "031ae2b2-a22f-4434-8f90-41151895a6b3"
      },
      "source": [
        "dataset.head()"
      ],
      "execution_count": 26,
      "outputs": [
        {
          "output_type": "execute_result",
          "data": {
            "text/html": [
              "<div>\n",
              "<style scoped>\n",
              "    .dataframe tbody tr th:only-of-type {\n",
              "        vertical-align: middle;\n",
              "    }\n",
              "\n",
              "    .dataframe tbody tr th {\n",
              "        vertical-align: top;\n",
              "    }\n",
              "\n",
              "    .dataframe thead th {\n",
              "        text-align: right;\n",
              "    }\n",
              "</style>\n",
              "<table border=\"1\" class=\"dataframe\">\n",
              "  <thead>\n",
              "    <tr style=\"text-align: right;\">\n",
              "      <th></th>\n",
              "      <th>Country</th>\n",
              "      <th>Province/State</th>\n",
              "      <th>date</th>\n",
              "      <th>confirmed</th>\n",
              "      <th>deaths</th>\n",
              "      <th>MEAN_TEMPERATURE</th>\n",
              "      <th>MAX_REL_HUMIDITY</th>\n",
              "      <th>total_tested</th>\n",
              "    </tr>\n",
              "  </thead>\n",
              "  <tbody>\n",
              "    <tr>\n",
              "      <th>0</th>\n",
              "      <td>Canada</td>\n",
              "      <td>Alberta</td>\n",
              "      <td>2020-02-13</td>\n",
              "      <td>0</td>\n",
              "      <td>0</td>\n",
              "      <td>-19.80</td>\n",
              "      <td>82.00</td>\n",
              "      <td>0</td>\n",
              "    </tr>\n",
              "    <tr>\n",
              "      <th>1</th>\n",
              "      <td>Canada</td>\n",
              "      <td>Alberta</td>\n",
              "      <td>2020-02-14</td>\n",
              "      <td>0</td>\n",
              "      <td>0</td>\n",
              "      <td>-23.70</td>\n",
              "      <td>72.00</td>\n",
              "      <td>0</td>\n",
              "    </tr>\n",
              "    <tr>\n",
              "      <th>2</th>\n",
              "      <td>Canada</td>\n",
              "      <td>Alberta</td>\n",
              "      <td>2020-02-15</td>\n",
              "      <td>0</td>\n",
              "      <td>0</td>\n",
              "      <td>-27.50</td>\n",
              "      <td>72.00</td>\n",
              "      <td>0</td>\n",
              "    </tr>\n",
              "    <tr>\n",
              "      <th>3</th>\n",
              "      <td>Canada</td>\n",
              "      <td>Alberta</td>\n",
              "      <td>2020-02-16</td>\n",
              "      <td>0</td>\n",
              "      <td>0</td>\n",
              "      <td>-24.90</td>\n",
              "      <td>73.00</td>\n",
              "      <td>0</td>\n",
              "    </tr>\n",
              "    <tr>\n",
              "      <th>4</th>\n",
              "      <td>Canada</td>\n",
              "      <td>Alberta</td>\n",
              "      <td>2020-02-17</td>\n",
              "      <td>0</td>\n",
              "      <td>0</td>\n",
              "      <td>-29.20</td>\n",
              "      <td>72.00</td>\n",
              "      <td>0</td>\n",
              "    </tr>\n",
              "  </tbody>\n",
              "</table>\n",
              "</div>"
            ],
            "text/plain": [
              "  Country Province/State  ... MAX_REL_HUMIDITY  total_tested\n",
              "0  Canada        Alberta  ...            82.00             0\n",
              "1  Canada        Alberta  ...            72.00             0\n",
              "2  Canada        Alberta  ...            72.00             0\n",
              "3  Canada        Alberta  ...            73.00             0\n",
              "4  Canada        Alberta  ...            72.00             0\n",
              "\n",
              "[5 rows x 8 columns]"
            ]
          },
          "metadata": {
            "tags": []
          },
          "execution_count": 26
        }
      ]
    },
    {
      "cell_type": "code",
      "metadata": {
        "id": "zOfCjfC30snz",
        "colab_type": "code",
        "colab": {}
      },
      "source": [
        "dataset.drop(['Country','Province/State'],axis=1,inplace=True)"
      ],
      "execution_count": 27,
      "outputs": []
    },
    {
      "cell_type": "code",
      "metadata": {
        "id": "U5ul6O-w093Q",
        "colab_type": "code",
        "colab": {}
      },
      "source": [
        "dataset.set_index('date',inplace=True)"
      ],
      "execution_count": 28,
      "outputs": []
    },
    {
      "cell_type": "code",
      "metadata": {
        "id": "N3kg7Qb11EPR",
        "colab_type": "code",
        "colab": {
          "base_uri": "https://localhost:8080/",
          "height": 731
        },
        "outputId": "6dd901f7-5b67-4a0c-8d7e-a2ac54deb910"
      },
      "source": [
        "dataset.head(21)"
      ],
      "execution_count": 29,
      "outputs": [
        {
          "output_type": "execute_result",
          "data": {
            "text/html": [
              "<div>\n",
              "<style scoped>\n",
              "    .dataframe tbody tr th:only-of-type {\n",
              "        vertical-align: middle;\n",
              "    }\n",
              "\n",
              "    .dataframe tbody tr th {\n",
              "        vertical-align: top;\n",
              "    }\n",
              "\n",
              "    .dataframe thead th {\n",
              "        text-align: right;\n",
              "    }\n",
              "</style>\n",
              "<table border=\"1\" class=\"dataframe\">\n",
              "  <thead>\n",
              "    <tr style=\"text-align: right;\">\n",
              "      <th></th>\n",
              "      <th>confirmed</th>\n",
              "      <th>deaths</th>\n",
              "      <th>MEAN_TEMPERATURE</th>\n",
              "      <th>MAX_REL_HUMIDITY</th>\n",
              "      <th>total_tested</th>\n",
              "    </tr>\n",
              "    <tr>\n",
              "      <th>date</th>\n",
              "      <th></th>\n",
              "      <th></th>\n",
              "      <th></th>\n",
              "      <th></th>\n",
              "      <th></th>\n",
              "    </tr>\n",
              "  </thead>\n",
              "  <tbody>\n",
              "    <tr>\n",
              "      <th>2020-02-13</th>\n",
              "      <td>0</td>\n",
              "      <td>0</td>\n",
              "      <td>-19.80</td>\n",
              "      <td>82.00</td>\n",
              "      <td>0</td>\n",
              "    </tr>\n",
              "    <tr>\n",
              "      <th>2020-02-14</th>\n",
              "      <td>0</td>\n",
              "      <td>0</td>\n",
              "      <td>-23.70</td>\n",
              "      <td>72.00</td>\n",
              "      <td>0</td>\n",
              "    </tr>\n",
              "    <tr>\n",
              "      <th>2020-02-15</th>\n",
              "      <td>0</td>\n",
              "      <td>0</td>\n",
              "      <td>-27.50</td>\n",
              "      <td>72.00</td>\n",
              "      <td>0</td>\n",
              "    </tr>\n",
              "    <tr>\n",
              "      <th>2020-02-16</th>\n",
              "      <td>0</td>\n",
              "      <td>0</td>\n",
              "      <td>-24.90</td>\n",
              "      <td>73.00</td>\n",
              "      <td>0</td>\n",
              "    </tr>\n",
              "    <tr>\n",
              "      <th>2020-02-17</th>\n",
              "      <td>0</td>\n",
              "      <td>0</td>\n",
              "      <td>-29.20</td>\n",
              "      <td>72.00</td>\n",
              "      <td>0</td>\n",
              "    </tr>\n",
              "    <tr>\n",
              "      <th>2020-02-18</th>\n",
              "      <td>0</td>\n",
              "      <td>0</td>\n",
              "      <td>-27.30</td>\n",
              "      <td>77.00</td>\n",
              "      <td>0</td>\n",
              "    </tr>\n",
              "    <tr>\n",
              "      <th>2020-02-19</th>\n",
              "      <td>0</td>\n",
              "      <td>0</td>\n",
              "      <td>-12.80</td>\n",
              "      <td>82.00</td>\n",
              "      <td>0</td>\n",
              "    </tr>\n",
              "    <tr>\n",
              "      <th>2020-02-20</th>\n",
              "      <td>0</td>\n",
              "      <td>0</td>\n",
              "      <td>-1.10</td>\n",
              "      <td>82.00</td>\n",
              "      <td>0</td>\n",
              "    </tr>\n",
              "    <tr>\n",
              "      <th>2020-02-21</th>\n",
              "      <td>0</td>\n",
              "      <td>0</td>\n",
              "      <td>-2.20</td>\n",
              "      <td>81.00</td>\n",
              "      <td>0</td>\n",
              "    </tr>\n",
              "    <tr>\n",
              "      <th>2020-02-22</th>\n",
              "      <td>0</td>\n",
              "      <td>0</td>\n",
              "      <td>-1.40</td>\n",
              "      <td>92.00</td>\n",
              "      <td>0</td>\n",
              "    </tr>\n",
              "    <tr>\n",
              "      <th>2020-02-23</th>\n",
              "      <td>0</td>\n",
              "      <td>0</td>\n",
              "      <td>-6.60</td>\n",
              "      <td>89.00</td>\n",
              "      <td>0</td>\n",
              "    </tr>\n",
              "    <tr>\n",
              "      <th>2020-02-24</th>\n",
              "      <td>0</td>\n",
              "      <td>0</td>\n",
              "      <td>-16.30</td>\n",
              "      <td>82.00</td>\n",
              "      <td>0</td>\n",
              "    </tr>\n",
              "    <tr>\n",
              "      <th>2020-02-25</th>\n",
              "      <td>0</td>\n",
              "      <td>0</td>\n",
              "      <td>-17.30</td>\n",
              "      <td>80.00</td>\n",
              "      <td>0</td>\n",
              "    </tr>\n",
              "    <tr>\n",
              "      <th>2020-02-26</th>\n",
              "      <td>0</td>\n",
              "      <td>0</td>\n",
              "      <td>-8.20</td>\n",
              "      <td>87.00</td>\n",
              "      <td>0</td>\n",
              "    </tr>\n",
              "    <tr>\n",
              "      <th>2020-02-27</th>\n",
              "      <td>0</td>\n",
              "      <td>0</td>\n",
              "      <td>-6.10</td>\n",
              "      <td>85.00</td>\n",
              "      <td>0</td>\n",
              "    </tr>\n",
              "    <tr>\n",
              "      <th>2020-02-28</th>\n",
              "      <td>0</td>\n",
              "      <td>0</td>\n",
              "      <td>-6.60</td>\n",
              "      <td>93.00</td>\n",
              "      <td>0</td>\n",
              "    </tr>\n",
              "    <tr>\n",
              "      <th>2020-02-29</th>\n",
              "      <td>0</td>\n",
              "      <td>0</td>\n",
              "      <td>-18.20</td>\n",
              "      <td>78.00</td>\n",
              "      <td>0</td>\n",
              "    </tr>\n",
              "    <tr>\n",
              "      <th>2020-03-03</th>\n",
              "      <td>0</td>\n",
              "      <td>0</td>\n",
              "      <td>-7.30</td>\n",
              "      <td>87.00</td>\n",
              "      <td>0</td>\n",
              "    </tr>\n",
              "    <tr>\n",
              "      <th>2020-03-04</th>\n",
              "      <td>0</td>\n",
              "      <td>0</td>\n",
              "      <td>-16.50</td>\n",
              "      <td>78.00</td>\n",
              "      <td>60508</td>\n",
              "    </tr>\n",
              "    <tr>\n",
              "      <th>2020-03-05</th>\n",
              "      <td>0</td>\n",
              "      <td>0</td>\n",
              "      <td>7.80</td>\n",
              "      <td>93.00</td>\n",
              "      <td>152123</td>\n",
              "    </tr>\n",
              "    <tr>\n",
              "      <th>2020-03-06</th>\n",
              "      <td>1</td>\n",
              "      <td>0</td>\n",
              "      <td>10.90</td>\n",
              "      <td>92.00</td>\n",
              "      <td>244780</td>\n",
              "    </tr>\n",
              "  </tbody>\n",
              "</table>\n",
              "</div>"
            ],
            "text/plain": [
              "            confirmed  deaths  MEAN_TEMPERATURE  MAX_REL_HUMIDITY  total_tested\n",
              "date                                                                           \n",
              "2020-02-13          0       0            -19.80             82.00             0\n",
              "2020-02-14          0       0            -23.70             72.00             0\n",
              "2020-02-15          0       0            -27.50             72.00             0\n",
              "2020-02-16          0       0            -24.90             73.00             0\n",
              "2020-02-17          0       0            -29.20             72.00             0\n",
              "2020-02-18          0       0            -27.30             77.00             0\n",
              "2020-02-19          0       0            -12.80             82.00             0\n",
              "2020-02-20          0       0             -1.10             82.00             0\n",
              "2020-02-21          0       0             -2.20             81.00             0\n",
              "2020-02-22          0       0             -1.40             92.00             0\n",
              "2020-02-23          0       0             -6.60             89.00             0\n",
              "2020-02-24          0       0            -16.30             82.00             0\n",
              "2020-02-25          0       0            -17.30             80.00             0\n",
              "2020-02-26          0       0             -8.20             87.00             0\n",
              "2020-02-27          0       0             -6.10             85.00             0\n",
              "2020-02-28          0       0             -6.60             93.00             0\n",
              "2020-02-29          0       0            -18.20             78.00             0\n",
              "2020-03-03          0       0             -7.30             87.00             0\n",
              "2020-03-04          0       0            -16.50             78.00         60508\n",
              "2020-03-05          0       0              7.80             93.00        152123\n",
              "2020-03-06          1       0             10.90             92.00        244780"
            ]
          },
          "metadata": {
            "tags": []
          },
          "execution_count": 29
        }
      ]
    },
    {
      "cell_type": "code",
      "metadata": {
        "id": "kZRQdWG31Hex",
        "colab_type": "code",
        "colab": {}
      },
      "source": [
        "dataset.drop('deaths', axis=1, inplace=True)"
      ],
      "execution_count": 30,
      "outputs": []
    },
    {
      "cell_type": "markdown",
      "metadata": {
        "id": "Y8zEPGYfOvee",
        "colab_type": "text"
      },
      "source": [
        "Cases Started from 06/3/2020 to 16/08/2020"
      ]
    },
    {
      "cell_type": "code",
      "metadata": {
        "id": "LTLYrKEtmXbO",
        "colab_type": "code",
        "colab": {}
      },
      "source": [
        "df=dataset[20:]"
      ],
      "execution_count": 31,
      "outputs": []
    },
    {
      "cell_type": "code",
      "metadata": {
        "id": "6FedldLAmXR0",
        "colab_type": "code",
        "colab": {}
      },
      "source": [
        "df.reset_index(drop=True, inplace=True)\n",
        "data=df.drop(['total_tested'], axis=1)"
      ],
      "execution_count": 32,
      "outputs": []
    },
    {
      "cell_type": "code",
      "metadata": {
        "id": "cfkqH2iStXSG",
        "colab_type": "code",
        "colab": {}
      },
      "source": [
        "from sklearn.preprocessing import MinMaxScaler\n",
        "sc = MinMaxScaler()\n",
        "data = sc.fit_transform(data)"
      ],
      "execution_count": 33,
      "outputs": []
    },
    {
      "cell_type": "code",
      "metadata": {
        "id": "iurYWITojett",
        "colab_type": "code",
        "colab": {}
      },
      "source": [
        "from numpy import array\n",
        "def split_sequences(sequences, n_steps):\n",
        "  X, y = list(), list()\n",
        "  for i in range(len(sequences)):\n",
        "    end_ix = i + n_steps\n",
        "    if end_ix > len(sequences)-1:\n",
        "      break\n",
        "    seq_x, seq_y = sequences[i:end_ix, :], sequences[end_ix, :]\n",
        "    X.append(seq_x)\n",
        "    y.append(seq_y)\n",
        "  return array(X), array(y)"
      ],
      "execution_count": 34,
      "outputs": []
    },
    {
      "cell_type": "code",
      "metadata": {
        "id": "TxYQa2lRjgNz",
        "colab_type": "code",
        "colab": {}
      },
      "source": [
        "n_steps = 20\n",
        "# convert into input/output\n",
        "X, y = split_sequences(data, n_steps)"
      ],
      "execution_count": 35,
      "outputs": []
    },
    {
      "cell_type": "code",
      "metadata": {
        "id": "SHtHjhotjgMF",
        "colab_type": "code",
        "colab": {
          "base_uri": "https://localhost:8080/",
          "height": 34
        },
        "outputId": "b6d4527a-5015-42df-e936-ff66073b580e"
      },
      "source": [
        "X.shape"
      ],
      "execution_count": 36,
      "outputs": [
        {
          "output_type": "execute_result",
          "data": {
            "text/plain": [
              "(110, 20, 3)"
            ]
          },
          "metadata": {
            "tags": []
          },
          "execution_count": 36
        }
      ]
    },
    {
      "cell_type": "code",
      "metadata": {
        "id": "ZNB8skN8jgIY",
        "colab_type": "code",
        "colab": {
          "base_uri": "https://localhost:8080/",
          "height": 34
        },
        "outputId": "aa2ad5ab-9204-4357-b8a9-2de835b92711"
      },
      "source": [
        "y.shape"
      ],
      "execution_count": 37,
      "outputs": [
        {
          "output_type": "execute_result",
          "data": {
            "text/plain": [
              "(110, 3)"
            ]
          },
          "metadata": {
            "tags": []
          },
          "execution_count": 37
        }
      ]
    },
    {
      "cell_type": "code",
      "metadata": {
        "id": "W00vFHk-jf6R",
        "colab_type": "code",
        "colab": {}
      },
      "source": [
        "n_features = X.shape[2]"
      ],
      "execution_count": 38,
      "outputs": []
    },
    {
      "cell_type": "code",
      "metadata": {
        "id": "2qqIwxkHm4Gj",
        "colab_type": "code",
        "colab": {}
      },
      "source": [
        "model = Sequential()\n",
        "model.add(LSTM(100, activation='relu', input_shape=(n_steps,n_features)))\n",
        "model.add(Dense(n_features))\n",
        "model.compile(optimizer='adam', loss='mse',metrics=['mae'])"
      ],
      "execution_count": 39,
      "outputs": []
    },
    {
      "cell_type": "code",
      "metadata": {
        "id": "_Y5vfxRJxK3Y",
        "colab_type": "code",
        "colab": {
          "base_uri": "https://localhost:8080/",
          "height": 1000
        },
        "outputId": "85bc1e89-34e0-4837-aeb7-de67cda89768"
      },
      "source": [
        "# fit model\n",
        "model.fit(X, y, epochs=40, batch_size = 4)"
      ],
      "execution_count": 40,
      "outputs": [
        {
          "output_type": "stream",
          "text": [
            "Epoch 1/40\n",
            "28/28 [==============================] - 0s 12ms/step - loss: 0.1996 - mae: 0.3513\n",
            "Epoch 2/40\n",
            "28/28 [==============================] - 0s 9ms/step - loss: 0.0410 - mae: 0.1351\n",
            "Epoch 3/40\n",
            "28/28 [==============================] - 0s 10ms/step - loss: 0.0352 - mae: 0.1296\n",
            "Epoch 4/40\n",
            "28/28 [==============================] - 0s 10ms/step - loss: 0.0336 - mae: 0.1238\n",
            "Epoch 5/40\n",
            "28/28 [==============================] - 0s 10ms/step - loss: 0.0331 - mae: 0.1233\n",
            "Epoch 6/40\n",
            "28/28 [==============================] - 0s 10ms/step - loss: 0.0321 - mae: 0.1194\n",
            "Epoch 7/40\n",
            "28/28 [==============================] - 0s 9ms/step - loss: 0.0304 - mae: 0.1177\n",
            "Epoch 8/40\n",
            "28/28 [==============================] - 0s 10ms/step - loss: 0.0311 - mae: 0.1189\n",
            "Epoch 9/40\n",
            "28/28 [==============================] - 0s 9ms/step - loss: 0.0318 - mae: 0.1188\n",
            "Epoch 10/40\n",
            "28/28 [==============================] - 0s 10ms/step - loss: 0.0314 - mae: 0.1219\n",
            "Epoch 11/40\n",
            "28/28 [==============================] - 0s 10ms/step - loss: 0.0300 - mae: 0.1071\n",
            "Epoch 12/40\n",
            "28/28 [==============================] - 0s 10ms/step - loss: 0.0312 - mae: 0.1190\n",
            "Epoch 13/40\n",
            "28/28 [==============================] - 0s 11ms/step - loss: 0.0301 - mae: 0.1133\n",
            "Epoch 14/40\n",
            "28/28 [==============================] - 0s 10ms/step - loss: 0.0309 - mae: 0.1176\n",
            "Epoch 15/40\n",
            "28/28 [==============================] - 0s 10ms/step - loss: 0.0299 - mae: 0.1126\n",
            "Epoch 16/40\n",
            "28/28 [==============================] - 0s 10ms/step - loss: 0.0294 - mae: 0.1097\n",
            "Epoch 17/40\n",
            "28/28 [==============================] - 0s 10ms/step - loss: 0.0295 - mae: 0.1117\n",
            "Epoch 18/40\n",
            "28/28 [==============================] - 0s 10ms/step - loss: 0.0292 - mae: 0.1142\n",
            "Epoch 19/40\n",
            "28/28 [==============================] - 0s 9ms/step - loss: 0.0297 - mae: 0.1117\n",
            "Epoch 20/40\n",
            "28/28 [==============================] - 0s 10ms/step - loss: 0.0302 - mae: 0.1150\n",
            "Epoch 21/40\n",
            "28/28 [==============================] - 0s 9ms/step - loss: 0.0290 - mae: 0.1135\n",
            "Epoch 22/40\n",
            "28/28 [==============================] - 0s 10ms/step - loss: 0.0290 - mae: 0.1140\n",
            "Epoch 23/40\n",
            "28/28 [==============================] - 0s 9ms/step - loss: 0.0293 - mae: 0.1116\n",
            "Epoch 24/40\n",
            "28/28 [==============================] - 0s 11ms/step - loss: 0.0295 - mae: 0.1157\n",
            "Epoch 25/40\n",
            "28/28 [==============================] - 0s 10ms/step - loss: 0.0285 - mae: 0.1117\n",
            "Epoch 26/40\n",
            "28/28 [==============================] - 0s 11ms/step - loss: 0.0278 - mae: 0.1057\n",
            "Epoch 27/40\n",
            "28/28 [==============================] - 0s 10ms/step - loss: 0.0287 - mae: 0.1122\n",
            "Epoch 28/40\n",
            "28/28 [==============================] - 0s 10ms/step - loss: 0.0270 - mae: 0.1036\n",
            "Epoch 29/40\n",
            "28/28 [==============================] - 0s 10ms/step - loss: 0.0287 - mae: 0.1151\n",
            "Epoch 30/40\n",
            "28/28 [==============================] - 0s 12ms/step - loss: 0.0290 - mae: 0.1080\n",
            "Epoch 31/40\n",
            "28/28 [==============================] - 0s 10ms/step - loss: 0.0303 - mae: 0.1233\n",
            "Epoch 32/40\n",
            "28/28 [==============================] - 0s 10ms/step - loss: 0.0276 - mae: 0.1121\n",
            "Epoch 33/40\n",
            "28/28 [==============================] - 0s 10ms/step - loss: 0.0262 - mae: 0.1045\n",
            "Epoch 34/40\n",
            "28/28 [==============================] - 0s 10ms/step - loss: 0.0275 - mae: 0.1140\n",
            "Epoch 35/40\n",
            "28/28 [==============================] - 0s 10ms/step - loss: 0.0271 - mae: 0.1051\n",
            "Epoch 36/40\n",
            "28/28 [==============================] - 0s 9ms/step - loss: 0.0267 - mae: 0.1039\n",
            "Epoch 37/40\n",
            "28/28 [==============================] - 0s 10ms/step - loss: 0.0278 - mae: 0.1112\n",
            "Epoch 38/40\n",
            "28/28 [==============================] - 0s 10ms/step - loss: 0.0257 - mae: 0.1036\n",
            "Epoch 39/40\n",
            "28/28 [==============================] - 0s 10ms/step - loss: 0.0259 - mae: 0.1043\n",
            "Epoch 40/40\n",
            "28/28 [==============================] - 0s 11ms/step - loss: 0.0257 - mae: 0.1025\n"
          ],
          "name": "stdout"
        },
        {
          "output_type": "execute_result",
          "data": {
            "text/plain": [
              "<tensorflow.python.keras.callbacks.History at 0x7fdd0677c6d8>"
            ]
          },
          "metadata": {
            "tags": []
          },
          "execution_count": 40
        }
      ]
    },
    {
      "cell_type": "code",
      "metadata": {
        "id": "fZvd7MQjjfmZ",
        "colab_type": "code",
        "colab": {
          "base_uri": "https://localhost:8080/",
          "height": 279
        },
        "outputId": "409bee84-52fa-4e65-d12b-e112dd6cbc03"
      },
      "source": [
        "plt.plot(model.history.history['loss'])\n",
        "plt.ylabel('Loss')\n",
        "plt.xlabel('epoch')\n",
        "plt.legend(['train', 'val'], loc='upper left')\n",
        "plt.grid()\n",
        "plt.show()"
      ],
      "execution_count": 41,
      "outputs": [
        {
          "output_type": "display_data",
          "data": {
            "image/png": "[encoded data removed]",
            "text/plain": [
              "<Figure size 432x288 with 1 Axes>"
            ]
          },
          "metadata": {
            "tags": [],
            "needs_background": "light"
          }
        }
      ]
    },
    {
      "cell_type": "code",
      "metadata": {
        "id": "1gGZMDfFpzPu",
        "colab_type": "code",
        "colab": {}
      },
      "source": [
        "pred=[]\n",
        "for i in X[-1]:\n",
        "    pred.append(i)"
      ],
      "execution_count": 42,
      "outputs": []
    },
    {
      "cell_type": "code",
      "metadata": {
        "id": "ep34poi1xoeS",
        "colab_type": "code",
        "colab": {
          "base_uri": "https://localhost:8080/",
          "height": 34
        },
        "outputId": "07892799-e008-4656-8cbc-917d5131cf46"
      },
      "source": [
        "X[-1].shape"
      ],
      "execution_count": 43,
      "outputs": [
        {
          "output_type": "execute_result",
          "data": {
            "text/plain": [
              "(20, 3)"
            ]
          },
          "metadata": {
            "tags": []
          },
          "execution_count": 43
        }
      ]
    },
    {
      "cell_type": "code",
      "metadata": {
        "id": "Mi2I0cW1pzX8",
        "colab_type": "code",
        "colab": {}
      },
      "source": [
        "pred.append(model.predict(X[-1].reshape(1,20,3)))"
      ],
      "execution_count": 44,
      "outputs": []
    },
    {
      "cell_type": "code",
      "metadata": {
        "id": "ycMvU4-mq6wD",
        "colab_type": "code",
        "colab": {
          "base_uri": "https://localhost:8080/",
          "height": 34
        },
        "outputId": "c8575613-c2d5-4116-9c4d-51f445e2ed8d"
      },
      "source": [
        "len(pred)"
      ],
      "execution_count": 45,
      "outputs": [
        {
          "output_type": "execute_result",
          "data": {
            "text/plain": [
              "21"
            ]
          },
          "metadata": {
            "tags": []
          },
          "execution_count": 45
        }
      ]
    },
    {
      "cell_type": "code",
      "metadata": {
        "id": "K85YtvxMq7Jf",
        "colab_type": "code",
        "colab": {}
      },
      "source": [
        "forcast=[]\n",
        "for i in range(10):\n",
        "    pred.reverse()\n",
        "    pred.pop()\n",
        "    pred.reverse()\n",
        "    forcast.append(model.predict(np.vstack( pred ).reshape(1,20,3)))\n",
        "    pred.append(model.predict(np.vstack( pred ).reshape(1,20,3))) "
      ],
      "execution_count": 46,
      "outputs": []
    },
    {
      "cell_type": "code",
      "metadata": {
        "id": "GMuI_Vths0eh",
        "colab_type": "code",
        "colab": {}
      },
      "source": [
        "predictions=sc.inverse_transform(np.vstack(forcast))"
      ],
      "execution_count": 47,
      "outputs": []
    },
    {
      "cell_type": "markdown",
      "metadata": {
        "id": "_TqpV7uZ0ApU",
        "colab_type": "text"
      },
      "source": [
        "# 10 Days Future Forecasting"
      ]
    },
    {
      "cell_type": "code",
      "metadata": {
        "id": "phN8AowIs0bv",
        "colab_type": "code",
        "colab": {
          "base_uri": "https://localhost:8080/",
          "height": 307
        },
        "outputId": "35245027-5eb0-46de-cc4e-4b6cd2528bc9"
      },
      "source": [
        "plt.figure()\n",
        "plt.plot(sc.inverse_transform(data)[:,0],label=\"Real Data\")\n",
        "plt.plot(pd.DataFrame(predictions[:,0],index=range(data.shape[0],data.shape[0]+10)),label=\"Predicted Data\",c=\"r\",linestyle='dotted')\n",
        "plt.ylabel(\"Confirmed Cases\")\n",
        "plt.xlabel(\"Confirmed Cases from 6 March to 16 Aug\")\n",
        "plt.legend(bbox_to_anchor =(0.95, 1.15), ncol = 2)\n",
        "plt.grid()\n",
        "plt.show()"
      ],
      "execution_count": 48,
      "outputs": [
        {
          "output_type": "display_data",
          "data": {
            "image/png": "[encoded data removed]",
            "text/plain": [
              "<Figure size 432x288 with 1 Axes>"
            ]
          },
          "metadata": {
            "tags": [],
            "needs_background": "light"
          }
        }
      ]
    },
    {
      "cell_type": "code",
      "metadata": {
        "id": "6oiZbx09cU9y",
        "colab_type": "code",
        "colab": {}
      },
      "source": [
        "predictin_lstm=pd.DataFrame(predictions[:,0],index=range(data.shape[0],data.shape[0]+10))"
      ],
      "execution_count": 49,
      "outputs": []
    },
    {
      "cell_type": "code",
      "metadata": {
        "id": "b3mAIogts0Xx",
        "colab_type": "code",
        "colab": {}
      },
      "source": [
        "model = Sequential()\n",
        "model.add(GRU(100, activation='relu', input_shape=(n_steps,n_features)))\n",
        "model.add(Dense(n_features))\n",
        "model.compile(optimizer='adam', loss='mse',metrics=['mae'])"
      ],
      "execution_count": 50,
      "outputs": []
    },
    {
      "cell_type": "code",
      "metadata": {
        "id": "zBmiKLRMs0Sq",
        "colab_type": "code",
        "colab": {
          "base_uri": "https://localhost:8080/",
          "height": 1000
        },
        "outputId": "f30f6ba9-2f73-4f74-e31a-000611e16774"
      },
      "source": [
        "# fit model\n",
        "model.fit(X, y, epochs=40, batch_size = 4)"
      ],
      "execution_count": 51,
      "outputs": [
        {
          "output_type": "stream",
          "text": [
            "Epoch 1/40\n",
            "28/28 [==============================] - 0s 11ms/step - loss: 0.1893 - mae: 0.3521\n",
            "Epoch 2/40\n",
            "28/28 [==============================] - 0s 10ms/step - loss: 0.0403 - mae: 0.1533\n",
            "Epoch 3/40\n",
            "28/28 [==============================] - 0s 9ms/step - loss: 0.0351 - mae: 0.1299\n",
            "Epoch 4/40\n",
            "28/28 [==============================] - 0s 9ms/step - loss: 0.0324 - mae: 0.1303\n",
            "Epoch 5/40\n",
            "28/28 [==============================] - 0s 9ms/step - loss: 0.0302 - mae: 0.1186\n",
            "Epoch 6/40\n",
            "28/28 [==============================] - 0s 9ms/step - loss: 0.0311 - mae: 0.1207\n",
            "Epoch 7/40\n",
            "28/28 [==============================] - 0s 9ms/step - loss: 0.0282 - mae: 0.1124\n",
            "Epoch 8/40\n",
            "28/28 [==============================] - 0s 11ms/step - loss: 0.0283 - mae: 0.1094\n",
            "Epoch 9/40\n",
            "28/28 [==============================] - 0s 11ms/step - loss: 0.0272 - mae: 0.1037\n",
            "Epoch 10/40\n",
            "28/28 [==============================] - 0s 11ms/step - loss: 0.0277 - mae: 0.1036\n",
            "Epoch 11/40\n",
            "28/28 [==============================] - 0s 10ms/step - loss: 0.0282 - mae: 0.1083\n",
            "Epoch 12/40\n",
            "28/28 [==============================] - 0s 12ms/step - loss: 0.0265 - mae: 0.1027\n",
            "Epoch 13/40\n",
            "28/28 [==============================] - 0s 10ms/step - loss: 0.0268 - mae: 0.1058\n",
            "Epoch 14/40\n",
            "28/28 [==============================] - 0s 11ms/step - loss: 0.0269 - mae: 0.1039\n",
            "Epoch 15/40\n",
            "28/28 [==============================] - 0s 12ms/step - loss: 0.0277 - mae: 0.1064\n",
            "Epoch 16/40\n",
            "28/28 [==============================] - 0s 10ms/step - loss: 0.0271 - mae: 0.1096\n",
            "Epoch 17/40\n",
            "28/28 [==============================] - 0s 11ms/step - loss: 0.0260 - mae: 0.1047\n",
            "Epoch 18/40\n",
            "28/28 [==============================] - 0s 12ms/step - loss: 0.0263 - mae: 0.0986\n",
            "Epoch 19/40\n",
            "28/28 [==============================] - 0s 10ms/step - loss: 0.0261 - mae: 0.1031\n",
            "Epoch 20/40\n",
            "28/28 [==============================] - 0s 10ms/step - loss: 0.0262 - mae: 0.0970\n",
            "Epoch 21/40\n",
            "28/28 [==============================] - 0s 12ms/step - loss: 0.0258 - mae: 0.1047\n",
            "Epoch 22/40\n",
            "28/28 [==============================] - 0s 10ms/step - loss: 0.0249 - mae: 0.0962\n",
            "Epoch 23/40\n",
            "28/28 [==============================] - 0s 11ms/step - loss: 0.0252 - mae: 0.1016\n",
            "Epoch 24/40\n",
            "28/28 [==============================] - 0s 11ms/step - loss: 0.0256 - mae: 0.0992\n",
            "Epoch 25/40\n",
            "28/28 [==============================] - 0s 10ms/step - loss: 0.0264 - mae: 0.1026\n",
            "Epoch 26/40\n",
            "28/28 [==============================] - 0s 11ms/step - loss: 0.0258 - mae: 0.1006\n",
            "Epoch 27/40\n",
            "28/28 [==============================] - 0s 12ms/step - loss: 0.0249 - mae: 0.1008\n",
            "Epoch 28/40\n",
            "28/28 [==============================] - 0s 13ms/step - loss: 0.0266 - mae: 0.1021\n",
            "Epoch 29/40\n",
            "28/28 [==============================] - 0s 11ms/step - loss: 0.0264 - mae: 0.1053\n",
            "Epoch 30/40\n",
            "28/28 [==============================] - 0s 12ms/step - loss: 0.0265 - mae: 0.1016\n",
            "Epoch 31/40\n",
            "28/28 [==============================] - 0s 11ms/step - loss: 0.0247 - mae: 0.0947\n",
            "Epoch 32/40\n",
            "28/28 [==============================] - 0s 11ms/step - loss: 0.0249 - mae: 0.0978\n",
            "Epoch 33/40\n",
            "28/28 [==============================] - 0s 11ms/step - loss: 0.0244 - mae: 0.0976\n",
            "Epoch 34/40\n",
            "28/28 [==============================] - 0s 10ms/step - loss: 0.0243 - mae: 0.0940\n",
            "Epoch 35/40\n",
            "28/28 [==============================] - 0s 10ms/step - loss: 0.0247 - mae: 0.0966\n",
            "Epoch 36/40\n",
            "28/28 [==============================] - 0s 11ms/step - loss: 0.0248 - mae: 0.0964\n",
            "Epoch 37/40\n",
            "28/28 [==============================] - 0s 11ms/step - loss: 0.0250 - mae: 0.1019\n",
            "Epoch 38/40\n",
            "28/28 [==============================] - 0s 10ms/step - loss: 0.0238 - mae: 0.0958\n",
            "Epoch 39/40\n",
            "28/28 [==============================] - 0s 12ms/step - loss: 0.0242 - mae: 0.0930\n",
            "Epoch 40/40\n",
            "28/28 [==============================] - 0s 10ms/step - loss: 0.0244 - mae: 0.0966\n"
          ],
          "name": "stdout"
        },
        {
          "output_type": "execute_result",
          "data": {
            "text/plain": [
              "<tensorflow.python.keras.callbacks.History at 0x7fdd03542668>"
            ]
          },
          "metadata": {
            "tags": []
          },
          "execution_count": 51
        }
      ]
    },
    {
      "cell_type": "code",
      "metadata": {
        "id": "uVkikigO2Nqf",
        "colab_type": "code",
        "colab": {
          "base_uri": "https://localhost:8080/",
          "height": 279
        },
        "outputId": "1f075434-e94c-4fcb-d225-74952cffa95c"
      },
      "source": [
        "plt.plot(model.history.history['loss'])\n",
        "plt.ylabel('Loss')\n",
        "plt.xlabel('epoch')\n",
        "plt.legend(['train', 'val'], loc='upper left')\n",
        "plt.grid()\n",
        "plt.show()"
      ],
      "execution_count": 52,
      "outputs": [
        {
          "output_type": "display_data",
          "data": {
            "image/png": "[encoded data removed]",
            "text/plain": [
              "<Figure size 432x288 with 1 Axes>"
            ]
          },
          "metadata": {
            "tags": [],
            "needs_background": "light"
          }
        }
      ]
    },
    {
      "cell_type": "code",
      "metadata": {
        "id": "O8oPGkju2N4W",
        "colab_type": "code",
        "colab": {}
      },
      "source": [
        "pred=[]\n",
        "for i in X[-1]:\n",
        "    pred.append(i)"
      ],
      "execution_count": 53,
      "outputs": []
    },
    {
      "cell_type": "code",
      "metadata": {
        "id": "KgUklWsS2Nz_",
        "colab_type": "code",
        "colab": {
          "base_uri": "https://localhost:8080/",
          "height": 34
        },
        "outputId": "f466df51-76c5-4065-f0ca-829cc86a56d5"
      },
      "source": [
        "X[-1].shape"
      ],
      "execution_count": 54,
      "outputs": [
        {
          "output_type": "execute_result",
          "data": {
            "text/plain": [
              "(20, 3)"
            ]
          },
          "metadata": {
            "tags": []
          },
          "execution_count": 54
        }
      ]
    },
    {
      "cell_type": "code",
      "metadata": {
        "id": "ynaV89sp2Nxi",
        "colab_type": "code",
        "colab": {}
      },
      "source": [
        "pred.append(model.predict(X[-1].reshape(1,20,3)))"
      ],
      "execution_count": 55,
      "outputs": []
    },
    {
      "cell_type": "code",
      "metadata": {
        "id": "fT1vRUQ42Nu5",
        "colab_type": "code",
        "colab": {
          "base_uri": "https://localhost:8080/",
          "height": 34
        },
        "outputId": "949619b0-feb1-46b2-9b24-defc911dba98"
      },
      "source": [
        "len(pred)"
      ],
      "execution_count": 56,
      "outputs": [
        {
          "output_type": "execute_result",
          "data": {
            "text/plain": [
              "21"
            ]
          },
          "metadata": {
            "tags": []
          },
          "execution_count": 56
        }
      ]
    },
    {
      "cell_type": "code",
      "metadata": {
        "id": "kNdwNoNj2NkP",
        "colab_type": "code",
        "colab": {}
      },
      "source": [
        "forcast=[]\n",
        "for i in range(10):\n",
        "    pred.reverse()\n",
        "    pred.pop()\n",
        "    pred.reverse()\n",
        "    forcast.append(model.predict(np.vstack( pred ).reshape(1,20,3)))\n",
        "    pred.append(model.predict(np.vstack( pred ).reshape(1,20,3))) "
      ],
      "execution_count": 57,
      "outputs": []
    },
    {
      "cell_type": "code",
      "metadata": {
        "id": "h7CZXR8_2NiP",
        "colab_type": "code",
        "colab": {}
      },
      "source": [
        "predictions=sc.inverse_transform(np.vstack(forcast))"
      ],
      "execution_count": 58,
      "outputs": []
    },
    {
      "cell_type": "markdown",
      "metadata": {
        "id": "TQUdemBLbqlz",
        "colab_type": "text"
      },
      "source": [
        "# 10 days forecasting with GRU"
      ]
    },
    {
      "cell_type": "code",
      "metadata": {
        "id": "Rtvv-QWQ2NgR",
        "colab_type": "code",
        "colab": {
          "base_uri": "https://localhost:8080/",
          "height": 307
        },
        "outputId": "1ef59f50-25ac-4a6d-de8b-3e4d1c260f5a"
      },
      "source": [
        "plt.figure()\n",
        "plt.plot(sc.inverse_transform(data)[:,0],label=\"Real Data\")\n",
        "plt.plot(pd.DataFrame(predictions[:,0],index=range(data.shape[0],data.shape[0]+10)),label=\"Predicted Data\",c=\"r\",linestyle='dotted')\n",
        "plt.ylabel(\"Confirmed Cases\")\n",
        "plt.xlabel(\"Confirmed Cases from 6 March to 16 Aug\")\n",
        "plt.legend(bbox_to_anchor =(0.95, 1.15), ncol = 2)\n",
        "plt.grid()\n",
        "plt.show()"
      ],
      "execution_count": 59,
      "outputs": [
        {
          "output_type": "display_data",
          "data": {
            "image/png": "[encoded data removed]",
            "text/plain": [
              "<Figure size 432x288 with 1 Axes>"
            ]
          },
          "metadata": {
            "tags": [],
            "needs_background": "light"
          }
        }
      ]
    },
    {
      "cell_type": "markdown",
      "metadata": {
        "id": "doyklKUYcIG2",
        "colab_type": "text"
      },
      "source": [
        "# Ensemble Bothe algorithm"
      ]
    },
    {
      "cell_type": "code",
      "metadata": {
        "id": "pEyGPHWA2Ndu",
        "colab_type": "code",
        "colab": {}
      },
      "source": [
        "y=sc.inverse_transform(data)[:,0]"
      ],
      "execution_count": 60,
      "outputs": []
    },
    {
      "cell_type": "code",
      "metadata": {
        "id": "RwCZcsBW2Nao",
        "colab_type": "code",
        "colab": {}
      },
      "source": [
        "predictin_gru=pd.DataFrame(predictions[:,0],index=range(data.shape[0],data.shape[0]+10))"
      ],
      "execution_count": 61,
      "outputs": []
    },
    {
      "cell_type": "code",
      "metadata": {
        "id": "71gy5EnC2NYK",
        "colab_type": "code",
        "colab": {}
      },
      "source": [
        "ensemble=(predictin_gru+ predictin_lstm)/2"
      ],
      "execution_count": 62,
      "outputs": []
    },
    {
      "cell_type": "code",
      "metadata": {
        "id": "TMhlYx872NWP",
        "colab_type": "code",
        "colab": {
          "base_uri": "https://localhost:8080/",
          "height": 307
        },
        "outputId": "b82a7b91-9be0-4463-bdfc-bbdcad986722"
      },
      "source": [
        "plt.figure()\n",
        "plt.plot(y,label=\"Real Data\")\n",
        "plt.plot(ensemble,label=\"Predicted Data\",c=\"r\",linestyle='dotted')\n",
        "plt.ylabel(\"Confirmed Cases\")\n",
        "plt.xlabel(\"Confirmed Cases from 6 March to 16 Aug\")\n",
        "plt.legend(bbox_to_anchor =(0.95, 1.15), ncol = 2)\n",
        "plt.grid()\n",
        "plt.show()"
      ],
      "execution_count": 63,
      "outputs": [
        {
          "output_type": "display_data",
          "data": {
            "image/png": "[encoded data removed]",
            "text/plain": [
              "<Figure size 432x288 with 1 Axes>"
            ]
          },
          "metadata": {
            "tags": [],
            "needs_background": "light"
          }
        }
      ]
    },
    {
      "cell_type": "code",
      "metadata": {
        "id": "VFBlfhQd2NT4",
        "colab_type": "code",
        "colab": {}
      },
      "source": [
        ""
      ],
      "execution_count": 63,
      "outputs": []
    },
    {
      "cell_type": "code",
      "metadata": {
        "id": "3TU81BPW2NRa",
        "colab_type": "code",
        "colab": {}
      },
      "source": [
        ""
      ],
      "execution_count": null,
      "outputs": []
    },
    {
      "cell_type": "code",
      "metadata": {
        "id": "WwAh1T1Vs0PK",
        "colab_type": "code",
        "colab": {}
      },
      "source": [
        ""
      ],
      "execution_count": null,
      "outputs": []
    },
    {
      "cell_type": "markdown",
      "metadata": {
        "id": "Tw1SeOSO2R7a",
        "colab_type": "text"
      },
      "source": [
        "# > > > > > > > > >  > >             ---------- Ignore below code for testing purpose only\n",
        "\n",
        "---------------\n",
        "\n",
        "do evaluation of both model sepretly.\n",
        "train a model with full data for forecating and for evalution do different code.\n",
        "its\n",
        " improve the forecasting accuracy\n",
        "\n",
        " # Use MAE ( mean absolute error) for evaluation\n",
        " \n",
        " here we perform testing sepretly on both model\n",
        "\n"
      ]
    },
    {
      "cell_type": "code",
      "metadata": {
        "id": "rfyeW_hGVvJI",
        "colab_type": "code",
        "colab": {}
      },
      "source": [
        "data=df.drop(['total_tested'], axis=1)"
      ],
      "execution_count": null,
      "outputs": []
    },
    {
      "cell_type": "code",
      "metadata": {
        "id": "OR9EdXdXXclw",
        "colab_type": "code",
        "colab": {}
      },
      "source": [
        "label=df['confirmed']"
      ],
      "execution_count": null,
      "outputs": []
    },
    {
      "cell_type": "code",
      "metadata": {
        "id": "m6bOJEtozJZv",
        "colab_type": "code",
        "colab": {}
      },
      "source": [
        "from sklearn.preprocessing import MinMaxScaler\n",
        "sc = MinMaxScaler()\n",
        "Train = sc.fit_transform(data)"
      ],
      "execution_count": null,
      "outputs": []
    },
    {
      "cell_type": "code",
      "metadata": {
        "id": "_W2Ly5-kYTQq",
        "colab_type": "code",
        "colab": {}
      },
      "source": [
        "X_Train = []\n",
        "\n",
        "for i in range(10, Train.shape[0]):\n",
        "    \n",
        "    X_Train.append(Train[i-10:i])\n",
        "\n",
        "X_Train = np.array(X_Train)"
      ],
      "execution_count": null,
      "outputs": []
    },
    {
      "cell_type": "code",
      "metadata": {
        "id": "GyGqsr18zzGd",
        "colab_type": "code",
        "colab": {}
      },
      "source": [
        "from sklearn.preprocessing import MinMaxScaler\n",
        "scl = MinMaxScaler()\n",
        "Y_Train = scl.fit_transform(np.array(label.shift(-9)[0:120]).reshape(-1,1))"
      ],
      "execution_count": null,
      "outputs": []
    },
    {
      "cell_type": "code",
      "metadata": {
        "id": "4HajJ7dqcUVA",
        "colab_type": "code",
        "colab": {
          "base_uri": "https://localhost:8080/",
          "height": 34
        },
        "outputId": "59ddbcb5-a611-47fb-deeb-f898c326c5bc"
      },
      "source": [
        "print((X_Train.shape,Y_Train.shape))"
      ],
      "execution_count": null,
      "outputs": [
        {
          "output_type": "stream",
          "text": [
            "((120, 10, 3), (120, 1))\n"
          ],
          "name": "stdout"
        }
      ]
    },
    {
      "cell_type": "markdown",
      "metadata": {
        "id": "tuTvSZERUsKI",
        "colab_type": "text"
      },
      "source": [
        "# Training testing splitting"
      ]
    },
    {
      "cell_type": "code",
      "metadata": {
        "id": "kiNpZOW0UrRJ",
        "colab_type": "code",
        "colab": {
          "base_uri": "https://localhost:8080/",
          "height": 34
        },
        "outputId": "002368a9-9e72-4066-c174-37ad9e4e2cd0"
      },
      "source": [
        "X_test=X_Train[-10:,:,:]\n",
        "y_test=Y_Train[-10:]\n",
        "X_train=X_Train[0:-10,:,:]\n",
        "Y_train=Y_Train[0:-10]\n",
        "print(X_train.shape,Y_train.shape,X_test.shape,y_test.shape)"
      ],
      "execution_count": null,
      "outputs": [
        {
          "output_type": "stream",
          "text": [
            "(110, 10, 3) (110, 1) (10, 10, 3) (10, 1)\n"
          ],
          "name": "stdout"
        }
      ]
    },
    {
      "cell_type": "code",
      "metadata": {
        "id": "A6L60TI4fKAZ",
        "colab_type": "code",
        "colab": {}
      },
      "source": [
        "regressor = Sequential()\n",
        "\n",
        "# Adding the first LSTM layer and some Dropout regularisation\n",
        "regressor.add(LSTM(units = 100, input_shape = (X_Train.shape[1], 3)))\n",
        "\n",
        "\n",
        "regressor.add(Dense(units = 1))\n",
        "\n",
        "# Compiling the RNN\n",
        "regressor.compile(optimizer = 'adam', loss = 'mse', metrics=['mae'])"
      ],
      "execution_count": null,
      "outputs": []
    },
    {
      "cell_type": "code",
      "metadata": {
        "id": "I-rmR4AvhSYa",
        "colab_type": "code",
        "colab": {
          "base_uri": "https://localhost:8080/",
          "height": 1000
        },
        "outputId": "328f5845-12f0-47fb-9429-fa00e3d7fc59"
      },
      "source": [
        "regressor.fit(X_Train, Y_Train, epochs = 40,batch_size = 4)"
      ],
      "execution_count": null,
      "outputs": [
        {
          "output_type": "stream",
          "text": [
            "Epoch 1/40\n",
            "30/30 [==============================] - 0s 5ms/step - loss: 0.0677 - mae: 0.2019\n",
            "Epoch 2/40\n",
            "30/30 [==============================] - 0s 5ms/step - loss: 0.0081 - mae: 0.0683\n",
            "Epoch 3/40\n",
            "30/30 [==============================] - 0s 5ms/step - loss: 0.0015 - mae: 0.0284\n",
            "Epoch 4/40\n",
            "30/30 [==============================] - 0s 6ms/step - loss: 7.8815e-04 - mae: 0.0225\n",
            "Epoch 5/40\n",
            "30/30 [==============================] - 0s 5ms/step - loss: 9.5490e-04 - mae: 0.0257\n",
            "Epoch 6/40\n",
            "30/30 [==============================] - 0s 4ms/step - loss: 7.6343e-04 - mae: 0.0229\n",
            "Epoch 7/40\n",
            "30/30 [==============================] - 0s 4ms/step - loss: 7.0350e-04 - mae: 0.0220\n",
            "Epoch 8/40\n",
            "30/30 [==============================] - 0s 4ms/step - loss: 6.0934e-04 - mae: 0.0199\n",
            "Epoch 9/40\n",
            "30/30 [==============================] - 0s 4ms/step - loss: 5.6879e-04 - mae: 0.0196\n",
            "Epoch 10/40\n",
            "30/30 [==============================] - 0s 4ms/step - loss: 6.9270e-04 - mae: 0.0216\n",
            "Epoch 11/40\n",
            "30/30 [==============================] - 0s 4ms/step - loss: 4.9680e-04 - mae: 0.0186\n",
            "Epoch 12/40\n",
            "30/30 [==============================] - 0s 4ms/step - loss: 5.9271e-04 - mae: 0.0192\n",
            "Epoch 13/40\n",
            "30/30 [==============================] - 0s 4ms/step - loss: 4.6085e-04 - mae: 0.0176\n",
            "Epoch 14/40\n",
            "30/30 [==============================] - 0s 4ms/step - loss: 4.9774e-04 - mae: 0.0185\n",
            "Epoch 15/40\n",
            "30/30 [==============================] - 0s 4ms/step - loss: 4.3120e-04 - mae: 0.0169\n",
            "Epoch 16/40\n",
            "30/30 [==============================] - 0s 4ms/step - loss: 4.6336e-04 - mae: 0.0176\n",
            "Epoch 17/40\n",
            "30/30 [==============================] - 0s 4ms/step - loss: 4.5695e-04 - mae: 0.0176\n",
            "Epoch 18/40\n",
            "30/30 [==============================] - 0s 4ms/step - loss: 3.7191e-04 - mae: 0.0156\n",
            "Epoch 19/40\n",
            "30/30 [==============================] - 0s 4ms/step - loss: 3.9051e-04 - mae: 0.0161\n",
            "Epoch 20/40\n",
            "30/30 [==============================] - 0s 4ms/step - loss: 4.9883e-04 - mae: 0.0181\n",
            "Epoch 21/40\n",
            "30/30 [==============================] - 0s 4ms/step - loss: 3.9144e-04 - mae: 0.0163\n",
            "Epoch 22/40\n",
            "30/30 [==============================] - 0s 5ms/step - loss: 5.0362e-04 - mae: 0.0190\n",
            "Epoch 23/40\n",
            "30/30 [==============================] - 0s 4ms/step - loss: 4.5323e-04 - mae: 0.0177\n",
            "Epoch 24/40\n",
            "30/30 [==============================] - 0s 4ms/step - loss: 4.1207e-04 - mae: 0.0168\n",
            "Epoch 25/40\n",
            "30/30 [==============================] - 0s 4ms/step - loss: 3.3391e-04 - mae: 0.0148\n",
            "Epoch 26/40\n",
            "30/30 [==============================] - 0s 4ms/step - loss: 3.1749e-04 - mae: 0.0142\n",
            "Epoch 27/40\n",
            "30/30 [==============================] - 0s 5ms/step - loss: 3.1597e-04 - mae: 0.0146\n",
            "Epoch 28/40\n",
            "30/30 [==============================] - 0s 4ms/step - loss: 3.6536e-04 - mae: 0.0157\n",
            "Epoch 29/40\n",
            "30/30 [==============================] - 0s 4ms/step - loss: 2.7692e-04 - mae: 0.0139\n",
            "Epoch 30/40\n",
            "30/30 [==============================] - 0s 4ms/step - loss: 2.9985e-04 - mae: 0.0139\n",
            "Epoch 31/40\n",
            "30/30 [==============================] - 0s 5ms/step - loss: 2.8385e-04 - mae: 0.0137\n",
            "Epoch 32/40\n",
            "30/30 [==============================] - 0s 6ms/step - loss: 2.7732e-04 - mae: 0.0138\n",
            "Epoch 33/40\n",
            "30/30 [==============================] - 0s 5ms/step - loss: 4.1503e-04 - mae: 0.0169\n",
            "Epoch 34/40\n",
            "30/30 [==============================] - 0s 5ms/step - loss: 2.7561e-04 - mae: 0.0141\n",
            "Epoch 35/40\n",
            "30/30 [==============================] - 0s 4ms/step - loss: 3.1645e-04 - mae: 0.0148\n",
            "Epoch 36/40\n",
            "30/30 [==============================] - 0s 4ms/step - loss: 3.9866e-04 - mae: 0.0160\n",
            "Epoch 37/40\n",
            "30/30 [==============================] - 0s 4ms/step - loss: 2.6659e-04 - mae: 0.0135\n",
            "Epoch 38/40\n",
            "30/30 [==============================] - 0s 4ms/step - loss: 2.2027e-04 - mae: 0.0120\n",
            "Epoch 39/40\n",
            "30/30 [==============================] - 0s 4ms/step - loss: 2.9830e-04 - mae: 0.0143\n",
            "Epoch 40/40\n",
            "30/30 [==============================] - 0s 4ms/step - loss: 2.2724e-04 - mae: 0.0120\n"
          ],
          "name": "stdout"
        },
        {
          "output_type": "execute_result",
          "data": {
            "text/plain": [
              "<tensorflow.python.keras.callbacks.History at 0x7f6f6acc94e0>"
            ]
          },
          "metadata": {
            "tags": []
          },
          "execution_count": 417
        }
      ]
    },
    {
      "cell_type": "code",
      "metadata": {
        "id": "r7EFNpXZhYDC",
        "colab_type": "code",
        "colab": {
          "base_uri": "https://localhost:8080/",
          "height": 280
        },
        "outputId": "8612d9c9-eb9e-433c-c494-671e6efc366f"
      },
      "source": [
        "plt.plot(regressor.history.history['loss'])\n",
        "plt.ylabel('Loss')\n",
        "plt.xlabel('epoch')\n",
        "plt.legend(['train', 'val'], loc='upper left')\n",
        "plt.grid()\n",
        "plt.show()"
      ],
      "execution_count": null,
      "outputs": [
        {
          "output_type": "display_data",
          "data": {
            "image/png": "[encoded data removed]",
            "text/plain": [
              "<Figure size 432x288 with 1 Axes>"
            ]
          },
          "metadata": {
            "tags": [],
            "needs_background": "light"
          }
        }
      ]
    },
    {
      "cell_type": "code",
      "metadata": {
        "id": "vhwY21ITSHHu",
        "colab_type": "code",
        "colab": {}
      },
      "source": [
        "y_pred1=scl.inverse_transform(regressor.predict(X_test))"
      ],
      "execution_count": null,
      "outputs": []
    },
    {
      "cell_type": "code",
      "metadata": {
        "id": "OakkOlITWVtq",
        "colab_type": "code",
        "colab": {
          "base_uri": "https://localhost:8080/",
          "height": 194
        },
        "outputId": "8afd7e1c-6af2-42cf-9388-ee66a23e36b8"
      },
      "source": [
        "y_pred1"
      ],
      "execution_count": null,
      "outputs": [
        {
          "output_type": "execute_result",
          "data": {
            "text/plain": [
              "array([[10446.432],\n",
              "       [10708.552],\n",
              "       [10834.46 ],\n",
              "       [10914.589],\n",
              "       [11085.282],\n",
              "       [11214.578],\n",
              "       [11329.756],\n",
              "       [11509.166],\n",
              "       [11663.105],\n",
              "       [11816.283]], dtype=float32)"
            ]
          },
          "metadata": {
            "tags": []
          },
          "execution_count": 420
        }
      ]
    },
    {
      "cell_type": "code",
      "metadata": {
        "id": "Vt72F6eoWVb6",
        "colab_type": "code",
        "colab": {}
      },
      "source": [
        "y_test=scl.inverse_transform(y_test)"
      ],
      "execution_count": null,
      "outputs": []
    },
    {
      "cell_type": "code",
      "metadata": {
        "id": "dsGRlcAwWVZI",
        "colab_type": "code",
        "colab": {
          "base_uri": "https://localhost:8080/",
          "height": 194
        },
        "outputId": "875aebf3-b9bd-474b-f0c5-8b10ce5e5894"
      },
      "source": [
        "y_test"
      ],
      "execution_count": null,
      "outputs": [
        {
          "output_type": "execute_result",
          "data": {
            "text/plain": [
              "array([[10843.],\n",
              "       [10843.],\n",
              "       [11146.],\n",
              "       [11240.],\n",
              "       [11296.],\n",
              "       [11430.],\n",
              "       [11430.],\n",
              "       [11969.],\n",
              "       [12053.],\n",
              "       [12053.]])"
            ]
          },
          "metadata": {
            "tags": []
          },
          "execution_count": 422
        }
      ]
    },
    {
      "cell_type": "code",
      "metadata": {
        "id": "WvsbgEQUXBst",
        "colab_type": "code",
        "colab": {
          "base_uri": "https://localhost:8080/",
          "height": 294
        },
        "outputId": "f0e1c57c-8aad-4cb8-f4bb-d4393c4f9334"
      },
      "source": [
        "plt.figure()\n",
        "plt.plot(y_test,label=\"Testing Data\",c=\"b\")\n",
        "plt.plot(y_pred1,label=\"Predicted Data\",c=\"r\")\n",
        "plt.ylabel(\"Confirmed Cases\")\n",
        "plt.xlabel(\"Last 10 Days\")\n",
        "plt.legend()\n",
        "plt.grid()\n",
        "plt.title('Prediction With LSTM')\n",
        "plt.show()"
      ],
      "execution_count": null,
      "outputs": [
        {
          "output_type": "display_data",
          "data": {
            "image/png": "[encoded data removed]",
            "text/plain": [
              "<Figure size 432x288 with 1 Axes>"
            ]
          },
          "metadata": {
            "tags": [],
            "needs_background": "light"
          }
        }
      ]
    },
    {
      "cell_type": "code",
      "metadata": {
        "id": "imqgZZrMduXT",
        "colab_type": "code",
        "colab": {}
      },
      "source": [
        ""
      ],
      "execution_count": null,
      "outputs": []
    },
    {
      "cell_type": "code",
      "metadata": {
        "id": "6Mi9Hy58d2QA",
        "colab_type": "code",
        "colab": {}
      },
      "source": [
        ""
      ],
      "execution_count": null,
      "outputs": []
    },
    {
      "cell_type": "code",
      "metadata": {
        "id": "78G2OEDnezfg",
        "colab_type": "code",
        "colab": {}
      },
      "source": [
        "from sklearn.metrics import mean_absolute_error"
      ],
      "execution_count": null,
      "outputs": []
    },
    {
      "cell_type": "code",
      "metadata": {
        "id": "kmsxc3usezl6",
        "colab_type": "code",
        "colab": {
          "base_uri": "https://localhost:8080/",
          "height": 34
        },
        "outputId": "4db45725-7446-44aa-a16e-277226db77a0"
      },
      "source": [
        "mean_absolute_error(y_test,y_pred1)"
      ],
      "execution_count": null,
      "outputs": [
        {
          "output_type": "execute_result",
          "data": {
            "text/plain": [
              "278.0796875000002"
            ]
          },
          "metadata": {
            "tags": []
          },
          "execution_count": 425
        }
      ]
    },
    {
      "cell_type": "code",
      "metadata": {
        "id": "m2zNqRuNd2M7",
        "colab_type": "code",
        "colab": {}
      },
      "source": [
        ""
      ],
      "execution_count": null,
      "outputs": []
    },
    {
      "cell_type": "code",
      "metadata": {
        "id": "Cf7tf50vXWJM",
        "colab_type": "code",
        "colab": {}
      },
      "source": [
        "regressor = Sequential()\n",
        "\n",
        "# Adding the first GRu layer and some Dropout regularisation\n",
        "regressor.add(GRU(units = 100, input_shape = (X_Train.shape[1], 3)))\n",
        "\n",
        "regressor.add(Dense(units = 1))\n",
        "\n",
        "# Compiling the RNN\n",
        "regressor.compile(optimizer = 'adam', loss = 'mse')"
      ],
      "execution_count": null,
      "outputs": []
    },
    {
      "cell_type": "code",
      "metadata": {
        "id": "ij4uKGrLYRns",
        "colab_type": "code",
        "colab": {
          "base_uri": "https://localhost:8080/",
          "height": 1000
        },
        "outputId": "778379fa-eb45-432b-9896-dd4f713b71a0"
      },
      "source": [
        "regressor.fit(X_Train, Y_Train, epochs = 40,batch_size = 4)"
      ],
      "execution_count": null,
      "outputs": [
        {
          "output_type": "stream",
          "text": [
            "Epoch 1/40\n",
            "30/30 [==============================] - 0s 4ms/step - loss: 0.0300\n",
            "Epoch 2/40\n",
            "30/30 [==============================] - 0s 4ms/step - loss: 0.0029\n",
            "Epoch 3/40\n",
            "30/30 [==============================] - 0s 4ms/step - loss: 8.3047e-04\n",
            "Epoch 4/40\n",
            "30/30 [==============================] - 0s 4ms/step - loss: 4.7996e-04\n",
            "Epoch 5/40\n",
            "30/30 [==============================] - 0s 4ms/step - loss: 2.5100e-04\n",
            "Epoch 6/40\n",
            "30/30 [==============================] - 0s 4ms/step - loss: 2.6772e-04\n",
            "Epoch 7/40\n",
            "30/30 [==============================] - 0s 4ms/step - loss: 1.8121e-04\n",
            "Epoch 8/40\n",
            "30/30 [==============================] - 0s 4ms/step - loss: 1.6376e-04\n",
            "Epoch 9/40\n",
            "30/30 [==============================] - 0s 4ms/step - loss: 1.5459e-04\n",
            "Epoch 10/40\n",
            "30/30 [==============================] - 0s 4ms/step - loss: 1.4026e-04\n",
            "Epoch 11/40\n",
            "30/30 [==============================] - 0s 4ms/step - loss: 1.6873e-04\n",
            "Epoch 12/40\n",
            "30/30 [==============================] - 0s 4ms/step - loss: 1.8421e-04\n",
            "Epoch 13/40\n",
            "30/30 [==============================] - 0s 4ms/step - loss: 2.4786e-04\n",
            "Epoch 14/40\n",
            "30/30 [==============================] - 0s 4ms/step - loss: 1.8791e-04\n",
            "Epoch 15/40\n",
            "30/30 [==============================] - 0s 4ms/step - loss: 1.7369e-04\n",
            "Epoch 16/40\n",
            "30/30 [==============================] - 0s 4ms/step - loss: 1.4521e-04\n",
            "Epoch 17/40\n",
            "30/30 [==============================] - 0s 4ms/step - loss: 1.9593e-04\n",
            "Epoch 18/40\n",
            "30/30 [==============================] - 0s 4ms/step - loss: 1.2967e-04\n",
            "Epoch 19/40\n",
            "30/30 [==============================] - 0s 4ms/step - loss: 1.7295e-04\n",
            "Epoch 20/40\n",
            "30/30 [==============================] - 0s 4ms/step - loss: 1.2789e-04\n",
            "Epoch 21/40\n",
            "30/30 [==============================] - 0s 4ms/step - loss: 9.7501e-05\n",
            "Epoch 22/40\n",
            "30/30 [==============================] - 0s 4ms/step - loss: 9.2452e-05\n",
            "Epoch 23/40\n",
            "30/30 [==============================] - 0s 4ms/step - loss: 8.9977e-05\n",
            "Epoch 24/40\n",
            "30/30 [==============================] - 0s 5ms/step - loss: 1.1551e-04\n",
            "Epoch 25/40\n",
            "30/30 [==============================] - 0s 5ms/step - loss: 9.6758e-05\n",
            "Epoch 26/40\n",
            "30/30 [==============================] - 0s 5ms/step - loss: 1.5582e-04\n",
            "Epoch 27/40\n",
            "30/30 [==============================] - 0s 5ms/step - loss: 1.6477e-04\n",
            "Epoch 28/40\n",
            "30/30 [==============================] - 0s 4ms/step - loss: 1.2759e-04\n",
            "Epoch 29/40\n",
            "30/30 [==============================] - 0s 4ms/step - loss: 1.3011e-04\n",
            "Epoch 30/40\n",
            "30/30 [==============================] - 0s 4ms/step - loss: 1.0802e-04\n",
            "Epoch 31/40\n",
            "30/30 [==============================] - 0s 5ms/step - loss: 8.0354e-05\n",
            "Epoch 32/40\n",
            "30/30 [==============================] - 0s 5ms/step - loss: 7.6684e-05\n",
            "Epoch 33/40\n",
            "30/30 [==============================] - 0s 5ms/step - loss: 8.6544e-05\n",
            "Epoch 34/40\n",
            "30/30 [==============================] - 0s 4ms/step - loss: 1.0034e-04\n",
            "Epoch 35/40\n",
            "30/30 [==============================] - 0s 4ms/step - loss: 1.0371e-04\n",
            "Epoch 36/40\n",
            "30/30 [==============================] - 0s 4ms/step - loss: 8.0634e-05\n",
            "Epoch 37/40\n",
            "30/30 [==============================] - 0s 5ms/step - loss: 7.7989e-05\n",
            "Epoch 38/40\n",
            "30/30 [==============================] - 0s 5ms/step - loss: 6.2198e-05\n",
            "Epoch 39/40\n",
            "30/30 [==============================] - 0s 5ms/step - loss: 7.0634e-05\n",
            "Epoch 40/40\n",
            "30/30 [==============================] - 0s 5ms/step - loss: 9.0453e-05\n"
          ],
          "name": "stdout"
        },
        {
          "output_type": "execute_result",
          "data": {
            "text/plain": [
              "<tensorflow.python.keras.callbacks.History at 0x7f6f696aef98>"
            ]
          },
          "metadata": {
            "tags": []
          },
          "execution_count": 427
        }
      ]
    },
    {
      "cell_type": "code",
      "metadata": {
        "id": "7Lxg8XUjYmck",
        "colab_type": "code",
        "colab": {
          "base_uri": "https://localhost:8080/",
          "height": 278
        },
        "outputId": "e514349c-eb56-4b42-ce6f-626ea6dbec15"
      },
      "source": [
        "plt.plot(regressor.history.history['loss'])\n",
        "plt.ylabel('Loss')\n",
        "plt.xlabel('epoch')\n",
        "plt.legend(['train', 'val'], loc='upper left')\n",
        "plt.grid()\n",
        "plt.show()"
      ],
      "execution_count": null,
      "outputs": [
        {
          "output_type": "display_data",
          "data": {
            "image/png": "[encoded data removed]",
            "text/plain": [
              "<Figure size 432x288 with 1 Axes>"
            ]
          },
          "metadata": {
            "tags": [],
            "needs_background": "light"
          }
        }
      ]
    },
    {
      "cell_type": "code",
      "metadata": {
        "id": "3A9SujrZYqWz",
        "colab_type": "code",
        "colab": {}
      },
      "source": [
        "y_pred=scl.inverse_transform(regressor.predict(X_test))"
      ],
      "execution_count": null,
      "outputs": []
    },
    {
      "cell_type": "code",
      "metadata": {
        "id": "-_ObrPJIYvNv",
        "colab_type": "code",
        "colab": {
          "base_uri": "https://localhost:8080/",
          "height": 294
        },
        "outputId": "49653723-e334-419c-c80e-50113684cda0"
      },
      "source": [
        "#with GRU\n",
        "plt.figure()\n",
        "plt.plot(y_test,label=\"Testing Data\",c=\"b\")\n",
        "plt.plot(y_pred,label=\"Predicted Data\",c=\"r\")\n",
        "plt.ylabel(\"Confirmed Cases\")\n",
        "plt.xlabel(\"Last 10 Days\")\n",
        "plt.legend()\n",
        "plt.title('Prediction With GRU')\n",
        "plt.grid()\n",
        "plt.show()"
      ],
      "execution_count": null,
      "outputs": [
        {
          "output_type": "display_data",
          "data": {
            "image/png": "[encoded data removed]",
            "text/plain": [
              "<Figure size 432x288 with 1 Axes>"
            ]
          },
          "metadata": {
            "tags": [],
            "needs_background": "light"
          }
        }
      ]
    },
    {
      "cell_type": "code",
      "metadata": {
        "id": "lfKDOVCZhVFs",
        "colab_type": "code",
        "colab": {}
      },
      "source": [
        "from sklearn.metrics import mean_absolute_error"
      ],
      "execution_count": null,
      "outputs": []
    },
    {
      "cell_type": "code",
      "metadata": {
        "id": "nUfkyCcLhUx3",
        "colab_type": "code",
        "colab": {
          "base_uri": "https://localhost:8080/",
          "height": 34
        },
        "outputId": "2c5549fb-766d-4f74-9231-4d8320010b89"
      },
      "source": [
        "mean_absolute_error(y_test,y_pred)"
      ],
      "execution_count": null,
      "outputs": [
        {
          "output_type": "execute_result",
          "data": {
            "text/plain": [
              "122.70507812500018"
            ]
          },
          "metadata": {
            "tags": []
          },
          "execution_count": 432
        }
      ]
    },
    {
      "cell_type": "markdown",
      "metadata": {
        "id": "hRtLttlHlmTP",
        "colab_type": "text"
      },
      "source": [
        "# Ensemble the LSTM model with GRU model"
      ]
    },
    {
      "cell_type": "code",
      "metadata": {
        "id": "4lOuL4jjY4l2",
        "colab_type": "code",
        "colab": {}
      },
      "source": [
        "y_pred1\n",
        "y_pred\n",
        "y_pred_ensemble=(y_pred1+y_pred)/2"
      ],
      "execution_count": null,
      "outputs": []
    },
    {
      "cell_type": "code",
      "metadata": {
        "id": "ZtnEsG4PmIJQ",
        "colab_type": "code",
        "colab": {
          "base_uri": "https://localhost:8080/",
          "height": 194
        },
        "outputId": "7896ee55-5711-4441-f1f8-39758aba233e"
      },
      "source": [
        "y_pred_ensemble"
      ],
      "execution_count": null,
      "outputs": [
        {
          "output_type": "execute_result",
          "data": {
            "text/plain": [
              "array([[10586.885],\n",
              "       [10798.756],\n",
              "       [10893.846],\n",
              "       [11011.711],\n",
              "       [11160.878],\n",
              "       [11278.699],\n",
              "       [11369.373],\n",
              "       [11582.771],\n",
              "       [11761.763],\n",
              "       [11900.352]], dtype=float32)"
            ]
          },
          "metadata": {
            "tags": []
          },
          "execution_count": 434
        }
      ]
    },
    {
      "cell_type": "code",
      "metadata": {
        "id": "hgOqpmzbmXhS",
        "colab_type": "code",
        "colab": {
          "base_uri": "https://localhost:8080/",
          "height": 294
        },
        "outputId": "37f98b1e-3119-4365-f243-0a4f297c76b9"
      },
      "source": [
        "plt.figure()\n",
        "plt.plot(y_test,label=\"Actual Trend Of Data\",c=\"b\")\n",
        "plt.plot(y_pred_ensemble,label=\"Predicted Data\",c=\"r\")\n",
        "plt.ylabel(\"Confirmed Cases\")\n",
        "plt.xlabel(\"Last 10 Days\")\n",
        "plt.legend()\n",
        "plt.grid()\n",
        "plt.title('Prediction with LSTM+ GRU')\n",
        "plt.show()"
      ],
      "execution_count": null,
      "outputs": [
        {
          "output_type": "display_data",
          "data": {
            "image/png": "[encoded data removed]",
            "text/plain": [
              "<Figure size 432x288 with 1 Axes>"
            ]
          },
          "metadata": {
            "tags": [],
            "needs_background": "light"
          }
        }
      ]
    },
    {
      "cell_type": "code",
      "metadata": {
        "id": "p4sMYpvImhBi",
        "colab_type": "code",
        "colab": {
          "base_uri": "https://localhost:8080/",
          "height": 34
        },
        "outputId": "a12306da-19ac-41e8-b3d5-3fd00854112e"
      },
      "source": [
        "mean_absolute_error(y_test,y_pred_ensemble)"
      ],
      "execution_count": null,
      "outputs": [
        {
          "output_type": "execute_result",
          "data": {
            "text/plain": [
              "195.7966796875002"
            ]
          },
          "metadata": {
            "tags": []
          },
          "execution_count": 436
        }
      ]
    },
    {
      "cell_type": "code",
      "metadata": {
        "id": "Vo7yPHFqh7wv",
        "colab_type": "code",
        "colab": {}
      },
      "source": [
        ""
      ],
      "execution_count": null,
      "outputs": []
    }
  ]
}